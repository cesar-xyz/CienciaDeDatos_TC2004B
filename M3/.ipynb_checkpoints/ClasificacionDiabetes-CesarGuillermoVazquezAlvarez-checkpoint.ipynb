{
 "cells": [
  {
   "cell_type": "markdown",
   "id": "ae1a2c7e",
   "metadata": {},
   "source": [
    "<center> <h1>\n",
    "Análisis de ciencia de datos (TC-2004B)\n",
    "<h4>\n",
    "<center>César Guillermo Vázquez Alvarez A01197857\n",
    "<center>IDM - Ingeniería de Ciencia de Datos y Matemáticas"
   ]
  },
  {
   "cell_type": "markdown",
   "id": "2fdee321",
   "metadata": {},
   "source": [
    "# Aprendizaje Supervisado: Clasificadores (Diabetes)"
   ]
  },
  {
   "cell_type": "markdown",
   "id": "d9eb453c",
   "metadata": {},
   "source": [
    "## Fase 1. Exploración de los datos\n",
    "\n"
   ]
  },
  {
   "cell_type": "code",
   "execution_count": 1,
   "id": "e9c8869d",
   "metadata": {},
   "outputs": [],
   "source": [
    "# Quitar Warnings.\n",
    "def warn(*args, **kwargs):\n",
    "    pass\n",
    "import warnings\n",
    "warnings.warn = warn"
   ]
  },
  {
   "cell_type": "code",
   "execution_count": 2,
   "id": "f2bae273",
   "metadata": {},
   "outputs": [],
   "source": [
    "# Importar librerias\n",
    "%matplotlib inline\n",
    "import pandas as pd\n",
    "import numpy as np\n",
    "import matplotlib.pyplot as plt\n",
    "import seaborn as sns"
   ]
  },
  {
   "cell_type": "code",
   "execution_count": 3,
   "id": "faddadbd",
   "metadata": {},
   "outputs": [],
   "source": [
    "# Importar los datos\n",
    "diabetes = pd.read_csv('diabetes.csv')"
   ]
  },
  {
   "cell_type": "code",
   "execution_count": 4,
   "id": "62411ea3",
   "metadata": {},
   "outputs": [
    {
     "data": {
      "text/plain": [
       "Index(['Pregnancies', 'Glucose', 'BloodPressure', 'SkinThickness', 'Insulin',\n",
       "       'BMI', 'DiabetesPedigreeFunction', 'Age', 'Diabetes'],\n",
       "      dtype='object')"
      ]
     },
     "execution_count": 4,
     "metadata": {},
     "output_type": "execute_result"
    }
   ],
   "source": [
    "# Observar columnas en el conjunto de datos\n",
    "diabetes.columns"
   ]
  },
  {
   "cell_type": "code",
   "execution_count": 5,
   "id": "eda1fbdb",
   "metadata": {},
   "outputs": [
    {
     "data": {
      "text/html": [
       "<div>\n",
       "<style scoped>\n",
       "    .dataframe tbody tr th:only-of-type {\n",
       "        vertical-align: middle;\n",
       "    }\n",
       "\n",
       "    .dataframe tbody tr th {\n",
       "        vertical-align: top;\n",
       "    }\n",
       "\n",
       "    .dataframe thead th {\n",
       "        text-align: right;\n",
       "    }\n",
       "</style>\n",
       "<table border=\"1\" class=\"dataframe\">\n",
       "  <thead>\n",
       "    <tr style=\"text-align: right;\">\n",
       "      <th></th>\n",
       "      <th>Pregnancies</th>\n",
       "      <th>Glucose</th>\n",
       "      <th>BloodPressure</th>\n",
       "      <th>SkinThickness</th>\n",
       "      <th>Insulin</th>\n",
       "      <th>BMI</th>\n",
       "      <th>DiabetesPedigreeFunction</th>\n",
       "      <th>Age</th>\n",
       "      <th>Diabetes</th>\n",
       "    </tr>\n",
       "  </thead>\n",
       "  <tbody>\n",
       "    <tr>\n",
       "      <th>0</th>\n",
       "      <td>6</td>\n",
       "      <td>148</td>\n",
       "      <td>72</td>\n",
       "      <td>35</td>\n",
       "      <td>0</td>\n",
       "      <td>33.6</td>\n",
       "      <td>0.627</td>\n",
       "      <td>50</td>\n",
       "      <td>1</td>\n",
       "    </tr>\n",
       "    <tr>\n",
       "      <th>1</th>\n",
       "      <td>1</td>\n",
       "      <td>85</td>\n",
       "      <td>66</td>\n",
       "      <td>29</td>\n",
       "      <td>0</td>\n",
       "      <td>26.6</td>\n",
       "      <td>0.351</td>\n",
       "      <td>31</td>\n",
       "      <td>0</td>\n",
       "    </tr>\n",
       "    <tr>\n",
       "      <th>2</th>\n",
       "      <td>8</td>\n",
       "      <td>183</td>\n",
       "      <td>64</td>\n",
       "      <td>0</td>\n",
       "      <td>0</td>\n",
       "      <td>23.3</td>\n",
       "      <td>0.672</td>\n",
       "      <td>32</td>\n",
       "      <td>1</td>\n",
       "    </tr>\n",
       "    <tr>\n",
       "      <th>3</th>\n",
       "      <td>1</td>\n",
       "      <td>89</td>\n",
       "      <td>66</td>\n",
       "      <td>23</td>\n",
       "      <td>94</td>\n",
       "      <td>28.1</td>\n",
       "      <td>0.167</td>\n",
       "      <td>21</td>\n",
       "      <td>0</td>\n",
       "    </tr>\n",
       "    <tr>\n",
       "      <th>4</th>\n",
       "      <td>0</td>\n",
       "      <td>137</td>\n",
       "      <td>40</td>\n",
       "      <td>35</td>\n",
       "      <td>168</td>\n",
       "      <td>43.1</td>\n",
       "      <td>2.288</td>\n",
       "      <td>33</td>\n",
       "      <td>1</td>\n",
       "    </tr>\n",
       "  </tbody>\n",
       "</table>\n",
       "</div>"
      ],
      "text/plain": [
       "   Pregnancies  Glucose  BloodPressure  SkinThickness  Insulin   BMI  \\\n",
       "0            6      148             72             35        0  33.6   \n",
       "1            1       85             66             29        0  26.6   \n",
       "2            8      183             64              0        0  23.3   \n",
       "3            1       89             66             23       94  28.1   \n",
       "4            0      137             40             35      168  43.1   \n",
       "\n",
       "   DiabetesPedigreeFunction  Age  Diabetes  \n",
       "0                     0.627   50         1  \n",
       "1                     0.351   31         0  \n",
       "2                     0.672   32         1  \n",
       "3                     0.167   21         0  \n",
       "4                     2.288   33         1  "
      ]
     },
     "execution_count": 5,
     "metadata": {},
     "output_type": "execute_result"
    }
   ],
   "source": [
    "# Examinar los datos\n",
    "diabetes.head()"
   ]
  },
  {
   "cell_type": "code",
   "execution_count": 6,
   "id": "4dbff895",
   "metadata": {},
   "outputs": [
    {
     "name": "stdout",
     "output_type": "stream",
     "text": [
      "Diabetes data set dimensions : (768, 9)\n"
     ]
    }
   ],
   "source": [
    "# Encontrar dimensiones del conjunto de datos\n",
    "print(\"Diabetes data set dimensions : {}\".format(diabetes.shape))"
   ]
  },
  {
   "cell_type": "code",
   "execution_count": 7,
   "id": "4bcd1ee4",
   "metadata": {},
   "outputs": [
    {
     "data": {
      "text/plain": [
       "Diabetes\n",
       "0    500\n",
       "1    268\n",
       "dtype: int64"
      ]
     },
     "execution_count": 7,
     "metadata": {},
     "output_type": "execute_result"
    }
   ],
   "source": [
    "# Identificar el número de personas clasificadas con diabetes y sin diabetes. 1: con diabetes, 0: sin diabetes\n",
    "\n",
    "diabetes.groupby('Diabetes').size()"
   ]
  },
  {
   "cell_type": "code",
   "execution_count": 8,
   "id": "f8a5675f",
   "metadata": {},
   "outputs": [
    {
     "data": {
      "text/plain": [
       "Diabetes\n",
       "0    [[AxesSubplot(0.125,0.670278;0.215278x0.209722...\n",
       "1    [[AxesSubplot(0.125,0.670278;0.215278x0.209722...\n",
       "dtype: object"
      ]
     },
     "execution_count": 8,
     "metadata": {},
     "output_type": "execute_result"
    },
    {
     "data": {
      "image/png": "[encoded data removed]",
      "text/plain": [
       "<Figure size 648x648 with 9 Axes>"
      ]
     },
     "metadata": {
      "needs_background": "light"
     },
     "output_type": "display_data"
    },
    {
     "data": {
      "image/png": "[encoded data removed]",
      "text/plain": [
       "<Figure size 648x648 with 9 Axes>"
      ]
     },
     "metadata": {
      "needs_background": "light"
     },
     "output_type": "display_data"
    }
   ],
   "source": [
    "# Visualización de los datos\n",
    "diabetes.groupby('Diabetes').hist(figsize=(9, 9))"
   ]
  },
  {
   "cell_type": "markdown",
   "id": "b4e1bee2",
   "metadata": {},
   "source": [
    "## Fase 2. Limpieza de los datos\n",
    "\n"
   ]
  },
  {
   "cell_type": "code",
   "execution_count": 9,
   "id": "ef6e38bc",
   "metadata": {},
   "outputs": [
    {
     "data": {
      "text/plain": [
       "Pregnancies                 0\n",
       "Glucose                     0\n",
       "BloodPressure               0\n",
       "SkinThickness               0\n",
       "Insulin                     0\n",
       "BMI                         0\n",
       "DiabetesPedigreeFunction    0\n",
       "Age                         0\n",
       "Diabetes                    0\n",
       "dtype: int64"
      ]
     },
     "execution_count": 9,
     "metadata": {},
     "output_type": "execute_result"
    }
   ],
   "source": [
    "# Encontrar datos faltantes\n",
    "diabetes.isnull().sum()"
   ]
  },
  {
   "cell_type": "code",
   "execution_count": 10,
   "id": "8290cdb3",
   "metadata": {},
   "outputs": [
    {
     "data": {
      "text/plain": [
       "Pregnancies                 0\n",
       "Glucose                     0\n",
       "BloodPressure               0\n",
       "SkinThickness               0\n",
       "Insulin                     0\n",
       "BMI                         0\n",
       "DiabetesPedigreeFunction    0\n",
       "Age                         0\n",
       "Diabetes                    0\n",
       "dtype: int64"
      ]
     },
     "execution_count": 10,
     "metadata": {},
     "output_type": "execute_result"
    }
   ],
   "source": [
    "# Encontrar datos nulos\n",
    "diabetes.isna().sum()"
   ]
  },
  {
   "cell_type": "code",
   "execution_count": 11,
   "id": "ca709560",
   "metadata": {},
   "outputs": [
    {
     "name": "stdout",
     "output_type": "stream",
     "text": [
      "Total :  35\n",
      "Diabetes\n",
      "0    19\n",
      "1    16\n",
      "Name: Age, dtype: int64\n"
     ]
    }
   ],
   "source": [
    "# Encontrar valores atípicos según el histograma de 'BloodPreassure'\n",
    "\n",
    "print(\"Total : \", diabetes[diabetes.BloodPressure == 0].shape[0])\n",
    "print(diabetes[diabetes.BloodPressure == 0].groupby('Diabetes')['Age'].count())"
   ]
  },
  {
   "cell_type": "code",
   "execution_count": 12,
   "id": "38da58f6",
   "metadata": {},
   "outputs": [
    {
     "name": "stdout",
     "output_type": "stream",
     "text": [
      "Total :  5\n",
      "Diabetes\n",
      "0    3\n",
      "1    2\n",
      "Name: Age, dtype: int64\n"
     ]
    }
   ],
   "source": [
    "# Encontrar valores atípicos según el histograma de 'Glucose'\n",
    "print(\"Total : \", diabetes[diabetes.Glucose == 0].shape[0])\n",
    "print(diabetes[diabetes.Glucose == 0].groupby('Diabetes')['Age'].count())"
   ]
  },
  {
   "cell_type": "code",
   "execution_count": 13,
   "id": "a7852fb2",
   "metadata": {},
   "outputs": [
    {
     "name": "stdout",
     "output_type": "stream",
     "text": [
      "Total :  227\n",
      "Diabetes\n",
      "0    139\n",
      "1     88\n",
      "Name: Age, dtype: int64\n"
     ]
    }
   ],
   "source": [
    "# Encontrar valores atípicos según el histograma de 'SkinThickness'\n",
    "print(\"Total : \", diabetes[diabetes.SkinThickness == 0].shape[0])\n",
    "print(diabetes[diabetes.SkinThickness == 0].groupby('Diabetes')['Age'].count())"
   ]
  },
  {
   "cell_type": "code",
   "execution_count": 14,
   "id": "301ef4fc",
   "metadata": {},
   "outputs": [
    {
     "name": "stdout",
     "output_type": "stream",
     "text": [
      "Total :  11\n",
      "Diabetes\n",
      "0    9\n",
      "1    2\n",
      "Name: Age, dtype: int64\n"
     ]
    }
   ],
   "source": [
    "# Encontrar valores atípicos según el histograma de 'BMI'\n",
    "print(\"Total : \", diabetes[diabetes.BMI == 0].shape[0])\n",
    "print(diabetes[diabetes.BMI == 0].groupby('Diabetes')['Age'].count())"
   ]
  },
  {
   "cell_type": "code",
   "execution_count": 15,
   "id": "ccb30d5e",
   "metadata": {},
   "outputs": [
    {
     "name": "stdout",
     "output_type": "stream",
     "text": [
      "Total :  374\n",
      "Diabetes\n",
      "0    236\n",
      "1    138\n",
      "Name: Age, dtype: int64\n"
     ]
    }
   ],
   "source": [
    "# Encontrar valores atípicos según el histograma de 'Insulin'\n",
    "print(\"Total : \", diabetes[diabetes.Insulin == 0].shape[0])\n",
    "print(diabetes[diabetes.Insulin == 0].groupby('Diabetes')['Age'].count())"
   ]
  },
  {
   "cell_type": "code",
   "execution_count": 16,
   "id": "adfda232",
   "metadata": {},
   "outputs": [
    {
     "name": "stdout",
     "output_type": "stream",
     "text": [
      "(724, 9)\n"
     ]
    }
   ],
   "source": [
    "# Remover las filas que tengan cero en 'BloodPreassure', 'BMI' y 'Glucose'\n",
    "diabetes_mod = diabetes[(diabetes.BloodPressure != 0) & (diabetes.BMI != 0) & (diabetes.Glucose != 0)]\n",
    "print(diabetes_mod.shape)"
   ]
  },
  {
   "cell_type": "markdown",
   "id": "383493f0",
   "metadata": {},
   "source": [
    "## Fase 3. Ingeniería de características\n",
    "\n"
   ]
  },
  {
   "cell_type": "code",
   "execution_count": 17,
   "id": "c41c4d02",
   "metadata": {},
   "outputs": [],
   "source": [
    "# Separar el conjunto de datos en características (X) y la respuesta a predecir (y)\n",
    "feature_names = ['Pregnancies', 'Glucose', 'BloodPressure', 'SkinThickness', 'Insulin', 'BMI', 'DiabetesPedigreeFunction', 'Age']\n",
    "X = diabetes_mod[feature_names]\n",
    "y = diabetes_mod.Diabetes"
   ]
  },
  {
   "cell_type": "markdown",
   "id": "064a9669",
   "metadata": {},
   "source": [
    "## Fase 4. Selección del modelo\n",
    "\n"
   ]
  },
  {
   "cell_type": "code",
   "execution_count": 18,
   "id": "0ea715ca",
   "metadata": {},
   "outputs": [],
   "source": [
    "# Importar librerias y clasificadores\n",
    "from sklearn.neighbors import KNeighborsClassifier\n",
    "from sklearn.svm import SVC\n",
    "from sklearn.linear_model import LogisticRegression\n",
    "from sklearn.tree import DecisionTreeClassifier\n",
    "from sklearn.naive_bayes import GaussianNB\n",
    "from sklearn.ensemble import RandomForestClassifier\n",
    "from sklearn.ensemble import GradientBoostingClassifier"
   ]
  },
  {
   "cell_type": "code",
   "execution_count": 19,
   "id": "6603fed9",
   "metadata": {},
   "outputs": [],
   "source": [
    "# Iniciar los clasificadores con sus parámetros determinados y añadir cada uno a la lista de modelos\n",
    "models = []\n",
    "models.append(('KNN', KNeighborsClassifier()))\n",
    "models.append(('SVC', SVC()))\n",
    "models.append(('LR', LogisticRegression()))\n",
    "models.append(('DT', DecisionTreeClassifier()))\n",
    "models.append(('GNB', GaussianNB()))\n",
    "models.append(('RF', RandomForestClassifier()))\n",
    "models.append(('GB', GradientBoostingClassifier()))"
   ]
  },
  {
   "cell_type": "code",
   "execution_count": 20,
   "id": "9df7eaf6",
   "metadata": {},
   "outputs": [],
   "source": [
    "# Importar librerias para train/test split y k-fold cross-validation\n",
    "from sklearn.model_selection import train_test_split\n",
    "from sklearn.model_selection import KFold\n",
    "from sklearn.model_selection import cross_val_score\n",
    "from sklearn.metrics import accuracy_score # Para evaluar la precisión del modelo en el método train/test split"
   ]
  },
  {
   "cell_type": "code",
   "execution_count": 21,
   "id": "59c3da7a",
   "metadata": {},
   "outputs": [],
   "source": [
    "# Separar las características y respuesta\n",
    "X_train, X_test, y_train, y_test = train_test_split(X, y, stratify = diabetes_mod.Diabetes, random_state=0)"
   ]
  },
  {
   "cell_type": "code",
   "execution_count": 22,
   "id": "53556413",
   "metadata": {},
   "outputs": [
    {
     "name": "stdout",
     "output_type": "stream",
     "text": [
      "  Name     Score\n",
      "0  KNN  0.729282\n",
      "1  SVC  0.740331\n",
      "2   LR  0.762431\n",
      "3   DT  0.718232\n",
      "4  GNB  0.734807\n",
      "5   RF  0.773481\n",
      "6   GB  0.773481\n"
     ]
    }
   ],
   "source": [
    "# Ajustar cada modelo en un bucle y calcular la precisión del modelo respectivo usando el \"accuracy_score\".\n",
    "names = []\n",
    "scores = []\n",
    "for name, model in models:\n",
    "    model.fit(X_train, y_train)\n",
    "    y_pred = model.predict(X_test)\n",
    "    scores.append(accuracy_score(y_test, y_pred))\n",
    "    names.append(name)\n",
    "tr_split = pd.DataFrame({'Name': names, 'Score': scores})\n",
    "print(tr_split)"
   ]
  },
  {
   "cell_type": "code",
   "execution_count": 23,
   "id": "6c979f81",
   "metadata": {},
   "outputs": [
    {
     "name": "stdout",
     "output_type": "stream",
     "text": [
      "  Name     Score\n",
      "0  KNN  0.719787\n",
      "1  SVC  0.758581\n",
      "2   LR  0.763889\n",
      "3   DT  0.697660\n",
      "4  GNB  0.757021\n",
      "5   RF  0.769559\n",
      "6   GB  0.775038\n"
     ]
    }
   ],
   "source": [
    "# Entrenar los modelos con 10 folds y calcular el promedio de la precisión \n",
    "names = []\n",
    "scores = []\n",
    "for name, model in models:\n",
    "    \n",
    "    kfold = KFold(n_splits=10) # kfold = KFold(n_splits=10, random_state=10) \n",
    "    score = cross_val_score(model, X, y, cv=kfold, scoring='accuracy').mean() \n",
    "        # Proporciona su propia interfaz de entrenamiento y cálculo de precisión\n",
    "\n",
    "    names.append(name)\n",
    "    scores.append(score)\n",
    "kf_cross_val = pd.DataFrame({'Name': names, 'Score': scores})\n",
    "print(kf_cross_val)"
   ]
  },
  {
   "cell_type": "code",
   "execution_count": 24,
   "id": "e33d7b3e",
   "metadata": {},
   "outputs": [
    {
     "data": {
      "image/png": "[encoded data removed]",
      "text/plain": [
       "<Figure size 432x288 with 1 Axes>"
      ]
     },
     "metadata": {
      "needs_background": "light"
     },
     "output_type": "display_data"
    }
   ],
   "source": [
    "# Graficar las puntuaciones de precisión\n",
    "axis = sns.barplot(x = 'Name', y = 'Score', data = kf_cross_val)\n",
    "axis.set(xlabel='Classifier', ylabel='Accuracy')\n",
    "for p in axis.patches:\n",
    "    height = p.get_height()\n",
    "    axis.text(p.get_x() + p.get_width()/2, height + 0.005, '{:1.4f}'.format(height), ha=\"center\") \n",
    "    \n",
    "plt.show()"
   ]
  },
  {
   "cell_type": "markdown",
   "id": "99cc14fb",
   "metadata": {},
   "source": [
    "## Aplicación del modelo de redes neuronales\n",
    "\n",
    "Construiremos un modelo de red neuronal usando la libreria scikit-learn."
   ]
  },
  {
   "cell_type": "code",
   "execution_count": 25,
   "id": "25ad045a",
   "metadata": {},
   "outputs": [],
   "source": [
    "# Importamos 'MLPClassifier'\n",
    "from sklearn.neural_network import MLPClassifier"
   ]
  },
  {
   "cell_type": "code",
   "execution_count": 26,
   "id": "4869ce0d",
   "metadata": {},
   "outputs": [],
   "source": [
    "# Crear una instancia del modelo establecida en tres capas.\n",
    "mlp = MLPClassifier(hidden_layer_sizes=(8,8,8), activation='relu', solver='adam', max_iter=500)\n",
    "# Se selecciona 'relu' como la función de activación \n",
    "    # ‘relu’, the rectified linear unit function, returns f(x) = max(0, x)\n",
    "# Se selecciona 'adam' como solucionador para la optimización del peso\n",
    "    # ‘adam’ refers to a stochastic gradient-based optimizer proposed by Kingma, Diederik, and Jimmy Ba"
   ]
  },
  {
   "cell_type": "code",
   "execution_count": 27,
   "id": "e00f11e5",
   "metadata": {},
   "outputs": [
    {
     "data": {
      "text/plain": [
       "MLPClassifier(hidden_layer_sizes=(8, 8, 8), max_iter=500)"
      ]
     },
     "execution_count": 27,
     "metadata": {},
     "output_type": "execute_result"
    }
   ],
   "source": [
    "# Ajustar el modelo a los datos de entrenamiento     \n",
    "mlp.fit(X_train,y_train)"
   ]
  },
  {
   "cell_type": "code",
   "execution_count": 28,
   "id": "bfb081f8",
   "metadata": {},
   "outputs": [],
   "source": [
    "# Generar predicciones sobre el conjunto de datos de entrenamiento y prueba\n",
    "predict_train = mlp.predict(X_train)\n",
    "predict_test = mlp.predict(X_test)"
   ]
  },
  {
   "cell_type": "code",
   "execution_count": 29,
   "id": "0ad8e6cc",
   "metadata": {},
   "outputs": [
    {
     "name": "stdout",
     "output_type": "stream",
     "text": [
      "Entrenamiento:\n",
      "[[330  26]\n",
      " [111  76]]\n",
      "              precision    recall  f1-score   support\n",
      "\n",
      "           0       0.75      0.93      0.83       356\n",
      "           1       0.75      0.41      0.53       187\n",
      "\n",
      "    accuracy                           0.75       543\n",
      "   macro avg       0.75      0.67      0.68       543\n",
      "weighted avg       0.75      0.75      0.72       543\n",
      "\n",
      "Prueba:\n",
      "[[103  16]\n",
      " [ 43  19]]\n",
      "              precision    recall  f1-score   support\n",
      "\n",
      "           0       0.71      0.87      0.78       119\n",
      "           1       0.54      0.31      0.39        62\n",
      "\n",
      "    accuracy                           0.67       181\n",
      "   macro avg       0.62      0.59      0.58       181\n",
      "weighted avg       0.65      0.67      0.65       181\n",
      "\n"
     ]
    }
   ],
   "source": [
    "# Evaluación del rendimiento\n",
    "# Importar módulos\n",
    "from sklearn.metrics import classification_report,confusion_matrix\n",
    "\n",
    "# Imprimir matriz de confusión y los resultados del informe de confusión sobre los datos de entrenamiento\n",
    "print('Entrenamiento:')\n",
    "print(confusion_matrix(y_train,predict_train))\n",
    "print(classification_report(y_train,predict_train))\n",
    "\n",
    "# Imprimir matriz de confusión y los resultados del informe de confusión sobre los datos de prueba\n",
    "print('Prueba:')\n",
    "print(confusion_matrix(y_test,predict_test))\n",
    "print(classification_report(y_test,predict_test))"
   ]
  },
  {
   "cell_type": "markdown",
   "id": "96a8f948",
   "metadata": {},
   "source": [
    "## Preguntas\n",
    "\n",
    "**¿Qué aspectos se revisaron para la preparación de datos?**\n",
    "\n",
    "Primero se observaron los datos, despues se realizo una limpeza de los datos nulos y columnas que no heran necesarias para modelo.\n",
    "\n",
    "\n",
    "**¿Qué cambios se hicieron?**\n",
    "\n",
    "Se eliminaron los datos que no necesitabamos de la dataframe para despues utilizarlos en el modelo.\n",
    "\n",
    "\n",
    "**¿Qué modelos de aprendizaje se probaron?**\n",
    "\n",
    "Utilice un modelo Multi-layer Perceptron classifier con una función de activación relu y solucionador adam.\n",
    "\n",
    "\n",
    "**Compara el resultado de todos los modelos. ¿Cuál es mejor?**\n",
    "\n",
    "Por la naturaleza de los datos las redes neuronales son la mejor opción en este caso las \"Multi-layer Perceptron classifier\" probe otros activadores y solucionadores y los mejores si són relu y adam respectivamente.\n"
   ]
  },
  {
   "cell_type": "markdown",
   "id": "7c109cbe",
   "metadata": {},
   "source": [
    "## Conclusión\n",
    "\n",
    "Me encantó ver el uso de las redes neuronales en la clase, y creo que como estudiante ha sido un gran beneficio aprender sobre estos complejos algoritmos. La capacidad de reconocer rápidamente patrones y sugerir conexiones entre ellos ha sido especialmente útil a la hora de estudiar para los exámenes y las tareas. También el poder aplicarlos estas redes neuronales en nuestras propias necesidades de un futuro en diferentes áreas de estudia, lo que ha sido emocionante y gratificante. Me encantaría aprender más sobre las redes neuronales y verlas utilizadas en más clases en el futuro.\n",
    "\n",
    "La verdad el poder hacer este tipo de actividades me enriquecen en mi desarrollo tanto académico como laboral, y me siento muy comodo trabajando en estas actividades por que aprendo y pongo en practica lo visto en clase."
   ]
  },
  {
   "cell_type": "markdown",
   "id": "5b478eb7",
   "metadata": {},
   "source": [
    "# Visualización de árboles de Decisión\n",
    "\n",
    "Apartir de dós metodos diferentes visualizaremos el árbol de predicción de cáncer:\n",
    "\n",
    "- Representar el árbol de decisión en texto impreso\n",
    "\n",
    "- Visualizar árbol de decisión con graphviz"
   ]
  },
  {
   "cell_type": "markdown",
   "id": "701f88a0",
   "metadata": {},
   "source": [
    "## Representar el árbol de decisión en texto impreso"
   ]
  },
  {
   "cell_type": "code",
   "execution_count": 30,
   "id": "f28e2b7e",
   "metadata": {},
   "outputs": [],
   "source": [
    "# Arboles de decisión\n",
    "from sklearn.tree import DecisionTreeClassifier\n",
    "algoritmo = DecisionTreeClassifier(criterion = 'entropy')\n",
    "\n",
    "# Entrenar el modelo\n",
    "algoritmo.fit(X_train, y_train)\n",
    "\n",
    "# Realizar una predicción\n",
    "y_pred = algoritmo.predict(X_test)"
   ]
  },
  {
   "cell_type": "code",
   "execution_count": 31,
   "id": "4f6757e4",
   "metadata": {},
   "outputs": [
    {
     "name": "stdout",
     "output_type": "stream",
     "text": [
      "|--- feature_1 <= 147.50\n",
      "|   |--- feature_5 <= 26.30\n",
      "|   |   |--- feature_6 <= 0.68\n",
      "|   |   |   |--- class: 0\n",
      "|   |   |--- feature_6 >  0.68\n",
      "|   |   |   |--- feature_6 <= 0.71\n",
      "|   |   |   |   |--- class: 1\n",
      "|   |   |   |--- feature_6 >  0.71\n",
      "|   |   |   |   |--- class: 0\n",
      "|   |--- feature_5 >  26.30\n",
      "|   |   |--- feature_7 <= 30.50\n",
      "|   |   |   |--- feature_1 <= 116.50\n",
      "|   |   |   |   |--- feature_5 <= 30.95\n",
      "|   |   |   |   |   |--- class: 0\n",
      "|   |   |   |   |--- feature_5 >  30.95\n",
      "|   |   |   |   |   |--- feature_5 <= 45.40\n",
      "|   |   |   |   |   |   |--- feature_5 <= 38.30\n",
      "|   |   |   |   |   |   |   |--- feature_6 <= 0.78\n",
      "|   |   |   |   |   |   |   |   |--- feature_5 <= 31.10\n",
      "|   |   |   |   |   |   |   |   |   |--- class: 1\n",
      "|   |   |   |   |   |   |   |   |--- feature_5 >  31.10\n",
      "|   |   |   |   |   |   |   |   |   |--- feature_1 <= 89.50\n",
      "|   |   |   |   |   |   |   |   |   |   |--- class: 0\n",
      "|   |   |   |   |   |   |   |   |   |--- feature_1 >  89.50\n",
      "|   |   |   |   |   |   |   |   |   |   |--- feature_5 <= 38.15\n",
      "|   |   |   |   |   |   |   |   |   |   |   |--- truncated branch of depth 7\n",
      "|   |   |   |   |   |   |   |   |   |   |--- feature_5 >  38.15\n",
      "|   |   |   |   |   |   |   |   |   |   |   |--- class: 1\n",
      "|   |   |   |   |   |   |   |--- feature_6 >  0.78\n",
      "|   |   |   |   |   |   |   |   |--- feature_5 <= 32.70\n",
      "|   |   |   |   |   |   |   |   |   |--- class: 0\n",
      "|   |   |   |   |   |   |   |   |--- feature_5 >  32.70\n",
      "|   |   |   |   |   |   |   |   |   |--- feature_1 <= 78.50\n",
      "|   |   |   |   |   |   |   |   |   |   |--- class: 0\n",
      "|   |   |   |   |   |   |   |   |   |--- feature_1 >  78.50\n",
      "|   |   |   |   |   |   |   |   |   |   |--- class: 1\n",
      "|   |   |   |   |   |   |--- feature_5 >  38.30\n",
      "|   |   |   |   |   |   |   |--- class: 0\n",
      "|   |   |   |   |   |--- feature_5 >  45.40\n",
      "|   |   |   |   |   |   |--- class: 1\n",
      "|   |   |   |--- feature_1 >  116.50\n",
      "|   |   |   |   |--- feature_2 <= 73.00\n",
      "|   |   |   |   |   |--- feature_1 <= 127.50\n",
      "|   |   |   |   |   |   |--- feature_7 <= 28.50\n",
      "|   |   |   |   |   |   |   |--- feature_6 <= 0.14\n",
      "|   |   |   |   |   |   |   |   |--- class: 1\n",
      "|   |   |   |   |   |   |   |--- feature_6 >  0.14\n",
      "|   |   |   |   |   |   |   |   |--- class: 0\n",
      "|   |   |   |   |   |   |--- feature_7 >  28.50\n",
      "|   |   |   |   |   |   |   |--- feature_5 <= 33.95\n",
      "|   |   |   |   |   |   |   |   |--- class: 1\n",
      "|   |   |   |   |   |   |   |--- feature_5 >  33.95\n",
      "|   |   |   |   |   |   |   |   |--- feature_0 <= 2.00\n",
      "|   |   |   |   |   |   |   |   |   |--- class: 1\n",
      "|   |   |   |   |   |   |   |   |--- feature_0 >  2.00\n",
      "|   |   |   |   |   |   |   |   |   |--- class: 0\n",
      "|   |   |   |   |   |--- feature_1 >  127.50\n",
      "|   |   |   |   |   |   |--- feature_0 <= 0.50\n",
      "|   |   |   |   |   |   |   |--- class: 1\n",
      "|   |   |   |   |   |   |--- feature_0 >  0.50\n",
      "|   |   |   |   |   |   |   |--- feature_2 <= 67.00\n",
      "|   |   |   |   |   |   |   |   |--- feature_5 <= 27.50\n",
      "|   |   |   |   |   |   |   |   |   |--- class: 1\n",
      "|   |   |   |   |   |   |   |   |--- feature_5 >  27.50\n",
      "|   |   |   |   |   |   |   |   |   |--- class: 0\n",
      "|   |   |   |   |   |   |   |--- feature_2 >  67.00\n",
      "|   |   |   |   |   |   |   |   |--- feature_5 <= 33.35\n",
      "|   |   |   |   |   |   |   |   |   |--- class: 1\n",
      "|   |   |   |   |   |   |   |   |--- feature_5 >  33.35\n",
      "|   |   |   |   |   |   |   |   |   |--- class: 0\n",
      "|   |   |   |   |--- feature_2 >  73.00\n",
      "|   |   |   |   |   |--- feature_0 <= 7.00\n",
      "|   |   |   |   |   |   |--- feature_5 <= 42.85\n",
      "|   |   |   |   |   |   |   |--- feature_0 <= 3.50\n",
      "|   |   |   |   |   |   |   |   |--- class: 0\n",
      "|   |   |   |   |   |   |   |--- feature_0 >  3.50\n",
      "|   |   |   |   |   |   |   |   |--- feature_7 <= 27.50\n",
      "|   |   |   |   |   |   |   |   |   |--- feature_6 <= 0.27\n",
      "|   |   |   |   |   |   |   |   |   |   |--- class: 0\n",
      "|   |   |   |   |   |   |   |   |   |--- feature_6 >  0.27\n",
      "|   |   |   |   |   |   |   |   |   |   |--- class: 1\n",
      "|   |   |   |   |   |   |   |   |--- feature_7 >  27.50\n",
      "|   |   |   |   |   |   |   |   |   |--- class: 0\n",
      "|   |   |   |   |   |   |--- feature_5 >  42.85\n",
      "|   |   |   |   |   |   |   |--- feature_4 <= 26.50\n",
      "|   |   |   |   |   |   |   |   |--- class: 1\n",
      "|   |   |   |   |   |   |   |--- feature_4 >  26.50\n",
      "|   |   |   |   |   |   |   |   |--- feature_7 <= 27.50\n",
      "|   |   |   |   |   |   |   |   |   |--- class: 0\n",
      "|   |   |   |   |   |   |   |   |--- feature_7 >  27.50\n",
      "|   |   |   |   |   |   |   |   |   |--- class: 1\n",
      "|   |   |   |   |   |--- feature_0 >  7.00\n",
      "|   |   |   |   |   |   |--- class: 1\n",
      "|   |   |--- feature_7 >  30.50\n",
      "|   |   |   |--- feature_1 <= 83.50\n",
      "|   |   |   |   |--- class: 0\n",
      "|   |   |   |--- feature_1 >  83.50\n",
      "|   |   |   |   |--- feature_6 <= 0.53\n",
      "|   |   |   |   |   |--- feature_7 <= 46.50\n",
      "|   |   |   |   |   |   |--- feature_6 <= 0.13\n",
      "|   |   |   |   |   |   |   |--- class: 0\n",
      "|   |   |   |   |   |   |--- feature_6 >  0.13\n",
      "|   |   |   |   |   |   |   |--- feature_6 <= 0.48\n",
      "|   |   |   |   |   |   |   |   |--- feature_2 <= 59.00\n",
      "|   |   |   |   |   |   |   |   |   |--- class: 0\n",
      "|   |   |   |   |   |   |   |   |--- feature_2 >  59.00\n",
      "|   |   |   |   |   |   |   |   |   |--- feature_5 <= 39.45\n",
      "|   |   |   |   |   |   |   |   |   |   |--- feature_7 <= 42.50\n",
      "|   |   |   |   |   |   |   |   |   |   |   |--- truncated branch of depth 10\n",
      "|   |   |   |   |   |   |   |   |   |   |--- feature_7 >  42.50\n",
      "|   |   |   |   |   |   |   |   |   |   |   |--- truncated branch of depth 4\n",
      "|   |   |   |   |   |   |   |   |   |--- feature_5 >  39.45\n",
      "|   |   |   |   |   |   |   |   |   |   |--- class: 1\n",
      "|   |   |   |   |   |   |   |--- feature_6 >  0.48\n",
      "|   |   |   |   |   |   |   |   |--- class: 0\n",
      "|   |   |   |   |   |--- feature_7 >  46.50\n",
      "|   |   |   |   |   |   |--- feature_6 <= 0.25\n",
      "|   |   |   |   |   |   |   |--- class: 0\n",
      "|   |   |   |   |   |   |--- feature_6 >  0.25\n",
      "|   |   |   |   |   |   |   |--- feature_1 <= 137.50\n",
      "|   |   |   |   |   |   |   |   |--- feature_0 <= 6.00\n",
      "|   |   |   |   |   |   |   |   |   |--- feature_1 <= 120.00\n",
      "|   |   |   |   |   |   |   |   |   |   |--- class: 1\n",
      "|   |   |   |   |   |   |   |   |   |--- feature_1 >  120.00\n",
      "|   |   |   |   |   |   |   |   |   |   |--- class: 0\n",
      "|   |   |   |   |   |   |   |   |--- feature_0 >  6.00\n",
      "|   |   |   |   |   |   |   |   |   |--- class: 0\n",
      "|   |   |   |   |   |   |   |--- feature_1 >  137.50\n",
      "|   |   |   |   |   |   |   |   |--- class: 1\n",
      "|   |   |   |   |--- feature_6 >  0.53\n",
      "|   |   |   |   |   |--- feature_7 <= 33.50\n",
      "|   |   |   |   |   |   |--- class: 1\n",
      "|   |   |   |   |   |--- feature_7 >  33.50\n",
      "|   |   |   |   |   |   |--- feature_0 <= 7.50\n",
      "|   |   |   |   |   |   |   |--- feature_5 <= 39.65\n",
      "|   |   |   |   |   |   |   |   |--- feature_2 <= 81.00\n",
      "|   |   |   |   |   |   |   |   |   |--- feature_0 <= 3.50\n",
      "|   |   |   |   |   |   |   |   |   |   |--- class: 0\n",
      "|   |   |   |   |   |   |   |   |   |--- feature_0 >  3.50\n",
      "|   |   |   |   |   |   |   |   |   |   |--- feature_6 <= 1.06\n",
      "|   |   |   |   |   |   |   |   |   |   |   |--- truncated branch of depth 3\n",
      "|   |   |   |   |   |   |   |   |   |   |--- feature_6 >  1.06\n",
      "|   |   |   |   |   |   |   |   |   |   |   |--- class: 1\n",
      "|   |   |   |   |   |   |   |   |--- feature_2 >  81.00\n",
      "|   |   |   |   |   |   |   |   |   |--- class: 1\n",
      "|   |   |   |   |   |   |   |--- feature_5 >  39.65\n",
      "|   |   |   |   |   |   |   |   |--- class: 0\n",
      "|   |   |   |   |   |   |--- feature_0 >  7.50\n",
      "|   |   |   |   |   |   |   |--- feature_7 <= 56.50\n",
      "|   |   |   |   |   |   |   |   |--- class: 1\n",
      "|   |   |   |   |   |   |   |--- feature_7 >  56.50\n",
      "|   |   |   |   |   |   |   |   |--- class: 0\n",
      "|--- feature_1 >  147.50\n",
      "|   |--- feature_6 <= 0.34\n",
      "|   |   |--- feature_5 <= 30.10\n",
      "|   |   |   |--- feature_5 <= 25.35\n",
      "|   |   |   |   |--- feature_6 <= 0.24\n",
      "|   |   |   |   |   |--- class: 1\n",
      "|   |   |   |   |--- feature_6 >  0.24\n",
      "|   |   |   |   |   |--- class: 0\n",
      "|   |   |   |--- feature_5 >  25.35\n",
      "|   |   |   |   |--- class: 0\n",
      "|   |   |--- feature_5 >  30.10\n",
      "|   |   |   |--- feature_7 <= 37.50\n",
      "|   |   |   |   |--- feature_2 <= 77.00\n",
      "|   |   |   |   |   |--- feature_2 <= 61.00\n",
      "|   |   |   |   |   |   |--- class: 1\n",
      "|   |   |   |   |   |--- feature_2 >  61.00\n",
      "|   |   |   |   |   |   |--- feature_2 <= 69.00\n",
      "|   |   |   |   |   |   |   |--- class: 0\n",
      "|   |   |   |   |   |   |--- feature_2 >  69.00\n",
      "|   |   |   |   |   |   |   |--- feature_5 <= 35.00\n",
      "|   |   |   |   |   |   |   |   |--- feature_1 <= 158.50\n",
      "|   |   |   |   |   |   |   |   |   |--- class: 0\n",
      "|   |   |   |   |   |   |   |   |--- feature_1 >  158.50\n",
      "|   |   |   |   |   |   |   |   |   |--- class: 1\n",
      "|   |   |   |   |   |   |   |--- feature_5 >  35.00\n",
      "|   |   |   |   |   |   |   |   |--- class: 0\n",
      "|   |   |   |   |--- feature_2 >  77.00\n",
      "|   |   |   |   |   |--- class: 1\n",
      "|   |   |   |--- feature_7 >  37.50\n",
      "|   |   |   |   |--- feature_2 <= 93.50\n",
      "|   |   |   |   |   |--- class: 1\n",
      "|   |   |   |   |--- feature_2 >  93.50\n",
      "|   |   |   |   |   |--- feature_1 <= 173.00\n",
      "|   |   |   |   |   |   |--- class: 1\n",
      "|   |   |   |   |   |--- feature_1 >  173.00\n",
      "|   |   |   |   |   |   |--- class: 0\n",
      "|   |--- feature_6 >  0.34\n",
      "|   |   |--- feature_4 <= 335.00\n",
      "|   |   |   |--- feature_7 <= 38.50\n",
      "|   |   |   |   |--- class: 1\n",
      "|   |   |   |--- feature_7 >  38.50\n",
      "|   |   |   |   |--- feature_5 <= 26.45\n",
      "|   |   |   |   |   |--- class: 0\n",
      "|   |   |   |   |--- feature_5 >  26.45\n",
      "|   |   |   |   |   |--- feature_0 <= 6.50\n",
      "|   |   |   |   |   |   |--- feature_0 <= 4.50\n",
      "|   |   |   |   |   |   |   |--- class: 1\n",
      "|   |   |   |   |   |   |--- feature_0 >  4.50\n",
      "|   |   |   |   |   |   |   |--- class: 0\n",
      "|   |   |   |   |   |--- feature_0 >  6.50\n",
      "|   |   |   |   |   |   |--- class: 1\n",
      "|   |   |--- feature_4 >  335.00\n",
      "|   |   |   |--- feature_5 <= 34.65\n",
      "|   |   |   |   |--- class: 1\n",
      "|   |   |   |--- feature_5 >  34.65\n",
      "|   |   |   |   |--- feature_3 <= 45.00\n",
      "|   |   |   |   |   |--- class: 0\n",
      "|   |   |   |   |--- feature_3 >  45.00\n",
      "|   |   |   |   |   |--- class: 1\n",
      "\n"
     ]
    }
   ],
   "source": [
    "# Importar librerias\n",
    "#from sklearn.tree import export_text\n",
    "from sklearn import tree\n",
    "\n",
    "\n",
    "# Representar árbol de decisión en texto impreso\n",
    "text_representation = tree.export_text(algoritmo)\n",
    "print(text_representation)"
   ]
  },
  {
   "cell_type": "markdown",
   "id": "1e3b828a",
   "metadata": {},
   "source": [
    "# M4 Actividad 1 - Evaluación de Modelos de Clasificación"
   ]
  },
  {
   "cell_type": "markdown",
   "id": "54a404a5",
   "metadata": {},
   "source": [
    "### **Ejercicio - Clasificando SPAM**"
   ]
  },
  {
   "cell_type": "code",
   "execution_count": 32,
   "id": "46951692",
   "metadata": {},
   "outputs": [],
   "source": [
    "import pandas as pd"
   ]
  },
  {
   "cell_type": "code",
   "execution_count": 53,
   "id": "634f8578",
   "metadata": {},
   "outputs": [
    {
     "data": {
      "text/html": [
       "<div>\n",
       "<style scoped>\n",
       "    .dataframe tbody tr th:only-of-type {\n",
       "        vertical-align: middle;\n",
       "    }\n",
       "\n",
       "    .dataframe tbody tr th {\n",
       "        vertical-align: top;\n",
       "    }\n",
       "\n",
       "    .dataframe thead th {\n",
       "        text-align: right;\n",
       "    }\n",
       "</style>\n",
       "<table border=\"1\" class=\"dataframe\">\n",
       "  <thead>\n",
       "    <tr style=\"text-align: right;\">\n",
       "      <th></th>\n",
       "      <th>Clase</th>\n",
       "      <th>Pred.</th>\n",
       "    </tr>\n",
       "    <tr>\n",
       "      <th>ID</th>\n",
       "      <th></th>\n",
       "      <th></th>\n",
       "    </tr>\n",
       "  </thead>\n",
       "  <tbody>\n",
       "    <tr>\n",
       "      <th>1</th>\n",
       "      <td>spam</td>\n",
       "      <td>ham</td>\n",
       "    </tr>\n",
       "    <tr>\n",
       "      <th>2</th>\n",
       "      <td>spam</td>\n",
       "      <td>ham</td>\n",
       "    </tr>\n",
       "    <tr>\n",
       "      <th>3</th>\n",
       "      <td>ham</td>\n",
       "      <td>ham</td>\n",
       "    </tr>\n",
       "    <tr>\n",
       "      <th>4</th>\n",
       "      <td>spam</td>\n",
       "      <td>spam</td>\n",
       "    </tr>\n",
       "    <tr>\n",
       "      <th>5</th>\n",
       "      <td>ham</td>\n",
       "      <td>ham</td>\n",
       "    </tr>\n",
       "    <tr>\n",
       "      <th>6</th>\n",
       "      <td>spam</td>\n",
       "      <td>spam</td>\n",
       "    </tr>\n",
       "    <tr>\n",
       "      <th>7</th>\n",
       "      <td>ham</td>\n",
       "      <td>ham</td>\n",
       "    </tr>\n",
       "    <tr>\n",
       "      <th>8</th>\n",
       "      <td>spam</td>\n",
       "      <td>spam</td>\n",
       "    </tr>\n",
       "    <tr>\n",
       "      <th>9</th>\n",
       "      <td>spam</td>\n",
       "      <td>spam</td>\n",
       "    </tr>\n",
       "    <tr>\n",
       "      <th>10</th>\n",
       "      <td>spam</td>\n",
       "      <td>spam</td>\n",
       "    </tr>\n",
       "    <tr>\n",
       "      <th>11</th>\n",
       "      <td>ham</td>\n",
       "      <td>ham</td>\n",
       "    </tr>\n",
       "    <tr>\n",
       "      <th>12</th>\n",
       "      <td>spam</td>\n",
       "      <td>ham</td>\n",
       "    </tr>\n",
       "    <tr>\n",
       "      <th>13</th>\n",
       "      <td>ham</td>\n",
       "      <td>ham</td>\n",
       "    </tr>\n",
       "    <tr>\n",
       "      <th>14</th>\n",
       "      <td>ham</td>\n",
       "      <td>ham</td>\n",
       "    </tr>\n",
       "    <tr>\n",
       "      <th>15</th>\n",
       "      <td>ham</td>\n",
       "      <td>ham</td>\n",
       "    </tr>\n",
       "    <tr>\n",
       "      <th>16</th>\n",
       "      <td>ham</td>\n",
       "      <td>ham</td>\n",
       "    </tr>\n",
       "    <tr>\n",
       "      <th>17</th>\n",
       "      <td>ham</td>\n",
       "      <td>spam</td>\n",
       "    </tr>\n",
       "    <tr>\n",
       "      <th>18</th>\n",
       "      <td>spam</td>\n",
       "      <td>spam</td>\n",
       "    </tr>\n",
       "    <tr>\n",
       "      <th>19</th>\n",
       "      <td>ham</td>\n",
       "      <td>ham</td>\n",
       "    </tr>\n",
       "    <tr>\n",
       "      <th>20</th>\n",
       "      <td>ham</td>\n",
       "      <td>spam</td>\n",
       "    </tr>\n",
       "  </tbody>\n",
       "</table>\n",
       "</div>"
      ],
      "text/plain": [
       "   Clase Pred.\n",
       "ID            \n",
       "1   spam   ham\n",
       "2   spam   ham\n",
       "3    ham   ham\n",
       "4   spam  spam\n",
       "5    ham   ham\n",
       "6   spam  spam\n",
       "7    ham   ham\n",
       "8   spam  spam\n",
       "9   spam  spam\n",
       "10  spam  spam\n",
       "11   ham   ham\n",
       "12  spam   ham\n",
       "13   ham   ham\n",
       "14   ham   ham\n",
       "15   ham   ham\n",
       "16   ham   ham\n",
       "17   ham  spam\n",
       "18  spam  spam\n",
       "19   ham   ham\n",
       "20   ham  spam"
      ]
     },
     "execution_count": 53,
     "metadata": {},
     "output_type": "execute_result"
    }
   ],
   "source": [
    "# Se crea la base de datos que se usó para el ejercicio\n",
    "columnsnames = ['ID', 'Clase', 'Pred.']\n",
    "dataEjem = pd.DataFrame([[1, 'spam', 'ham'], [2, 'spam', 'ham'],\n",
    "                              [3, 'ham', 'ham'], [4, 'spam', 'spam'],   \n",
    "                              [5, 'ham', 'ham'], [6, 'spam', 'spam'],                              \n",
    "                              [7, 'ham', 'ham'], [8, 'spam', 'spam'],\n",
    "                              [9, 'spam', 'spam'], [10, 'spam', 'spam'],\n",
    "                              [11, 'ham', 'ham'], [12, 'spam', 'ham'],\n",
    "                              [13, 'ham', 'ham'], [14, 'ham', 'ham'],\n",
    "                              [15, 'ham', 'ham'], [16, 'ham', 'ham'],\n",
    "                              [17, 'ham', 'spam'], [18, 'spam', 'spam'],\n",
    "                              [19, 'ham', 'ham'], [20, 'ham', 'spam']],\n",
    "                              columns = columnsnames)\n",
    "\n",
    "# La columna 'ID' se hace índice usando set_index\n",
    "dataEjem.set_index('ID', inplace = True)\n",
    "\n",
    "# Se despliega el dataframe\n",
    "dataEjem"
   ]
  },
  {
   "cell_type": "markdown",
   "id": "d3a1fd73",
   "metadata": {},
   "source": [
    "Cambiando los datos categóricos a numéricos:\n",
    "\n",
    "- 'Spam' = **1**\n",
    "- 'Ham' = **2**"
   ]
  },
  {
   "cell_type": "code",
   "execution_count": 54,
   "id": "5fc3b00e",
   "metadata": {
    "scrolled": true
   },
   "outputs": [
    {
     "data": {
      "text/html": [
       "<div>\n",
       "<style scoped>\n",
       "    .dataframe tbody tr th:only-of-type {\n",
       "        vertical-align: middle;\n",
       "    }\n",
       "\n",
       "    .dataframe tbody tr th {\n",
       "        vertical-align: top;\n",
       "    }\n",
       "\n",
       "    .dataframe thead th {\n",
       "        text-align: right;\n",
       "    }\n",
       "</style>\n",
       "<table border=\"1\" class=\"dataframe\">\n",
       "  <thead>\n",
       "    <tr style=\"text-align: right;\">\n",
       "      <th></th>\n",
       "      <th>Clase</th>\n",
       "      <th>Pred.</th>\n",
       "    </tr>\n",
       "    <tr>\n",
       "      <th>ID</th>\n",
       "      <th></th>\n",
       "      <th></th>\n",
       "    </tr>\n",
       "  </thead>\n",
       "  <tbody>\n",
       "    <tr>\n",
       "      <th>1</th>\n",
       "      <td>1</td>\n",
       "      <td>2</td>\n",
       "    </tr>\n",
       "    <tr>\n",
       "      <th>2</th>\n",
       "      <td>1</td>\n",
       "      <td>2</td>\n",
       "    </tr>\n",
       "    <tr>\n",
       "      <th>3</th>\n",
       "      <td>2</td>\n",
       "      <td>2</td>\n",
       "    </tr>\n",
       "    <tr>\n",
       "      <th>4</th>\n",
       "      <td>1</td>\n",
       "      <td>1</td>\n",
       "    </tr>\n",
       "    <tr>\n",
       "      <th>5</th>\n",
       "      <td>2</td>\n",
       "      <td>2</td>\n",
       "    </tr>\n",
       "    <tr>\n",
       "      <th>6</th>\n",
       "      <td>1</td>\n",
       "      <td>1</td>\n",
       "    </tr>\n",
       "    <tr>\n",
       "      <th>7</th>\n",
       "      <td>2</td>\n",
       "      <td>2</td>\n",
       "    </tr>\n",
       "    <tr>\n",
       "      <th>8</th>\n",
       "      <td>1</td>\n",
       "      <td>1</td>\n",
       "    </tr>\n",
       "    <tr>\n",
       "      <th>9</th>\n",
       "      <td>1</td>\n",
       "      <td>1</td>\n",
       "    </tr>\n",
       "    <tr>\n",
       "      <th>10</th>\n",
       "      <td>1</td>\n",
       "      <td>1</td>\n",
       "    </tr>\n",
       "    <tr>\n",
       "      <th>11</th>\n",
       "      <td>2</td>\n",
       "      <td>2</td>\n",
       "    </tr>\n",
       "    <tr>\n",
       "      <th>12</th>\n",
       "      <td>1</td>\n",
       "      <td>2</td>\n",
       "    </tr>\n",
       "    <tr>\n",
       "      <th>13</th>\n",
       "      <td>2</td>\n",
       "      <td>2</td>\n",
       "    </tr>\n",
       "    <tr>\n",
       "      <th>14</th>\n",
       "      <td>2</td>\n",
       "      <td>2</td>\n",
       "    </tr>\n",
       "    <tr>\n",
       "      <th>15</th>\n",
       "      <td>2</td>\n",
       "      <td>2</td>\n",
       "    </tr>\n",
       "    <tr>\n",
       "      <th>16</th>\n",
       "      <td>2</td>\n",
       "      <td>2</td>\n",
       "    </tr>\n",
       "    <tr>\n",
       "      <th>17</th>\n",
       "      <td>2</td>\n",
       "      <td>1</td>\n",
       "    </tr>\n",
       "    <tr>\n",
       "      <th>18</th>\n",
       "      <td>1</td>\n",
       "      <td>1</td>\n",
       "    </tr>\n",
       "    <tr>\n",
       "      <th>19</th>\n",
       "      <td>2</td>\n",
       "      <td>2</td>\n",
       "    </tr>\n",
       "    <tr>\n",
       "      <th>20</th>\n",
       "      <td>2</td>\n",
       "      <td>1</td>\n",
       "    </tr>\n",
       "  </tbody>\n",
       "</table>\n",
       "</div>"
      ],
      "text/plain": [
       "    Clase  Pred.\n",
       "ID              \n",
       "1       1      2\n",
       "2       1      2\n",
       "3       2      2\n",
       "4       1      1\n",
       "5       2      2\n",
       "6       1      1\n",
       "7       2      2\n",
       "8       1      1\n",
       "9       1      1\n",
       "10      1      1\n",
       "11      2      2\n",
       "12      1      2\n",
       "13      2      2\n",
       "14      2      2\n",
       "15      2      2\n",
       "16      2      2\n",
       "17      2      1\n",
       "18      1      1\n",
       "19      2      2\n",
       "20      2      1"
      ]
     },
     "execution_count": 54,
     "metadata": {},
     "output_type": "execute_result"
    }
   ],
   "source": [
    "dataEjem['Clase'] = dataEjem['Clase'].replace(['spam', 'ham'], [1, 2])\n",
    "dataEjem['Pred.'] = dataEjem['Pred.'].replace(['spam', 'ham'], [1, 2])\n",
    "\n",
    "# Se imprime el dataframe\n",
    "dataEjem"
   ]
  },
  {
   "cell_type": "markdown",
   "id": "e045b5b1",
   "metadata": {},
   "source": [
    "Se verifican los resultados del ejercicio usando la librería *sklearn*:\n",
    "\n",
    "**A) Se calcula la matriz de confusión**"
   ]
  },
  {
   "cell_type": "code",
   "execution_count": 55,
   "id": "8066781c",
   "metadata": {},
   "outputs": [],
   "source": [
    "y_pred = dataEjem['Pred.'].to_numpy()\n",
    "y_test = dataEjem['Clase']"
   ]
  },
  {
   "cell_type": "code",
   "execution_count": 56,
   "id": "105fca99",
   "metadata": {},
   "outputs": [
    {
     "name": "stdout",
     "output_type": "stream",
     "text": [
      "[[6 3]\n",
      " [2 9]]\n"
     ]
    }
   ],
   "source": [
    "import sklearn.metrics as metrics\n",
    "from sklearn.metrics import confusion_matrix\n",
    "\n",
    "cf_matrix = metrics.confusion_matrix(y_test, y_pred)\n",
    "print(cf_matrix)"
   ]
  },
  {
   "cell_type": "markdown",
   "id": "f174e3e5",
   "metadata": {},
   "source": [
    "**B) Calcule la tasa de aciertos (exactitud/accuracy)**"
   ]
  },
  {
   "cell_type": "code",
   "execution_count": 57,
   "id": "0984f7aa",
   "metadata": {},
   "outputs": [
    {
     "name": "stdout",
     "output_type": "stream",
     "text": [
      "0.75\n"
     ]
    }
   ],
   "source": [
    "# Exactitud\n",
    "exactitud = accuracy_score(y_test, y_pred)\n",
    "print(exactitud)"
   ]
  },
  {
   "cell_type": "markdown",
   "id": "77bcab62",
   "metadata": {},
   "source": [
    "**C) Calcule la Precisión**"
   ]
  },
  {
   "cell_type": "code",
   "execution_count": 58,
   "id": "05470653",
   "metadata": {},
   "outputs": [
    {
     "name": "stdout",
     "output_type": "stream",
     "text": [
      "¿Qué proporción de los clasificados como SPAM lo son realmente?\n",
      "0.75\n"
     ]
    }
   ],
   "source": [
    "# Precisión\n",
    "from sklearn import metrics\n",
    "\n",
    "print('¿Qué proporción de los clasificados como SPAM lo son realmente?')\n",
    "precision = metrics.precision_score(y_test, y_pred)\n",
    "print(precision)"
   ]
  },
  {
   "cell_type": "markdown",
   "id": "48a77c2d",
   "metadata": {},
   "source": [
    "**D) Calcule la Sensibilidad/Recall**"
   ]
  },
  {
   "cell_type": "code",
   "execution_count": 59,
   "id": "808bd1a9",
   "metadata": {},
   "outputs": [
    {
     "name": "stdout",
     "output_type": "stream",
     "text": [
      "¿Qué proporción de los que son SPAM se clasifican como tal?\n",
      "0.6666666666666666\n"
     ]
    }
   ],
   "source": [
    "# Sensibilidad - recall\n",
    "print('¿Qué proporción de los que son SPAM se clasifican como tal?')\n",
    "sensibilidad = metrics.recall_score(y_test, y_pred)\n",
    "print(sensibilidad)"
   ]
  },
  {
   "cell_type": "markdown",
   "id": "b9aa177c",
   "metadata": {},
   "source": [
    "**E) Calcule la medida F1-score**"
   ]
  },
  {
   "cell_type": "code",
   "execution_count": 60,
   "id": "17b10525",
   "metadata": {},
   "outputs": [
    {
     "data": {
      "text/plain": [
       "0.7058823529411765"
      ]
     },
     "execution_count": 60,
     "metadata": {},
     "output_type": "execute_result"
    }
   ],
   "source": [
    "cf_matrix[1,0] / ((1/precision) + (1/sensibilidad))"
   ]
  },
  {
   "cell_type": "markdown",
   "id": "e4de7537",
   "metadata": {},
   "source": [
    "**F) Calcule la Especificidad (FPR)**"
   ]
  },
  {
   "cell_type": "code",
   "execution_count": 61,
   "id": "0fa5140a",
   "metadata": {},
   "outputs": [
    {
     "data": {
      "text/plain": [
       "0.8181818181818182"
      ]
     },
     "execution_count": 61,
     "metadata": {},
     "output_type": "execute_result"
    }
   ],
   "source": [
    "cf_matrix[1,1] / (cf_matrix[1,1] + cf_matrix[1,0])"
   ]
  },
  {
   "cell_type": "markdown",
   "id": "8c3ceac7",
   "metadata": {},
   "source": [
    "### Se agregan para varios modelos el cálculo de las diferentes métricas"
   ]
  },
  {
   "cell_type": "markdown",
   "id": "117321c8",
   "metadata": {},
   "source": [
    "Como se indica en el tutorial de predicción de diabetes en la página https://www.ritchieng.com/machine-learning-evaluate-classification-model/ (se explican en el punto 5 (confusion_matrix)."
   ]
  },
  {
   "cell_type": "code",
   "execution_count": 62,
   "id": "d658ea29",
   "metadata": {},
   "outputs": [
    {
     "name": "stdout",
     "output_type": "stream",
     "text": [
      "(724, 9)\n"
     ]
    }
   ],
   "source": [
    "# Se eliminan las filas que tengan cero en 'BloodPreassure', 'BMI' y 'Glucose'\n",
    "diabetes_mod = diabetes[(diabetes.BloodPressure != 0) & (diabetes.BMI != 0) & (diabetes.Glucose != 0)]\n",
    "print(diabetes_mod.shape)\n",
    "\n",
    "# Se separa el conjunto de datos: características(X) y la respuesta a predecir(y)\n",
    "feature_names = ['Pregnancies', 'Glucose', 'BloodPressure', 'SkinThickness', 'Insulin', 'BMI', 'DiabetesPedigreeFunction', 'Age']\n",
    "X = diabetes_mod[feature_names]\n",
    "y = diabetes_mod.Diabetes"
   ]
  },
  {
   "cell_type": "markdown",
   "id": "41fbdc30",
   "metadata": {},
   "source": [
    "**Modelos a usar:**"
   ]
  },
  {
   "cell_type": "code",
   "execution_count": 63,
   "id": "0fad3519",
   "metadata": {},
   "outputs": [],
   "source": [
    "# Se importan librerías y los clasificadores\n",
    "from sklearn.neighbors import KNeighborsClassifier\n",
    "from sklearn.svm import SVC\n",
    "from sklearn.linear_model import LogisticRegression\n",
    "from sklearn.tree import DecisionTreeClassifier\n",
    "\n",
    "# Se inicializan los clasificadores con sus parámetros determinados y añadir cada uno a la lista de modelos\n",
    "models = []\n",
    "models.append(('K-Nearest Neighbors (K-NN)', KNeighborsClassifier()))\n",
    "models.append(('Support Vector Classifier (SVC)', SVC()))\n",
    "models.append(('Regresión Logística (LR)', LogisticRegression()))\n",
    "models.append(('Árboles de Decisión', DecisionTreeClassifier()))"
   ]
  },
  {
   "cell_type": "code",
   "execution_count": 70,
   "id": "04d0f0b7",
   "metadata": {},
   "outputs": [
    {
     "name": "stdout",
     "output_type": "stream",
     "text": [
      "\n",
      "\n",
      "\n",
      "------Modelo:  K-Nearest Neighbors (K-NN) ------\n",
      "\n",
      "Matriz de confusión ->\n",
      "[[100  19]\n",
      " [ 30  32]]\n",
      "\n",
      "\n",
      "Métricas calculadas a partir de una matriz de confusión ->\n",
      "Exactitud:  0.7292817679558011\n",
      "Exactitud con metrics:  0.7292817679558011\n",
      "Error de clasificación:  0.27071823204419887\n",
      "Error de clasificación con metrics: 0.27071823204419887\n",
      "Sensitividad:  0.5161290322580645\n",
      "Sensitividad con metrics:  0.5161290322580645\n",
      "Especificidad:  0.8403361344537815\n",
      "Tasa de falsos positivos:  0.15966386554621848\n",
      "Precisión:  0.6274509803921569\n",
      "F1-score:  0.5663716814159292\n",
      "\n",
      "\n",
      "\n",
      "------Modelo:  Support Vector Classifier (SVC) ------\n",
      "\n",
      "Matriz de confusión ->\n",
      "[[105  14]\n",
      " [ 33  29]]\n",
      "\n",
      "\n",
      "Métricas calculadas a partir de una matriz de confusión ->\n",
      "Exactitud:  0.7403314917127072\n",
      "Exactitud con metrics:  0.7403314917127072\n",
      "Error de clasificación:  0.2596685082872928\n",
      "Error de clasificación con metrics: 0.2596685082872928\n",
      "Sensitividad:  0.46774193548387094\n",
      "Sensitividad con metrics:  0.46774193548387094\n",
      "Especificidad:  0.8823529411764706\n",
      "Tasa de falsos positivos:  0.11764705882352941\n",
      "Precisión:  0.6744186046511628\n",
      "F1-score:  0.5523809523809523\n",
      "\n",
      "\n",
      "\n",
      "------Modelo:  Regresión Logística (LR) ------\n",
      "\n",
      "Matriz de confusión ->\n",
      "[[101  18]\n",
      " [ 25  37]]\n",
      "\n",
      "\n",
      "Métricas calculadas a partir de una matriz de confusión ->\n",
      "Exactitud:  0.7624309392265194\n",
      "Exactitud con metrics:  0.7624309392265194\n",
      "Error de clasificación:  0.23756906077348067\n",
      "Error de clasificación con metrics: 0.2375690607734806\n",
      "Sensitividad:  0.5967741935483871\n",
      "Sensitividad con metrics:  0.5967741935483871\n",
      "Especificidad:  0.8487394957983193\n",
      "Tasa de falsos positivos:  0.15126050420168066\n",
      "Precisión:  0.6727272727272727\n",
      "F1-score:  0.6324786324786325\n",
      "\n",
      "\n",
      "\n",
      "------Modelo:  Árboles de Decisión ------\n",
      "\n",
      "Matriz de confusión ->\n",
      "[[99 20]\n",
      " [24 38]]\n",
      "\n",
      "\n",
      "Métricas calculadas a partir de una matriz de confusión ->\n",
      "Exactitud:  0.7569060773480663\n",
      "Exactitud con metrics:  0.7569060773480663\n",
      "Error de clasificación:  0.2430939226519337\n",
      "Error de clasificación con metrics: 0.24309392265193375\n",
      "Sensitividad:  0.6129032258064516\n",
      "Sensitividad con metrics:  0.6129032258064516\n",
      "Especificidad:  0.8319327731092437\n",
      "Tasa de falsos positivos:  0.16806722689075632\n",
      "Precisión:  0.6551724137931034\n",
      "F1-score:  0.6333333333333333\n"
     ]
    }
   ],
   "source": [
    "# Se separan las características y respuesta\n",
    "X_train, X_test, y_train, y_test = train_test_split(X, y, stratify = diabetes_mod.Diabetes, random_state=0)\n",
    "\n",
    "# Se ajusta cada modelo en un bucle y se calcula la precisión del modelo respectivo utilizando \"accuracy_score\".\n",
    "names = []\n",
    "scores = []\n",
    "\n",
    "datas = [[],[],[],[]]\n",
    "count = 0\n",
    "\n",
    "for name, model in models:\n",
    "    print('\\n\\n')\n",
    "    model.fit(X_train, y_train)\n",
    "    y_pred = model.predict(X_test)\n",
    "   # scores.append(accuracy_score(y_test, y_pred))\n",
    "   # names.append(name)\n",
    "    print('------Modelo: ', name, '------\\n')\n",
    "    print('Matriz de confusión ->')\n",
    "    print(metrics.confusion_matrix(y_test, y_pred))\n",
    "    print('\\n')\n",
    "    \n",
    "    # save confusion matrix and slice into four pieces\n",
    "    conf = metrics.confusion_matrix(y_test, y_pred)\n",
    "    #[row, column]\n",
    "    TP = conf[1, 1]\n",
    "    TN = conf[0, 0]\n",
    "    FP = conf[0, 1]\n",
    "    FN = conf[1, 0]\n",
    "    print('Métricas calculadas a partir de una matriz de confusión ->')\n",
    "    \n",
    "    # Classification Accuracy\n",
    "    print('Exactitud: ', (TP + TN) / float(TP + TN + FP + FN))\n",
    "    print('Exactitud con metrics: ', metrics.accuracy_score(y_test, y_pred))\n",
    "    datas[count].append((TP + TN) / float(TP + TN + FP + FN))\n",
    "    datas[count].append(metrics.accuracy_score(y_test, y_pred))\n",
    "\n",
    "    # Classification Error\n",
    "    print('Error de clasificación: ', (FP + FN) / float(TP + TN + FP + FN))\n",
    "    print('Error de clasificación con metrics:' , 1 - metrics.accuracy_score(y_test, y_pred))\n",
    "    datas[count].append((FP + FN) / float(TP + TN + FP + FN))\n",
    "    datas[count].append(1 - metrics.accuracy_score(y_test, y_pred))\n",
    "    \n",
    "    #Sensitivity\n",
    "    r = TP / float(FN + TP)\n",
    "    print('Sensitividad: ', TP / float(FN + TP))\n",
    "    print('Sensitividad con metrics: ', metrics.recall_score(y_test, y_pred))\n",
    "    datas[count].append(TP / float(FN + TP))\n",
    "    datas[count].append(metrics.recall_score(y_test, y_pred))\n",
    "    \n",
    "    # Specificity\n",
    "    print('Especificidad: ', TN / (TN + FP))\n",
    "    datas[count].append(TN / (TN + FP))\n",
    "    \n",
    "    # False Positive Rate\n",
    "    print('Tasa de falsos positivos: ', FP / float(TN + FP))\n",
    "    datas[count].append(FP / float(TN + FP))\n",
    "    \n",
    "    # Precision\n",
    "    p = metrics.precision_score(y_test, y_pred)\n",
    "    print('Precisión: ', metrics.precision_score(y_test, y_pred))\n",
    "    datas[count].append(metrics.precision_score(y_test, y_pred))\n",
    "    \n",
    "    # F1-score\n",
    "    print('F1-score: ', 2 / ((1/p) + (1/r)))\n",
    "    datas[count].append(2 / ((1/p) + (1/r)))\n",
    "    \n",
    "    # Curva ROC\n",
    "    fpr, tpr, thresholds = metrics.roc_curve(y_test, y_pred)\n",
    "    datas[count].append(fpr)\n",
    "    datas[count].append(tpr)\n",
    "    datas[count].append(thresholds)\n",
    "    \n",
    "    # AUC\n",
    "    AUC = metrics.roc_auc_score(y_test, y_pred)\n",
    "    datas[count].append(AUC)\n",
    "    \n",
    "    count = count+1\n",
    "    \n",
    "tr_split = pd.DataFrame({'Name': names, 'Score': scores})"
   ]
  },
  {
   "cell_type": "markdown",
   "id": "fc86ca44",
   "metadata": {},
   "source": [
    "### Comparación en una tabla de valores"
   ]
  },
  {
   "cell_type": "markdown",
   "id": "1712477f",
   "metadata": {},
   "source": [
    "Se compara en una tabla los valores obtenidos por cada modelo."
   ]
  },
  {
   "cell_type": "code",
   "execution_count": 71,
   "id": "eeb92c17",
   "metadata": {},
   "outputs": [
    {
     "data": {
      "text/html": [
       "<div>\n",
       "<style scoped>\n",
       "    .dataframe tbody tr th:only-of-type {\n",
       "        vertical-align: middle;\n",
       "    }\n",
       "\n",
       "    .dataframe tbody tr th {\n",
       "        vertical-align: top;\n",
       "    }\n",
       "\n",
       "    .dataframe thead th {\n",
       "        text-align: right;\n",
       "    }\n",
       "</style>\n",
       "<table border=\"1\" class=\"dataframe\">\n",
       "  <thead>\n",
       "    <tr style=\"text-align: right;\">\n",
       "      <th></th>\n",
       "      <th>K-NN</th>\n",
       "      <th>SVC</th>\n",
       "      <th>LR</th>\n",
       "      <th>TREE</th>\n",
       "    </tr>\n",
       "  </thead>\n",
       "  <tbody>\n",
       "    <tr>\n",
       "      <th>Exactitud</th>\n",
       "      <td>0.729282</td>\n",
       "      <td>0.740331</td>\n",
       "      <td>0.762431</td>\n",
       "      <td>0.756906</td>\n",
       "    </tr>\n",
       "    <tr>\n",
       "      <th>Exactitud con metrics</th>\n",
       "      <td>0.729282</td>\n",
       "      <td>0.740331</td>\n",
       "      <td>0.762431</td>\n",
       "      <td>0.756906</td>\n",
       "    </tr>\n",
       "    <tr>\n",
       "      <th>Error de clasificación</th>\n",
       "      <td>0.270718</td>\n",
       "      <td>0.259669</td>\n",
       "      <td>0.237569</td>\n",
       "      <td>0.243094</td>\n",
       "    </tr>\n",
       "    <tr>\n",
       "      <th>Error de clasificación con metrics</th>\n",
       "      <td>0.270718</td>\n",
       "      <td>0.259669</td>\n",
       "      <td>0.237569</td>\n",
       "      <td>0.243094</td>\n",
       "    </tr>\n",
       "    <tr>\n",
       "      <th>Sensitividad</th>\n",
       "      <td>0.516129</td>\n",
       "      <td>0.467742</td>\n",
       "      <td>0.596774</td>\n",
       "      <td>0.612903</td>\n",
       "    </tr>\n",
       "    <tr>\n",
       "      <th>Sensitividad con metrics</th>\n",
       "      <td>0.516129</td>\n",
       "      <td>0.467742</td>\n",
       "      <td>0.596774</td>\n",
       "      <td>0.612903</td>\n",
       "    </tr>\n",
       "    <tr>\n",
       "      <th>Especificidad</th>\n",
       "      <td>0.840336</td>\n",
       "      <td>0.882353</td>\n",
       "      <td>0.848739</td>\n",
       "      <td>0.831933</td>\n",
       "    </tr>\n",
       "    <tr>\n",
       "      <th>Tasa de falsos positivos</th>\n",
       "      <td>0.159664</td>\n",
       "      <td>0.117647</td>\n",
       "      <td>0.151261</td>\n",
       "      <td>0.168067</td>\n",
       "    </tr>\n",
       "    <tr>\n",
       "      <th>Precisión</th>\n",
       "      <td>0.627451</td>\n",
       "      <td>0.674419</td>\n",
       "      <td>0.672727</td>\n",
       "      <td>0.655172</td>\n",
       "    </tr>\n",
       "    <tr>\n",
       "      <th>F1-score</th>\n",
       "      <td>0.566372</td>\n",
       "      <td>0.552381</td>\n",
       "      <td>0.632479</td>\n",
       "      <td>0.633333</td>\n",
       "    </tr>\n",
       "    <tr>\n",
       "      <th>fpr</th>\n",
       "      <td>[0.0, 0.15966386554621848, 1.0]</td>\n",
       "      <td>[0.0, 0.11764705882352941, 1.0]</td>\n",
       "      <td>[0.0, 0.15126050420168066, 1.0]</td>\n",
       "      <td>[0.0, 0.16806722689075632, 1.0]</td>\n",
       "    </tr>\n",
       "    <tr>\n",
       "      <th>tpr</th>\n",
       "      <td>[0.0, 0.5161290322580645, 1.0]</td>\n",
       "      <td>[0.0, 0.46774193548387094, 1.0]</td>\n",
       "      <td>[0.0, 0.5967741935483871, 1.0]</td>\n",
       "      <td>[0.0, 0.6129032258064516, 1.0]</td>\n",
       "    </tr>\n",
       "    <tr>\n",
       "      <th>thresholds</th>\n",
       "      <td>[2, 1, 0]</td>\n",
       "      <td>[2, 1, 0]</td>\n",
       "      <td>[2, 1, 0]</td>\n",
       "      <td>[2, 1, 0]</td>\n",
       "    </tr>\n",
       "    <tr>\n",
       "      <th>AUC</th>\n",
       "      <td>0.678233</td>\n",
       "      <td>0.675047</td>\n",
       "      <td>0.722757</td>\n",
       "      <td>0.722418</td>\n",
       "    </tr>\n",
       "  </tbody>\n",
       "</table>\n",
       "</div>"
      ],
      "text/plain": [
       "                                                               K-NN  \\\n",
       "Exactitud                                                  0.729282   \n",
       "Exactitud con metrics                                      0.729282   \n",
       "Error de clasificación                                     0.270718   \n",
       "Error de clasificación con metrics                         0.270718   \n",
       "Sensitividad                                               0.516129   \n",
       "Sensitividad con metrics                                   0.516129   \n",
       "Especificidad                                              0.840336   \n",
       "Tasa de falsos positivos                                   0.159664   \n",
       "Precisión                                                  0.627451   \n",
       "F1-score                                                   0.566372   \n",
       "fpr                                 [0.0, 0.15966386554621848, 1.0]   \n",
       "tpr                                  [0.0, 0.5161290322580645, 1.0]   \n",
       "thresholds                                                [2, 1, 0]   \n",
       "AUC                                                        0.678233   \n",
       "\n",
       "                                                                SVC  \\\n",
       "Exactitud                                                  0.740331   \n",
       "Exactitud con metrics                                      0.740331   \n",
       "Error de clasificación                                     0.259669   \n",
       "Error de clasificación con metrics                         0.259669   \n",
       "Sensitividad                                               0.467742   \n",
       "Sensitividad con metrics                                   0.467742   \n",
       "Especificidad                                              0.882353   \n",
       "Tasa de falsos positivos                                   0.117647   \n",
       "Precisión                                                  0.674419   \n",
       "F1-score                                                   0.552381   \n",
       "fpr                                 [0.0, 0.11764705882352941, 1.0]   \n",
       "tpr                                 [0.0, 0.46774193548387094, 1.0]   \n",
       "thresholds                                                [2, 1, 0]   \n",
       "AUC                                                        0.675047   \n",
       "\n",
       "                                                                 LR  \\\n",
       "Exactitud                                                  0.762431   \n",
       "Exactitud con metrics                                      0.762431   \n",
       "Error de clasificación                                     0.237569   \n",
       "Error de clasificación con metrics                         0.237569   \n",
       "Sensitividad                                               0.596774   \n",
       "Sensitividad con metrics                                   0.596774   \n",
       "Especificidad                                              0.848739   \n",
       "Tasa de falsos positivos                                   0.151261   \n",
       "Precisión                                                  0.672727   \n",
       "F1-score                                                   0.632479   \n",
       "fpr                                 [0.0, 0.15126050420168066, 1.0]   \n",
       "tpr                                  [0.0, 0.5967741935483871, 1.0]   \n",
       "thresholds                                                [2, 1, 0]   \n",
       "AUC                                                        0.722757   \n",
       "\n",
       "                                                               TREE  \n",
       "Exactitud                                                  0.756906  \n",
       "Exactitud con metrics                                      0.756906  \n",
       "Error de clasificación                                     0.243094  \n",
       "Error de clasificación con metrics                         0.243094  \n",
       "Sensitividad                                               0.612903  \n",
       "Sensitividad con metrics                                   0.612903  \n",
       "Especificidad                                              0.831933  \n",
       "Tasa de falsos positivos                                   0.168067  \n",
       "Precisión                                                  0.655172  \n",
       "F1-score                                                   0.633333  \n",
       "fpr                                 [0.0, 0.16806722689075632, 1.0]  \n",
       "tpr                                  [0.0, 0.6129032258064516, 1.0]  \n",
       "thresholds                                                [2, 1, 0]  \n",
       "AUC                                                        0.722418  "
      ]
     },
     "execution_count": 71,
     "metadata": {},
     "output_type": "execute_result"
    }
   ],
   "source": [
    "data = {'K-NN': datas[0],\n",
    "        'SVC': datas[1],\n",
    "        'LR': datas[2],\n",
    "        'TREE': datas[3]\n",
    "        }\n",
    "dfMetrics = pd.DataFrame(data, index=['Exactitud','Exactitud con metrics','Error de clasificación',\n",
    "                                     'Error de clasificación con metrics','Sensitividad',\n",
    "                                     'Sensitividad con metrics','Especificidad','Tasa de falsos positivos',\n",
    "                                     'Precisión', 'F1-score','fpr','tpr','thresholds','AUC'])\n",
    "dfMetrics"
   ]
  },
  {
   "cell_type": "markdown",
   "id": "71428265",
   "metadata": {},
   "source": [
    "**¿Cuál mayor exactitud?**\n",
    "\n",
    "La regresión logística mostro una mayor exactitud de 0.7624"
   ]
  },
  {
   "cell_type": "markdown",
   "id": "08e3dbbe",
   "metadata": {},
   "source": [
    "**¿Cuál permite obtener mejor precisión?**\n",
    "\n",
    "El Support Vector Classifier mostro una mayor presición pero la regresión logistica se acerco casí lo mismo."
   ]
  },
  {
   "cell_type": "markdown",
   "id": "99d72889",
   "metadata": {},
   "source": [
    "**¿Cuál mejor sensibilidad?**\n",
    "\n",
    "Tanto los Árboles de Decisión como la regresión logistica tienen la misma sensibilidad."
   ]
  },
  {
   "cell_type": "markdown",
   "id": "22f9a873",
   "metadata": {},
   "source": [
    "**¿Mejor factor F1?**\n",
    "\n",
    "La regresión logística mostro un mejor factor F1."
   ]
  },
  {
   "cell_type": "markdown",
   "id": "81f6cc40",
   "metadata": {},
   "source": [
    "### Curvas ROC y métricas AUC"
   ]
  },
  {
   "cell_type": "markdown",
   "id": "99361ea3",
   "metadata": {},
   "source": [
    "### ROC"
   ]
  },
  {
   "cell_type": "code",
   "execution_count": 72,
   "id": "f95b1cb0",
   "metadata": {},
   "outputs": [],
   "source": [
    "# Definir variables\n",
    "    # Modelo 1\n",
    "fpr1 = datas[0][10]\n",
    "tpr1 = datas[0][11]\n",
    "thresholds1 = datas[0][12]\n",
    "\n",
    "    # Modelo 2\n",
    "fpr2 = datas[1][10]\n",
    "tpr2 = datas[1][11]\n",
    "thresholds2 = datas[0][12]\n",
    "\n",
    "    # Modelo 3\n",
    "fpr3 = datas[2][10]\n",
    "tpr3 = datas[2][11]\n",
    "thresholds3 = datas[0][12]"
   ]
  },
  {
   "cell_type": "code",
   "execution_count": 73,
   "id": "07a6e0f7",
   "metadata": {},
   "outputs": [
    {
     "data": {
      "image/png": "[encoded data removed]",
      "text/plain": [
       "<Figure size 432x288 with 1 Axes>"
      ]
     },
     "metadata": {
      "needs_background": "light"
     },
     "output_type": "display_data"
    }
   ],
   "source": [
    "# Generar gráfico\n",
    "\n",
    "plt.plot(fpr1, tpr1, label='K-NN')\n",
    "plt.plot(fpr2, tpr2, label='LR')\n",
    "plt.plot(fpr3, tpr3, label='DT')\n",
    "\n",
    "plt.title('ROC curve for diabetes classifier') \n",
    "plt.xlabel('False Positive Rate (1 - Specificity)') \n",
    "plt.ylabel('True Positive Rate (Sensitivity)') \n",
    "plt.legend()\n",
    "plt.grid(True)\n",
    "plt.show()"
   ]
  },
  {
   "cell_type": "markdown",
   "id": "05fb6c5f",
   "metadata": {},
   "source": [
    "### AUC"
   ]
  },
  {
   "cell_type": "code",
   "execution_count": 74,
   "id": "92937b98",
   "metadata": {},
   "outputs": [],
   "source": [
    "# Definir variables\n",
    "    # Modelo 1\n",
    "AUC1 = datas[0][13]\n",
    "\n",
    "    # Modelo 2\n",
    "AUC2 = datas[0][13]\n",
    "\n",
    "    # Modelo 3\n",
    "AUC3 = datas[0][13]"
   ]
  },
  {
   "cell_type": "code",
   "execution_count": 75,
   "id": "6691393a",
   "metadata": {},
   "outputs": [
    {
     "data": {
      "text/html": [
       "<div>\n",
       "<style scoped>\n",
       "    .dataframe tbody tr th:only-of-type {\n",
       "        vertical-align: middle;\n",
       "    }\n",
       "\n",
       "    .dataframe tbody tr th {\n",
       "        vertical-align: top;\n",
       "    }\n",
       "\n",
       "    .dataframe thead th {\n",
       "        text-align: right;\n",
       "    }\n",
       "</style>\n",
       "<table border=\"1\" class=\"dataframe\">\n",
       "  <thead>\n",
       "    <tr style=\"text-align: right;\">\n",
       "      <th></th>\n",
       "      <th>K-NN</th>\n",
       "      <th>LR</th>\n",
       "      <th>TREE</th>\n",
       "    </tr>\n",
       "  </thead>\n",
       "  <tbody>\n",
       "    <tr>\n",
       "      <th>AUC</th>\n",
       "      <td>0.678233</td>\n",
       "      <td>0.675047</td>\n",
       "      <td>0.722757</td>\n",
       "    </tr>\n",
       "  </tbody>\n",
       "</table>\n",
       "</div>"
      ],
      "text/plain": [
       "         K-NN        LR      TREE\n",
       "AUC  0.678233  0.675047  0.722757"
      ]
     },
     "execution_count": 75,
     "metadata": {},
     "output_type": "execute_result"
    }
   ],
   "source": [
    "# Comparación\n",
    "comp = {'K-NN': datas[0][13], \n",
    "       'LR': datas[1][13], \n",
    "       'TREE': datas[2][13]}\n",
    "tabla = pd.DataFrame(comp, index=['AUC'])\n",
    "tabla"
   ]
  },
  {
   "cell_type": "markdown",
   "id": "5a62ea34",
   "metadata": {},
   "source": [
    "### Conclusiones"
   ]
  },
  {
   "cell_type": "markdown",
   "id": "95acac10",
   "metadata": {},
   "source": [
    "Me gusto mucho esta actividad por que visualice como los modelos son mejores dependiendo de las metricas que se medieron."
   ]
  }
 ],
 "metadata": {
  "kernelspec": {
   "display_name": "Python 3",
   "language": "python",
   "name": "python3"
  },
  "language_info": {
   "codemirror_mode": {
    "name": "ipython",
    "version": 3
   },
   "file_extension": ".py",
   "mimetype": "text/x-python",
   "name": "python",
   "nbconvert_exporter": "python",
   "pygments_lexer": "ipython3",
   "version": "3.6.10"
  }
 },
 "nbformat": 4,
 "nbformat_minor": 5
}
