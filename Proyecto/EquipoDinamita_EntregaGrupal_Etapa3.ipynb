{
 "cells": [
  {
   "cell_type": "markdown",
   "id": "b034dd44",
   "metadata": {},
   "source": [
    "# Entregable Grupal Etapa 3: Generación de Modelos de Aprendizaje y Evaluación de los mismos\n",
    "-------\n",
    "**Ana Daniela López Dávila | A00831568**\n",
    "\n",
    "**César Guillermo Vázquez Álvarez | A01197857**\n",
    "\n",
    "**Camila Navarro Llaven | A00517244**\n",
    "\n",
    "**Paola Guadalupe Machorro Ortiz | A00831197**\n",
    "\n",
    "**Alejandro José Murcia Alfaro | A00828513**"
   ]
  },
  {
   "cell_type": "markdown",
   "id": "19077ac9",
   "metadata": {},
   "source": [
    "## Índice\n",
    "- [**Preparación de Datos**](#1) \n",
    "\n",
    "    - [**Variables relevantes**](#I1)\n",
    "    \n",
    "    - [**Visualización de las variables relevantes**](#I2)\n",
    "\n",
    "\n",
    "- [**Generación de modelos de aprendizaje y su evaluación**](#2)\n",
    "\n",
    "    - [**Comparación de resultados**](#2.1)\n",
    "    \n",
    "    - [**Análisis de resultados y selección de modelo de predicción**](#2.2)\n",
    "    \n",
    "\n",
    "- [**Implementación de los modelos**](#3)\n",
    "\n",
    "    - [**Prueba de modelos**](#3.1)\n",
    "        \n",
    "        - [**Support Vector Machine**](#M1)\n",
    "    \n",
    "        - [**Logistic Regression**](#M2)\n",
    "    \n",
    "        - [**Random Forest**](#M3)\n",
    "        \n",
    "    - [**Evaluación de modelos**](#3.2)\n",
    "    \n",
    "        - [**Accuracy**](#E1)\n",
    "    \n",
    "        - [**Matriz de confusión**](#E2)\n",
    "\n",
    "        - [**Precisión**](#E3)\n",
    "\n",
    "        - [**Sensitividad**](#E4)\n",
    "\n",
    "        - [**Especificidad**](#E5)\n",
    "\n",
    "        - [**ROC-AUC**](#E6)\n",
    "\n",
    "    - [**Ajuste de hiperparámetros de modelos**](#3.3)\n",
    "    \n",
    "        - [**Evaluación y comparación**](#P1)\n",
    "\n",
    "    - [**Validación cruzada de modelos**](#3.4)\n",
    "    \n",
    "    \n",
    "- [**Conclusión**](#4)"
   ]
  },
  {
   "cell_type": "markdown",
   "id": "31375d9d",
   "metadata": {},
   "source": [
    "## Preparación de Datos <a name='1'></a>\n",
    "Descripción y visualización de las variables relevantes"
   ]
  },
  {
   "cell_type": "markdown",
   "id": "0d3fba72",
   "metadata": {},
   "source": [
    "**Variables relevantes** <a name='I1'></a> \n",
    "\n",
    "| Variable | Tipo de variable | Descripción | Posibles valores | Tipo de dato |\n",
    "| -------- | ---------------- | ----------- | ---------------- | ------------ |\n",
    "| Perfil Pymetrics | Variable categórica | Nos muestra que tipo perfil según Pymetrics es el candidato | Rango: 1-10 | int64 |\n",
    "|Altamente Recomendado | Variable categórica | Nos menciona si el candidato es altamente recomendado o no | Rango:0-1 | int64 |\n",
    "| Operaciones-Calidad | Variable categórica | Nos muestra si el candidato es apto, no apto o indefinido en la categoría Operaciones-Calidad | Rango: 0-2 | int64 |\n",
    "| MTTO-DIMA | Variable categórica | Nos muestra si el candidato es apto, no apto o indefinido en la categoría MTTO-DIMA | Rango: 0-2 | int64 |\n",
    "| Comercial-Planteamiento | Variable categórica | Nos muestra si el candidato es apto, no apto o indefinido en la categoría Comercial-Planteamiento | Rango: 0-2 | int64 |\n",
    "| DIGI-SC | Variable categórica | Nos muestra si el candidato es apto, no apto o indefinido en la categoría DIGI-SC | Rango: 0-2 | int64 |\n",
    "| Resto-Soft | Variable categórica | Nos muestra si el candidato es apto, no apto o indefinido en la categoría Resto-Soft | Rango: 0-2 | int64 |\n",
    "|Actividad Grupal.1 | Variable categórica | Nos menciona que actividad grupal realizo el candidato | Rango: 0-5 | int64 |\n",
    "| Apto AG | Variable categórica | Nos menciona si el candidato es apto o no apto | Rango: 0-1 | int64 |\n",
    "| Ingles | Variable categórica | Nos muestra el nivel de ingles empezando en A1 a C2 | Rango: 0-6 | float64 |\n",
    "| Apto | Variable categórica | Nos menciona si el candidato es apto o no apto | Rango: 0-1 | int64 |\n",
    "| Destacado | Variable categórica | Nos menciona si el candidato es destacado o no destacado | Rango: 0-1 | int64 |\n",
    "| Destacado Pym | Variable categórica | Nos menciona si el candidato es apto o no apto segun pymetrics | Rango: 0-1 | int64 |\n",
    "| Ingresados Si/No | Parámetro objetivo | Nos muestra si el candidato sí ingreso o no | Rango: 0-1 | int64 |\n"
   ]
  },
  {
   "cell_type": "markdown",
   "id": "cddf6e03",
   "metadata": {},
   "source": [
    "A continuación, se muestra una descripción general de la base de datos"
   ]
  },
  {
   "cell_type": "code",
   "execution_count": 1,
   "id": "e3bca87b",
   "metadata": {},
   "outputs": [],
   "source": [
    "# Importar librerias\n",
    "import pandas as pd \n",
    "import warnings\n",
    "warnings.filterwarnings('ignore') # Mostrar de forma limpia los outputs\n",
    "\n",
    "# Importar base de datos\n",
    "data = pd.read_csv(\"retoternium.csv\", encoding = \"utf-8\" ) # UTF-8: da el formato que funcionará con los acentos\n",
    "del(data['Unnamed: 0'])"
   ]
  },
  {
   "cell_type": "code",
   "execution_count": 2,
   "id": "dfce75da",
   "metadata": {},
   "outputs": [
    {
     "data": {
      "text/html": [
       "<div>\n",
       "<style scoped>\n",
       "    .dataframe tbody tr th:only-of-type {\n",
       "        vertical-align: middle;\n",
       "    }\n",
       "\n",
       "    .dataframe tbody tr th {\n",
       "        vertical-align: top;\n",
       "    }\n",
       "\n",
       "    .dataframe thead th {\n",
       "        text-align: right;\n",
       "    }\n",
       "</style>\n",
       "<table border=\"1\" class=\"dataframe\">\n",
       "  <thead>\n",
       "    <tr style=\"text-align: right;\">\n",
       "      <th></th>\n",
       "      <th>Perfil Pymetrics</th>\n",
       "      <th>Altamente Recomendado</th>\n",
       "      <th>Operaciones-Calidad</th>\n",
       "      <th>MTTO-DIMA</th>\n",
       "      <th>Comercial-Planeamiento</th>\n",
       "      <th>DIGI-SC</th>\n",
       "      <th>Resto-Soft</th>\n",
       "      <th>Actividad Grupal.1</th>\n",
       "      <th>Apto AG</th>\n",
       "      <th>Ingles</th>\n",
       "      <th>Apto</th>\n",
       "      <th>Destacado</th>\n",
       "      <th>Destacado Pym</th>\n",
       "      <th>Ingresados Si/No</th>\n",
       "    </tr>\n",
       "  </thead>\n",
       "  <tbody>\n",
       "    <tr>\n",
       "      <th>0</th>\n",
       "      <td>4</td>\n",
       "      <td>1</td>\n",
       "      <td>2</td>\n",
       "      <td>1</td>\n",
       "      <td>2</td>\n",
       "      <td>0</td>\n",
       "      <td>0</td>\n",
       "      <td>5</td>\n",
       "      <td>0</td>\n",
       "      <td>4.0</td>\n",
       "      <td>1</td>\n",
       "      <td>1</td>\n",
       "      <td>1</td>\n",
       "      <td>1</td>\n",
       "    </tr>\n",
       "    <tr>\n",
       "      <th>1</th>\n",
       "      <td>4</td>\n",
       "      <td>1</td>\n",
       "      <td>2</td>\n",
       "      <td>0</td>\n",
       "      <td>0</td>\n",
       "      <td>0</td>\n",
       "      <td>0</td>\n",
       "      <td>5</td>\n",
       "      <td>0</td>\n",
       "      <td>4.0</td>\n",
       "      <td>1</td>\n",
       "      <td>1</td>\n",
       "      <td>1</td>\n",
       "      <td>0</td>\n",
       "    </tr>\n",
       "    <tr>\n",
       "      <th>2</th>\n",
       "      <td>1</td>\n",
       "      <td>1</td>\n",
       "      <td>2</td>\n",
       "      <td>2</td>\n",
       "      <td>0</td>\n",
       "      <td>1</td>\n",
       "      <td>2</td>\n",
       "      <td>5</td>\n",
       "      <td>0</td>\n",
       "      <td>4.0</td>\n",
       "      <td>1</td>\n",
       "      <td>1</td>\n",
       "      <td>1</td>\n",
       "      <td>1</td>\n",
       "    </tr>\n",
       "    <tr>\n",
       "      <th>3</th>\n",
       "      <td>4</td>\n",
       "      <td>0</td>\n",
       "      <td>0</td>\n",
       "      <td>0</td>\n",
       "      <td>0</td>\n",
       "      <td>0</td>\n",
       "      <td>0</td>\n",
       "      <td>0</td>\n",
       "      <td>0</td>\n",
       "      <td>0.0</td>\n",
       "      <td>0</td>\n",
       "      <td>0</td>\n",
       "      <td>0</td>\n",
       "      <td>0</td>\n",
       "    </tr>\n",
       "    <tr>\n",
       "      <th>4</th>\n",
       "      <td>1</td>\n",
       "      <td>0</td>\n",
       "      <td>0</td>\n",
       "      <td>0</td>\n",
       "      <td>0</td>\n",
       "      <td>0</td>\n",
       "      <td>0</td>\n",
       "      <td>0</td>\n",
       "      <td>0</td>\n",
       "      <td>0.0</td>\n",
       "      <td>0</td>\n",
       "      <td>0</td>\n",
       "      <td>0</td>\n",
       "      <td>0</td>\n",
       "    </tr>\n",
       "  </tbody>\n",
       "</table>\n",
       "</div>"
      ],
      "text/plain": [
       "   Perfil Pymetrics  Altamente Recomendado  Operaciones-Calidad  MTTO-DIMA  \\\n",
       "0                 4                      1                    2          1   \n",
       "1                 4                      1                    2          0   \n",
       "2                 1                      1                    2          2   \n",
       "3                 4                      0                    0          0   \n",
       "4                 1                      0                    0          0   \n",
       "\n",
       "   Comercial-Planeamiento  DIGI-SC  Resto-Soft  Actividad Grupal.1  Apto AG  \\\n",
       "0                       2        0           0                   5        0   \n",
       "1                       0        0           0                   5        0   \n",
       "2                       0        1           2                   5        0   \n",
       "3                       0        0           0                   0        0   \n",
       "4                       0        0           0                   0        0   \n",
       "\n",
       "   Ingles  Apto  Destacado  Destacado Pym  Ingresados Si/No  \n",
       "0     4.0     1          1              1                 1  \n",
       "1     4.0     1          1              1                 0  \n",
       "2     4.0     1          1              1                 1  \n",
       "3     0.0     0          0              0                 0  \n",
       "4     0.0     0          0              0                 0  "
      ]
     },
     "execution_count": 2,
     "metadata": {},
     "output_type": "execute_result"
    }
   ],
   "source": [
    "data.head()"
   ]
  },
  {
   "cell_type": "markdown",
   "id": "e716b811",
   "metadata": {},
   "source": [
    "Hasta ahorita, tenemos una idea visual de nuestra base de datos donde podemos ver el nombre de las columnas y los primeros cinco registros."
   ]
  },
  {
   "cell_type": "code",
   "execution_count": 3,
   "id": "ccb21213",
   "metadata": {},
   "outputs": [
    {
     "name": "stdout",
     "output_type": "stream",
     "text": [
      "<class 'pandas.core.frame.DataFrame'>\n",
      "RangeIndex: 1050 entries, 0 to 1049\n",
      "Data columns (total 14 columns):\n",
      " #   Column                  Non-Null Count  Dtype  \n",
      "---  ------                  --------------  -----  \n",
      " 0   Perfil Pymetrics        1050 non-null   int64  \n",
      " 1   Altamente Recomendado   1050 non-null   int64  \n",
      " 2   Operaciones-Calidad     1050 non-null   int64  \n",
      " 3   MTTO-DIMA               1050 non-null   int64  \n",
      " 4   Comercial-Planeamiento  1050 non-null   int64  \n",
      " 5   DIGI-SC                 1050 non-null   int64  \n",
      " 6   Resto-Soft              1050 non-null   int64  \n",
      " 7   Actividad Grupal.1      1050 non-null   int64  \n",
      " 8   Apto AG                 1050 non-null   int64  \n",
      " 9   Ingles                  1050 non-null   float64\n",
      " 10  Apto                    1050 non-null   int64  \n",
      " 11  Destacado               1050 non-null   int64  \n",
      " 12  Destacado Pym           1050 non-null   int64  \n",
      " 13  Ingresados Si/No        1050 non-null   int64  \n",
      "dtypes: float64(1), int64(13)\n",
      "memory usage: 115.0 KB\n"
     ]
    }
   ],
   "source": [
    "data.info()"
   ]
  },
  {
   "cell_type": "markdown",
   "id": "7378b713",
   "metadata": {},
   "source": [
    "Usando el método ```.info()```, conocemos los datos generales de la base de datos. Es decir, la memoria que utiliza, el tipo de datos en cada columna, la cantidad de datos no nulos por columna, el nombre e índice de cada columna, la cantidad de columnas y registros."
   ]
  },
  {
   "cell_type": "code",
   "execution_count": 4,
   "id": "a0c99ff8",
   "metadata": {},
   "outputs": [
    {
     "data": {
      "text/html": [
       "<div>\n",
       "<style scoped>\n",
       "    .dataframe tbody tr th:only-of-type {\n",
       "        vertical-align: middle;\n",
       "    }\n",
       "\n",
       "    .dataframe tbody tr th {\n",
       "        vertical-align: top;\n",
       "    }\n",
       "\n",
       "    .dataframe thead th {\n",
       "        text-align: right;\n",
       "    }\n",
       "</style>\n",
       "<table border=\"1\" class=\"dataframe\">\n",
       "  <thead>\n",
       "    <tr style=\"text-align: right;\">\n",
       "      <th></th>\n",
       "      <th>Perfil Pymetrics</th>\n",
       "      <th>Altamente Recomendado</th>\n",
       "      <th>Operaciones-Calidad</th>\n",
       "      <th>MTTO-DIMA</th>\n",
       "      <th>Comercial-Planeamiento</th>\n",
       "      <th>DIGI-SC</th>\n",
       "      <th>Resto-Soft</th>\n",
       "      <th>Actividad Grupal.1</th>\n",
       "      <th>Apto AG</th>\n",
       "      <th>Ingles</th>\n",
       "      <th>Apto</th>\n",
       "      <th>Destacado</th>\n",
       "      <th>Destacado Pym</th>\n",
       "      <th>Ingresados Si/No</th>\n",
       "    </tr>\n",
       "  </thead>\n",
       "  <tbody>\n",
       "    <tr>\n",
       "      <th>count</th>\n",
       "      <td>1050.000000</td>\n",
       "      <td>1050.000000</td>\n",
       "      <td>1050.000000</td>\n",
       "      <td>1050.000000</td>\n",
       "      <td>1050.000000</td>\n",
       "      <td>1050.000000</td>\n",
       "      <td>1050.000000</td>\n",
       "      <td>1050.000000</td>\n",
       "      <td>1050.000000</td>\n",
       "      <td>1050.000000</td>\n",
       "      <td>1050.000000</td>\n",
       "      <td>1050.000000</td>\n",
       "      <td>1050.000000</td>\n",
       "      <td>1050.000000</td>\n",
       "    </tr>\n",
       "    <tr>\n",
       "      <th>mean</th>\n",
       "      <td>6.020000</td>\n",
       "      <td>0.227619</td>\n",
       "      <td>0.415238</td>\n",
       "      <td>0.628571</td>\n",
       "      <td>0.300000</td>\n",
       "      <td>0.378095</td>\n",
       "      <td>0.456190</td>\n",
       "      <td>0.521905</td>\n",
       "      <td>0.086667</td>\n",
       "      <td>0.343810</td>\n",
       "      <td>0.122857</td>\n",
       "      <td>0.067619</td>\n",
       "      <td>0.213333</td>\n",
       "      <td>0.069524</td>\n",
       "    </tr>\n",
       "    <tr>\n",
       "      <th>std</th>\n",
       "      <td>2.902381</td>\n",
       "      <td>0.419495</td>\n",
       "      <td>0.740337</td>\n",
       "      <td>0.823362</td>\n",
       "      <td>0.661122</td>\n",
       "      <td>0.679887</td>\n",
       "      <td>0.737453</td>\n",
       "      <td>1.254162</td>\n",
       "      <td>0.281480</td>\n",
       "      <td>1.119583</td>\n",
       "      <td>0.328430</td>\n",
       "      <td>0.251211</td>\n",
       "      <td>0.409856</td>\n",
       "      <td>0.254464</td>\n",
       "    </tr>\n",
       "    <tr>\n",
       "      <th>min</th>\n",
       "      <td>1.000000</td>\n",
       "      <td>0.000000</td>\n",
       "      <td>0.000000</td>\n",
       "      <td>0.000000</td>\n",
       "      <td>0.000000</td>\n",
       "      <td>0.000000</td>\n",
       "      <td>0.000000</td>\n",
       "      <td>0.000000</td>\n",
       "      <td>0.000000</td>\n",
       "      <td>0.000000</td>\n",
       "      <td>0.000000</td>\n",
       "      <td>0.000000</td>\n",
       "      <td>0.000000</td>\n",
       "      <td>0.000000</td>\n",
       "    </tr>\n",
       "    <tr>\n",
       "      <th>25%</th>\n",
       "      <td>4.000000</td>\n",
       "      <td>0.000000</td>\n",
       "      <td>0.000000</td>\n",
       "      <td>0.000000</td>\n",
       "      <td>0.000000</td>\n",
       "      <td>0.000000</td>\n",
       "      <td>0.000000</td>\n",
       "      <td>0.000000</td>\n",
       "      <td>0.000000</td>\n",
       "      <td>0.000000</td>\n",
       "      <td>0.000000</td>\n",
       "      <td>0.000000</td>\n",
       "      <td>0.000000</td>\n",
       "      <td>0.000000</td>\n",
       "    </tr>\n",
       "    <tr>\n",
       "      <th>50%</th>\n",
       "      <td>6.000000</td>\n",
       "      <td>0.000000</td>\n",
       "      <td>0.000000</td>\n",
       "      <td>0.000000</td>\n",
       "      <td>0.000000</td>\n",
       "      <td>0.000000</td>\n",
       "      <td>0.000000</td>\n",
       "      <td>0.000000</td>\n",
       "      <td>0.000000</td>\n",
       "      <td>0.000000</td>\n",
       "      <td>0.000000</td>\n",
       "      <td>0.000000</td>\n",
       "      <td>0.000000</td>\n",
       "      <td>0.000000</td>\n",
       "    </tr>\n",
       "    <tr>\n",
       "      <th>75%</th>\n",
       "      <td>8.000000</td>\n",
       "      <td>0.000000</td>\n",
       "      <td>1.000000</td>\n",
       "      <td>1.000000</td>\n",
       "      <td>0.000000</td>\n",
       "      <td>1.000000</td>\n",
       "      <td>1.000000</td>\n",
       "      <td>0.000000</td>\n",
       "      <td>0.000000</td>\n",
       "      <td>0.000000</td>\n",
       "      <td>0.000000</td>\n",
       "      <td>0.000000</td>\n",
       "      <td>0.000000</td>\n",
       "      <td>0.000000</td>\n",
       "    </tr>\n",
       "    <tr>\n",
       "      <th>max</th>\n",
       "      <td>10.000000</td>\n",
       "      <td>1.000000</td>\n",
       "      <td>2.000000</td>\n",
       "      <td>2.000000</td>\n",
       "      <td>2.000000</td>\n",
       "      <td>2.000000</td>\n",
       "      <td>2.000000</td>\n",
       "      <td>5.000000</td>\n",
       "      <td>1.000000</td>\n",
       "      <td>6.000000</td>\n",
       "      <td>1.000000</td>\n",
       "      <td>1.000000</td>\n",
       "      <td>1.000000</td>\n",
       "      <td>1.000000</td>\n",
       "    </tr>\n",
       "  </tbody>\n",
       "</table>\n",
       "</div>"
      ],
      "text/plain": [
       "       Perfil Pymetrics  Altamente Recomendado  Operaciones-Calidad  \\\n",
       "count       1050.000000            1050.000000          1050.000000   \n",
       "mean           6.020000               0.227619             0.415238   \n",
       "std            2.902381               0.419495             0.740337   \n",
       "min            1.000000               0.000000             0.000000   \n",
       "25%            4.000000               0.000000             0.000000   \n",
       "50%            6.000000               0.000000             0.000000   \n",
       "75%            8.000000               0.000000             1.000000   \n",
       "max           10.000000               1.000000             2.000000   \n",
       "\n",
       "         MTTO-DIMA  Comercial-Planeamiento      DIGI-SC   Resto-Soft  \\\n",
       "count  1050.000000             1050.000000  1050.000000  1050.000000   \n",
       "mean      0.628571                0.300000     0.378095     0.456190   \n",
       "std       0.823362                0.661122     0.679887     0.737453   \n",
       "min       0.000000                0.000000     0.000000     0.000000   \n",
       "25%       0.000000                0.000000     0.000000     0.000000   \n",
       "50%       0.000000                0.000000     0.000000     0.000000   \n",
       "75%       1.000000                0.000000     1.000000     1.000000   \n",
       "max       2.000000                2.000000     2.000000     2.000000   \n",
       "\n",
       "       Actividad Grupal.1      Apto AG       Ingles         Apto    Destacado  \\\n",
       "count         1050.000000  1050.000000  1050.000000  1050.000000  1050.000000   \n",
       "mean             0.521905     0.086667     0.343810     0.122857     0.067619   \n",
       "std              1.254162     0.281480     1.119583     0.328430     0.251211   \n",
       "min              0.000000     0.000000     0.000000     0.000000     0.000000   \n",
       "25%              0.000000     0.000000     0.000000     0.000000     0.000000   \n",
       "50%              0.000000     0.000000     0.000000     0.000000     0.000000   \n",
       "75%              0.000000     0.000000     0.000000     0.000000     0.000000   \n",
       "max              5.000000     1.000000     6.000000     1.000000     1.000000   \n",
       "\n",
       "       Destacado Pym  Ingresados Si/No  \n",
       "count    1050.000000       1050.000000  \n",
       "mean        0.213333          0.069524  \n",
       "std         0.409856          0.254464  \n",
       "min         0.000000          0.000000  \n",
       "25%         0.000000          0.000000  \n",
       "50%         0.000000          0.000000  \n",
       "75%         0.000000          0.000000  \n",
       "max         1.000000          1.000000  "
      ]
     },
     "execution_count": 4,
     "metadata": {},
     "output_type": "execute_result"
    }
   ],
   "source": [
    "data.describe()"
   ]
  },
  {
   "cell_type": "markdown",
   "id": "ea7a57ba",
   "metadata": {},
   "source": [
    "Por último, el método ```.describe()``` proporciona la descripción estadística de la base de datos. Es decir, el promedio, cantidad, desviación estandar, valor mínimo, cuartiles, valor máximo y la cantidad de los registros en cada columna."
   ]
  },
  {
   "cell_type": "markdown",
   "id": "f332545d",
   "metadata": {},
   "source": [
    "**Visualización de las variables relevantes** <a name='I2'></a>\n",
    "\n",
    "Interpretación de gráficas sobre las variables categóricas relevantes "
   ]
  },
  {
   "cell_type": "markdown",
   "id": "6bcf567d",
   "metadata": {},
   "source": [
    "PENDIENTEEEEEEEEEEE !!!!!!!!!!!"
   ]
  },
  {
   "cell_type": "code",
   "execution_count": 5,
   "id": "0031d4dc",
   "metadata": {},
   "outputs": [
    {
     "data": {
      "text/plain": [
       "Index(['Perfil Pymetrics', 'Altamente Recomendado', 'Operaciones-Calidad',\n",
       "       'MTTO-DIMA', 'Comercial-Planeamiento', 'DIGI-SC', 'Resto-Soft',\n",
       "       'Actividad Grupal.1', 'Apto AG', 'Ingles', 'Apto', 'Destacado',\n",
       "       'Destacado Pym', 'Ingresados Si/No'],\n",
       "      dtype='object')"
      ]
     },
     "execution_count": 5,
     "metadata": {},
     "output_type": "execute_result"
    }
   ],
   "source": [
    "data.columns"
   ]
  },
  {
   "cell_type": "code",
   "execution_count": 6,
   "id": "53b6918f",
   "metadata": {},
   "outputs": [
    {
     "data": {
      "text/plain": [
       "<AxesSubplot:xlabel='Perfil Pymetrics'>"
      ]
     },
     "execution_count": 6,
     "metadata": {},
     "output_type": "execute_result"
    },
    {
     "data": {
      "image/png": "[encoded data removed]",
      "text/plain": [
       "<Figure size 432x288 with 1 Axes>"
      ]
     },
     "metadata": {
      "needs_background": "light"
     },
     "output_type": "display_data"
    }
   ],
   "source": [
    "data.groupby('Perfil Pymetrics').size().plot(kind=\"bar\",grid=True, color='#86bf91')"
   ]
  },
  {
   "cell_type": "code",
   "execution_count": 7,
   "id": "84d166de",
   "metadata": {},
   "outputs": [
    {
     "data": {
      "text/plain": [
       "<AxesSubplot:title={'center':'Altamente Recomendado'}, ylabel='None'>"
      ]
     },
     "execution_count": 7,
     "metadata": {},
     "output_type": "execute_result"
    },
    {
     "data": {
      "image/png": "[encoded data removed]",
      "text/plain": [
       "<Figure size 432x288 with 1 Axes>"
      ]
     },
     "metadata": {},
     "output_type": "display_data"
    }
   ],
   "source": [
    "data.groupby('Altamente Recomendado').size().plot(kind=\"pie\",grid=True,title='Altamente Recomendado', colors=['#86bf91',\"#db6991\"])"
   ]
  },
  {
   "cell_type": "code",
   "execution_count": 8,
   "id": "83f321a2",
   "metadata": {},
   "outputs": [
    {
     "data": {
      "text/plain": [
       "<AxesSubplot:title={'center':'Operaciones-Calidad'}, ylabel='None'>"
      ]
     },
     "execution_count": 8,
     "metadata": {},
     "output_type": "execute_result"
    },
    {
     "data": {
      "image/png": "[encoded data removed]",
      "text/plain": [
       "<Figure size 432x288 with 1 Axes>"
      ]
     },
     "metadata": {},
     "output_type": "display_data"
    }
   ],
   "source": [
    "data.groupby('Operaciones-Calidad').size().plot(kind=\"pie\",grid=True, colors=['#86bf91',\"#db6991\",'#d9c052'], title='Operaciones-Calidad')"
   ]
  },
  {
   "cell_type": "code",
   "execution_count": 9,
   "id": "a748b8d9",
   "metadata": {},
   "outputs": [
    {
     "data": {
      "text/plain": [
       "<AxesSubplot:title={'center':'MTTO-DIMA'}, ylabel='None'>"
      ]
     },
     "execution_count": 9,
     "metadata": {},
     "output_type": "execute_result"
    },
    {
     "data": {
      "image/png": "[encoded data removed]",
      "text/plain": [
       "<Figure size 432x288 with 1 Axes>"
      ]
     },
     "metadata": {},
     "output_type": "display_data"
    }
   ],
   "source": [
    "data.groupby('MTTO-DIMA').size().plot(kind=\"pie\",grid=True, colors=['#86bf91',\"#db6991\",'#d9c052'], title='MTTO-DIMA')"
   ]
  },
  {
   "cell_type": "code",
   "execution_count": 10,
   "id": "6188db67",
   "metadata": {},
   "outputs": [
    {
     "data": {
      "text/plain": [
       "<AxesSubplot:title={'center':'Comercial-Planeamiento'}, ylabel='None'>"
      ]
     },
     "execution_count": 10,
     "metadata": {},
     "output_type": "execute_result"
    },
    {
     "data": {
      "image/png": "[encoded data removed]",
      "text/plain": [
       "<Figure size 432x288 with 1 Axes>"
      ]
     },
     "metadata": {},
     "output_type": "display_data"
    }
   ],
   "source": [
    "data.groupby('Comercial-Planeamiento').size().plot(kind=\"pie\",grid=True, colors=['#86bf91',\"#db6991\",'#d9c052'], title='Comercial-Planeamiento')"
   ]
  },
  {
   "cell_type": "code",
   "execution_count": 11,
   "id": "5a42b01d",
   "metadata": {},
   "outputs": [
    {
     "data": {
      "text/plain": [
       "<AxesSubplot:title={'center':'DIGI-SC'}, ylabel='None'>"
      ]
     },
     "execution_count": 11,
     "metadata": {},
     "output_type": "execute_result"
    },
    {
     "data": {
      "image/png": "[encoded data removed]",
      "text/plain": [
       "<Figure size 432x288 with 1 Axes>"
      ]
     },
     "metadata": {},
     "output_type": "display_data"
    }
   ],
   "source": [
    "data.groupby('DIGI-SC').size().plot(kind=\"pie\",grid=True, colors=['#86bf91',\"#db6991\",'#d9c052'], title='DIGI-SC')"
   ]
  },
  {
   "cell_type": "code",
   "execution_count": 12,
   "id": "882e861b",
   "metadata": {},
   "outputs": [
    {
     "data": {
      "text/plain": [
       "<AxesSubplot:title={'center':'Resto-Soft'}, ylabel='None'>"
      ]
     },
     "execution_count": 12,
     "metadata": {},
     "output_type": "execute_result"
    },
    {
     "data": {
      "image/png": "[encoded data removed]",
      "text/plain": [
       "<Figure size 432x288 with 1 Axes>"
      ]
     },
     "metadata": {},
     "output_type": "display_data"
    }
   ],
   "source": [
    "data.groupby('Resto-Soft').size().plot(kind=\"pie\",grid=True, colors=['#86bf91',\"#db6991\",'#d9c052'], title='Resto-Soft')"
   ]
  },
  {
   "cell_type": "code",
   "execution_count": 13,
   "id": "0ae7f96f",
   "metadata": {},
   "outputs": [
    {
     "data": {
      "text/plain": [
       "<AxesSubplot:xlabel='Actividad Grupal.1'>"
      ]
     },
     "execution_count": 13,
     "metadata": {},
     "output_type": "execute_result"
    },
    {
     "data": {
      "image/png": "[encoded data removed]",
      "text/plain": [
       "<Figure size 432x288 with 1 Axes>"
      ]
     },
     "metadata": {
      "needs_background": "light"
     },
     "output_type": "display_data"
    }
   ],
   "source": [
    "data.groupby('Actividad Grupal.1').size().plot(kind=\"bar\",grid=True, color=\"#db6991\")"
   ]
  },
  {
   "cell_type": "code",
   "execution_count": 14,
   "id": "52a249b9",
   "metadata": {},
   "outputs": [
    {
     "data": {
      "text/plain": [
       "<AxesSubplot:xlabel='Ingles'>"
      ]
     },
     "execution_count": 14,
     "metadata": {},
     "output_type": "execute_result"
    },
    {
     "data": {
      "image/png": "[encoded data removed]",
      "text/plain": [
       "<Figure size 432x288 with 1 Axes>"
      ]
     },
     "metadata": {
      "needs_background": "light"
     },
     "output_type": "display_data"
    }
   ],
   "source": [
    "data.groupby('Ingles').size().plot(kind=\"bar\",grid=True, color='#86bf91')"
   ]
  },
  {
   "cell_type": "code",
   "execution_count": 15,
   "id": "be7f83b3",
   "metadata": {},
   "outputs": [
    {
     "data": {
      "text/plain": [
       "<AxesSubplot:title={'center':'Apto AG'}, ylabel='None'>"
      ]
     },
     "execution_count": 15,
     "metadata": {},
     "output_type": "execute_result"
    },
    {
     "data": {
      "image/png": "[encoded data removed]",
      "text/plain": [
       "<Figure size 432x288 with 1 Axes>"
      ]
     },
     "metadata": {},
     "output_type": "display_data"
    }
   ],
   "source": [
    "data.groupby('Apto AG').size().plot(kind=\"pie\",grid=True, colors=['#d9c052',\"#db6991\"], title='Apto AG')"
   ]
  },
  {
   "cell_type": "code",
   "execution_count": 16,
   "id": "a7f38894",
   "metadata": {},
   "outputs": [
    {
     "data": {
      "text/plain": [
       "<AxesSubplot:title={'center':'Apto'}, ylabel='None'>"
      ]
     },
     "execution_count": 16,
     "metadata": {},
     "output_type": "execute_result"
    },
    {
     "data": {
      "image/png": "[encoded data removed]",
      "text/plain": [
       "<Figure size 432x288 with 1 Axes>"
      ]
     },
     "metadata": {},
     "output_type": "display_data"
    }
   ],
   "source": [
    "data.groupby('Apto').size().plot(kind=\"pie\",grid=True, colors=['#d9c052',\"#db6991\"], title='Apto')"
   ]
  },
  {
   "cell_type": "code",
   "execution_count": 17,
   "id": "6c4eddf7",
   "metadata": {},
   "outputs": [
    {
     "data": {
      "text/plain": [
       "<AxesSubplot:title={'center':'Destacado'}, ylabel='None'>"
      ]
     },
     "execution_count": 17,
     "metadata": {},
     "output_type": "execute_result"
    },
    {
     "data": {
      "image/png": "[encoded data removed]",
      "text/plain": [
       "<Figure size 432x288 with 1 Axes>"
      ]
     },
     "metadata": {},
     "output_type": "display_data"
    }
   ],
   "source": [
    "data.groupby('Destacado').size().plot(kind=\"pie\",grid=True, colors=['#86bf91',\"#db6991\"], title='Destacado')"
   ]
  },
  {
   "cell_type": "code",
   "execution_count": 18,
   "id": "9d685e2e",
   "metadata": {},
   "outputs": [
    {
     "data": {
      "text/plain": [
       "<AxesSubplot:title={'center':'Destacado Pym'}, ylabel='None'>"
      ]
     },
     "execution_count": 18,
     "metadata": {},
     "output_type": "execute_result"
    },
    {
     "data": {
      "image/png": "[encoded data removed]",
      "text/plain": [
       "<Figure size 432x288 with 1 Axes>"
      ]
     },
     "metadata": {},
     "output_type": "display_data"
    }
   ],
   "source": [
    "data.groupby('Destacado Pym').size().plot(kind=\"pie\",grid=True, colors=['#d9c052',\"#db6991\"], title='Destacado Pym')"
   ]
  },
  {
   "cell_type": "markdown",
   "id": "517270ba",
   "metadata": {},
   "source": [
    "## Generación de modelos de aprendizaje y su evaluación <a name='2'></a>"
   ]
  },
  {
   "cell_type": "markdown",
   "id": "13ddc0a0",
   "metadata": {},
   "source": [
    "### Comparación de resultados <a name='2.1'></a>"
   ]
  },
  {
   "cell_type": "markdown",
   "id": "898e14e9",
   "metadata": {},
   "source": [
    "La tabla de comparación entre cada integrante del equipo se encuentra en el documento rector: Entregable Etapa 3 - Equipo 3."
   ]
  },
  {
   "cell_type": "markdown",
   "id": "ebd5c864",
   "metadata": {},
   "source": [
    "### Análisis de resultados y selección de modelo de predicción <a name='2.2'></a>\n",
    "\n",
    "Podemos observar que en las seis pruebas efectuadas por cada miembro del equipo se obtuvieron excelentes resultados para todos los modelos probados. De hecho, el valor mínimo de exactitud obtenido en todas las pruebas de todos los modelos fue de 0.94, gozando todos ellos de valores sumamente exactos y cercanos a la totalidad de aciertos en cuanto a la predicción de la variable objetivo.\n",
    "\n",
    "Sin embargo, la exactitud no es la única métrica a tomar en cuenta, ya que también debemos observar los resultados obtenidos en precisión y sensibilidad, los cuales, nos indican la proporción de verdaderos positivos  y falsos negativos, respectivamente. Con lo que tenemos dos puntos de comparación para poder decidir el mejor modelo. \n",
    "\n",
    "Por último, otro punto importante para comparar y decidir qué modelos utilizar fueron las curvas ROC-AUC, con su respectiva área bajo la curva. Esta es una medida de qué tanto fueron capaces los modelos de clasificar correctamente a la variable objetivo. Entre más cercano a 1 el valor, mejor el modelo.\n",
    "\n",
    "Con todo esto en mente, determinamos que tres modelos cuentan con estas características: Support Vector Machine, Regresión Logística y Random Forest. Los resultados de estos modelos fueron muy altos en cuanto a exactitud, todos ellos arriba de 0.96. En cuanto a precisión y sensibilidad también se comportaron muy bien comparado con los demás modelos, obteniendo un valor promedio de 0.80 en cuanto a precisión y 0.85 en cuanto a sensibilidad. Así mismo, sus curvas ROC tuvieron un buen desempeño, todos con valores de AUC mayores de 0.90. Por lo que fueron estos los modelos escogidos para predecir la variable objetivo, ofreciendo cada uno de ellos una exactitud, precisión y sensibilidad muy buena. \n",
    "\n",
    "\n",
    "**Modelos seleccionados:**\n",
    "- K-Nearest Neighbors\n",
    "\n",
    "- Support Vector Machine\n",
    "\n",
    "- Logistic Regression"
   ]
  },
  {
   "cell_type": "markdown",
   "id": "f92ad8f9",
   "metadata": {},
   "source": [
    "## Implementación de los modelos <a name='3'></a>"
   ]
  },
  {
   "cell_type": "code",
   "execution_count": 19,
   "id": "53f1ec74",
   "metadata": {},
   "outputs": [],
   "source": [
    "# Definir variables predictoras\n",
    "X = data.drop('Ingresados Si/No', axis = 1)"
   ]
  },
  {
   "cell_type": "code",
   "execution_count": 20,
   "id": "5b9abc50",
   "metadata": {},
   "outputs": [],
   "source": [
    "# Definir variable de respuesta\n",
    "y = data['Ingresados Si/No'].astype('int') "
   ]
  },
  {
   "cell_type": "code",
   "execution_count": 21,
   "id": "819d7be0",
   "metadata": {},
   "outputs": [],
   "source": [
    "# Definición de conjuntos\n",
    "# Importar librerias\n",
    "from sklearn.model_selection import train_test_split\n",
    "\n",
    "# Definir conjuntos de datos de entrenamiento y prueba\n",
    "X_train, X_test, y_train, y_test = train_test_split(X, y, random_state=0)"
   ]
  },
  {
   "cell_type": "markdown",
   "id": "94a32257",
   "metadata": {},
   "source": [
    "### Prueba de modelos <a name='3.1'></a>\n",
    "Se prueban los modelos de clasificación ya mencionados."
   ]
  },
  {
   "cell_type": "markdown",
   "id": "df79c894",
   "metadata": {},
   "source": [
    "**Support Vector Machine**<a name='M1'></a>\n",
    "\n",
    "Establece fronteras lineales con un hiperplano en el espacio total de valores posibles de forma que, dependiendo de dónde se encuentre un conjunto de datos concreto, estará a alguno de los lados de la frontera, lo que lleva a su clasificación según el lado en que se encuentre.\n",
    "\n",
    "Características:\n",
    "\n",
    "- Encuentra la mejor separación posible entre clases."
   ]
  },
  {
   "cell_type": "code",
   "execution_count": 22,
   "id": "6945c670",
   "metadata": {},
   "outputs": [],
   "source": [
    "# Importar clasificador\n",
    "from sklearn.svm import SVC\n",
    "\n",
    "# Crear el modelo\n",
    "SVM = SVC(probability=True) # probability=True se usa para poder calcular las métricas ROC y AUC\n",
    "\n",
    "# Ajustar modelo\n",
    "SVM.fit(X_train, y_train)\n",
    "\n",
    "# Realizar una predicción\n",
    "y_pred_SVM = SVM.predict(X_test) "
   ]
  },
  {
   "cell_type": "markdown",
   "id": "708ea714",
   "metadata": {},
   "source": [
    "**Logistic Regression**<a name='M2'></a>\n",
    "\n",
    "En lugar de mínimos cuadrados, utiliza el procedimiento de estimación máximo-verosímil.\n",
    "\n",
    "Características:\n",
    "\n",
    "- A la función logística también se le llama sigmoide."
   ]
  },
  {
   "cell_type": "code",
   "execution_count": 23,
   "id": "f265bc20",
   "metadata": {},
   "outputs": [],
   "source": [
    "# Importar clasificador\n",
    "from sklearn.linear_model import LogisticRegression\n",
    "\n",
    "# Crear el modelo\n",
    "LR = LogisticRegression()\n",
    "\n",
    "# Ajustar modelo\n",
    "LR.fit(X_train, y_train)\n",
    "\n",
    "# Realizar una predicción\n",
    "y_pred_LR = LR.predict(X_test) "
   ]
  },
  {
   "cell_type": "markdown",
   "id": "dca97fb5",
   "metadata": {},
   "source": [
    "**Random Forest**<a name='M3'></a>\n",
    "\n",
    "Consiste en un ensamble de varios árboles de decision entrenados con el método bagging, cuya idea general es que la combinación de modelos de aprendizaje mejore el resultado final.\n",
    "\n",
    "Características:\n",
    "\n",
    "- Es un tipo de método BAGGing."
   ]
  },
  {
   "cell_type": "code",
   "execution_count": 24,
   "id": "f235bfdc",
   "metadata": {},
   "outputs": [],
   "source": [
    "# Importar clasificador\n",
    "from sklearn.ensemble import RandomForestClassifier\n",
    "\n",
    "# Crear el modelo\n",
    "RF = RandomForestClassifier() \n",
    "\n",
    "# Ajustar modelo\n",
    "RF.fit(X_train, y_train)\n",
    "\n",
    "# Realizar una predicción\n",
    "y_pred_RF = RF.predict(X_test) "
   ]
  },
  {
   "cell_type": "markdown",
   "id": "cd773692",
   "metadata": {},
   "source": [
    "### Evaluación de modelos <a name='3.2'></a>\n",
    "Se calcula y utiliza métricas para comparar los modelos."
   ]
  },
  {
   "cell_type": "markdown",
   "id": "f9c7eec9",
   "metadata": {},
   "source": [
    "**Accuracy**<a name='E1'></a>\n",
    "\n",
    "Es la métrica de clasificación más sencilla y provee una medida de la eficiencia general del modelo. Es importante recordar que no indica el tipo de error en la clasificación"
   ]
  },
  {
   "cell_type": "markdown",
   "id": "5ef5479b",
   "metadata": {},
   "source": [
    "**Matriz de confusión**<a name='E2'></a>\n",
    "\n",
    "Da una imagen más completa de cómo funciona el clasificador y para dos clases, se produce una matriz 2x2"
   ]
  },
  {
   "cell_type": "markdown",
   "id": "9f4f0085",
   "metadata": {},
   "source": [
    "**Precisión**<a name='E3'></a>\n",
    "\n",
    "Es el número de ejemplos positivos clasificados correctamente divididos entre el número total de ejemplos clasificados como positivos. Da a conocer qué tan *preciso* es el clasificador para predecir instancias positivas."
   ]
  },
  {
   "cell_type": "markdown",
   "id": "fa905448",
   "metadata": {},
   "source": [
    "**Sensitividad**<a name='E4'></a>\n",
    "\n",
    "También se le conoce como *Razón de Verdaderos Positivos*, da a conocer qué tan *sensible* es el clasificador para detectar las instancias positivas."
   ]
  },
  {
   "cell_type": "markdown",
   "id": "98ec93c1",
   "metadata": {},
   "source": [
    "**Especificidad**<a name='E5'></a>\n",
    "\n",
    "También se le conoce como *Razón de Verdaderos Negativos*, da a conocer qué tan *específico* es el clasificador en predecir instancias negativas."
   ]
  },
  {
   "cell_type": "code",
   "execution_count": 25,
   "id": "6cf339aa",
   "metadata": {},
   "outputs": [
    {
     "name": "stdout",
     "output_type": "stream",
     "text": [
      "\n",
      "\n",
      "\n",
      "---------------------------- Support Vector Machine ------------------------------\n",
      "\n",
      "Matriz de confusión ->\n",
      "[[237   5]\n",
      " [  2  19]]\n",
      "\n",
      "\n",
      "Métricas calculadas a partir de una matriz de confusión ->\n",
      "Exactitud:  0.973384030418251\n",
      "Exactitud con metrics:  0.973384030418251\n",
      "Error de clasificación:  0.026615969581749048\n",
      "Error de clasificación con metrics: 0.026615969581749055\n",
      "Sensitividad:  0.9047619047619048\n",
      "Sensitividad con metrics:  0.9047619047619048\n",
      "Especificidad:  0.9793388429752066\n",
      "Tasa de falsos positivos:  0.02066115702479339\n",
      "Precisión:  0.7916666666666666\n",
      "F1-score:  0.8444444444444446\n",
      "\n",
      "\n",
      "\n",
      "---------------------------- Logistic Regression ------------------------------\n",
      "\n",
      "Matriz de confusión ->\n",
      "[[237   5]\n",
      " [  3  18]]\n",
      "\n",
      "\n",
      "Métricas calculadas a partir de una matriz de confusión ->\n",
      "Exactitud:  0.9695817490494296\n",
      "Exactitud con metrics:  0.9695817490494296\n",
      "Error de clasificación:  0.030418250950570342\n",
      "Error de clasificación con metrics: 0.03041825095057038\n",
      "Sensitividad:  0.8571428571428571\n",
      "Sensitividad con metrics:  0.8571428571428571\n",
      "Especificidad:  0.9793388429752066\n",
      "Tasa de falsos positivos:  0.02066115702479339\n",
      "Precisión:  0.782608695652174\n",
      "F1-score:  0.8181818181818181\n",
      "\n",
      "\n",
      "\n",
      "---------------------------- Random Forest ------------------------------\n",
      "\n",
      "Matriz de confusión ->\n",
      "[[237   5]\n",
      " [  2  19]]\n",
      "\n",
      "\n",
      "Métricas calculadas a partir de una matriz de confusión ->\n",
      "Exactitud:  0.973384030418251\n",
      "Exactitud con metrics:  0.973384030418251\n",
      "Error de clasificación:  0.026615969581749048\n",
      "Error de clasificación con metrics: 0.026615969581749055\n",
      "Sensitividad:  0.9047619047619048\n",
      "Sensitividad con metrics:  0.9047619047619048\n",
      "Especificidad:  0.9793388429752066\n",
      "Tasa de falsos positivos:  0.02066115702479339\n",
      "Precisión:  0.7916666666666666\n",
      "F1-score:  0.8444444444444446\n"
     ]
    }
   ],
   "source": [
    "# Importar librerias\n",
    "import sklearn.metrics as metrics\n",
    "from sklearn.metrics import confusion_matrix\n",
    "from sklearn.metrics import accuracy_score\n",
    "\n",
    "# Creamos una variable que almacene los datos para poder compararlos\n",
    "comparacion = [[],[],[]]\n",
    "count = 0 # Contador\n",
    "\n",
    "# Etiquetas de los modelos\n",
    "modelos = [y_pred_SVM,y_pred_LR,y_pred_RF]\n",
    "names = ['Support Vector Machine','Logistic Regression','Random Forest']\n",
    "\n",
    "# En un bucle se calculan las métricas del modelo respectivo.\n",
    "for y_pred in modelos:\n",
    "    print('\\n\\n')\n",
    "    print('----------------------------', names[count], '------------------------------\\n')\n",
    "    print('Matriz de confusión ->')\n",
    "    cf_matrix = metrics.confusion_matrix(y_test, y_pred)\n",
    "    print(cf_matrix)\n",
    "    print('\\n')\n",
    "    \n",
    "    # save confusion matrix and slice into four pieces\n",
    "    conf = metrics.confusion_matrix(y_test, y_pred)\n",
    "    #[row, column]\n",
    "    TP = conf[1, 1]\n",
    "    TN = conf[0, 0]\n",
    "    FP = conf[0, 1]\n",
    "    FN = conf[1, 0]\n",
    "    print('Métricas calculadas a partir de una matriz de confusión ->')\n",
    "    \n",
    "    # Classification Accuracy\n",
    "    print('Exactitud: ', (TP + TN) / float(TP + TN + FP + FN))\n",
    "    print('Exactitud con metrics: ', metrics.accuracy_score(y_test, y_pred))\n",
    "    comparacion[count].append((TP + TN) / float(TP + TN + FP + FN))\n",
    "    comparacion[count].append(metrics.accuracy_score(y_test, y_pred))\n",
    "\n",
    "    # Classification Error\n",
    "    print('Error de clasificación: ', (FP + FN) / float(TP + TN + FP + FN))\n",
    "    print('Error de clasificación con metrics:' , 1 - metrics.accuracy_score(y_test, y_pred))\n",
    "    comparacion[count].append((FP + FN) / float(TP + TN + FP + FN))\n",
    "    comparacion[count].append(1 - metrics.accuracy_score(y_test, y_pred))\n",
    "    \n",
    "    #Sensitivity\n",
    "    print('Sensitividad: ', TP / float(FN + TP))\n",
    "    print('Sensitividad con metrics: ', metrics.recall_score(y_test, y_pred))\n",
    "    r = metrics.recall_score(y_test, y_pred)\n",
    "    comparacion[count].append(TP / float(FN + TP))\n",
    "    comparacion[count].append(metrics.recall_score(y_test, y_pred))\n",
    "    \n",
    "    # Specificity\n",
    "    print('Especificidad: ', TN / (TN + FP))\n",
    "    comparacion[count].append(TN / (TN + FP))\n",
    "    \n",
    "    # False Positive Rate\n",
    "    print('Tasa de falsos positivos: ', FP / float(TN + FP))\n",
    "    comparacion[count].append(FP / float(TN + FP))\n",
    "    \n",
    "    # Precision\n",
    "    print('Precisión: ', metrics.precision_score(y_test, y_pred))\n",
    "    p = metrics.precision_score(y_test, y_pred)\n",
    "    comparacion[count].append(metrics.precision_score(y_test, y_pred))\n",
    "    \n",
    "    # F1-score\n",
    "    print('F1-score: ', 2 / ((1/p) + (1/r)))\n",
    "    comparacion[count].append(2 / ((1/p) + (1/r)))\n",
    "    \n",
    "    # AUC\n",
    "    AUC = metrics.roc_auc_score(y_test, y_pred)\n",
    "    comparacion[count].append(AUC)\n",
    "    \n",
    "    # Curva ROC\n",
    "    fpr, tpr, thresholds = metrics.roc_curve(y_test, y_pred)\n",
    "    comparacion[count].append(fpr)\n",
    "    comparacion[count].append(tpr)\n",
    "    comparacion[count].append(thresholds)\n",
    "    \n",
    "    count = count+1"
   ]
  },
  {
   "cell_type": "markdown",
   "id": "ea3fd69e",
   "metadata": {},
   "source": [
    "**Comparación**"
   ]
  },
  {
   "cell_type": "code",
   "execution_count": 26,
   "id": "90fcced9",
   "metadata": {},
   "outputs": [
    {
     "name": "stdout",
     "output_type": "stream",
     "text": [
      "COMPARACIÓN\n"
     ]
    },
    {
     "data": {
      "text/html": [
       "<div>\n",
       "<style scoped>\n",
       "    .dataframe tbody tr th:only-of-type {\n",
       "        vertical-align: middle;\n",
       "    }\n",
       "\n",
       "    .dataframe tbody tr th {\n",
       "        vertical-align: top;\n",
       "    }\n",
       "\n",
       "    .dataframe thead th {\n",
       "        text-align: right;\n",
       "    }\n",
       "</style>\n",
       "<table border=\"1\" class=\"dataframe\">\n",
       "  <thead>\n",
       "    <tr style=\"text-align: right;\">\n",
       "      <th></th>\n",
       "      <th>Support Vector Machine</th>\n",
       "      <th>Logistic Regression</th>\n",
       "      <th>Random Forest</th>\n",
       "    </tr>\n",
       "  </thead>\n",
       "  <tbody>\n",
       "    <tr>\n",
       "      <th>Exactitud</th>\n",
       "      <td>0.973384</td>\n",
       "      <td>0.969582</td>\n",
       "      <td>0.973384</td>\n",
       "    </tr>\n",
       "    <tr>\n",
       "      <th>Exactitud con metrics</th>\n",
       "      <td>0.973384</td>\n",
       "      <td>0.969582</td>\n",
       "      <td>0.973384</td>\n",
       "    </tr>\n",
       "    <tr>\n",
       "      <th>Error de clasificación</th>\n",
       "      <td>0.026616</td>\n",
       "      <td>0.030418</td>\n",
       "      <td>0.026616</td>\n",
       "    </tr>\n",
       "    <tr>\n",
       "      <th>Error de clasificación con metrics</th>\n",
       "      <td>0.026616</td>\n",
       "      <td>0.030418</td>\n",
       "      <td>0.026616</td>\n",
       "    </tr>\n",
       "    <tr>\n",
       "      <th>Sensitividad</th>\n",
       "      <td>0.904762</td>\n",
       "      <td>0.857143</td>\n",
       "      <td>0.904762</td>\n",
       "    </tr>\n",
       "    <tr>\n",
       "      <th>Sensitividad con metrics</th>\n",
       "      <td>0.904762</td>\n",
       "      <td>0.857143</td>\n",
       "      <td>0.904762</td>\n",
       "    </tr>\n",
       "    <tr>\n",
       "      <th>Especificidad</th>\n",
       "      <td>0.979339</td>\n",
       "      <td>0.979339</td>\n",
       "      <td>0.979339</td>\n",
       "    </tr>\n",
       "    <tr>\n",
       "      <th>Tasa de falsos positivos</th>\n",
       "      <td>0.020661</td>\n",
       "      <td>0.020661</td>\n",
       "      <td>0.020661</td>\n",
       "    </tr>\n",
       "    <tr>\n",
       "      <th>Precisión</th>\n",
       "      <td>0.791667</td>\n",
       "      <td>0.782609</td>\n",
       "      <td>0.791667</td>\n",
       "    </tr>\n",
       "    <tr>\n",
       "      <th>F1-score</th>\n",
       "      <td>0.844444</td>\n",
       "      <td>0.818182</td>\n",
       "      <td>0.844444</td>\n",
       "    </tr>\n",
       "    <tr>\n",
       "      <th>AUC</th>\n",
       "      <td>0.94205</td>\n",
       "      <td>0.918241</td>\n",
       "      <td>0.94205</td>\n",
       "    </tr>\n",
       "  </tbody>\n",
       "</table>\n",
       "</div>"
      ],
      "text/plain": [
       "                                   Support Vector Machine Logistic Regression  \\\n",
       "Exactitud                                        0.973384            0.969582   \n",
       "Exactitud con metrics                            0.973384            0.969582   \n",
       "Error de clasificación                           0.026616            0.030418   \n",
       "Error de clasificación con metrics               0.026616            0.030418   \n",
       "Sensitividad                                     0.904762            0.857143   \n",
       "Sensitividad con metrics                         0.904762            0.857143   \n",
       "Especificidad                                    0.979339            0.979339   \n",
       "Tasa de falsos positivos                         0.020661            0.020661   \n",
       "Precisión                                        0.791667            0.782609   \n",
       "F1-score                                         0.844444            0.818182   \n",
       "AUC                                               0.94205            0.918241   \n",
       "\n",
       "                                   Random Forest  \n",
       "Exactitud                               0.973384  \n",
       "Exactitud con metrics                   0.973384  \n",
       "Error de clasificación                  0.026616  \n",
       "Error de clasificación con metrics      0.026616  \n",
       "Sensitividad                            0.904762  \n",
       "Sensitividad con metrics                0.904762  \n",
       "Especificidad                           0.979339  \n",
       "Tasa de falsos positivos                0.020661  \n",
       "Precisión                               0.791667  \n",
       "F1-score                                0.844444  \n",
       "AUC                                      0.94205  "
      ]
     },
     "execution_count": 26,
     "metadata": {},
     "output_type": "execute_result"
    }
   ],
   "source": [
    "# Comparación\n",
    "comp = {'Support Vector Machine': comparacion[0], \n",
    "       'Logistic Regression': comparacion[1], \n",
    "       'Random Forest': comparacion[2]}\n",
    "tabla = pd.DataFrame(comp, index=['Exactitud','Exactitud con metrics','Error de clasificación',\n",
    "                                     'Error de clasificación con metrics','Sensitividad',\n",
    "                                     'Sensitividad con metrics','Especificidad','Tasa de falsos positivos',\n",
    "                                     'Precisión', 'F1-score','AUC','fpr','tpr','thresholds'])\n",
    "compar = tabla\n",
    "compar = compar.drop(['fpr','tpr','thresholds'])\n",
    "print('COMPARACIÓN')\n",
    "compar"
   ]
  },
  {
   "cell_type": "markdown",
   "id": "2c5565f7",
   "metadata": {},
   "source": [
    "**ROC**<a name='E6'></a>"
   ]
  },
  {
   "cell_type": "code",
   "execution_count": 27,
   "id": "f639e8bd",
   "metadata": {},
   "outputs": [
    {
     "data": {
      "image/png": "[encoded data removed]",
      "text/plain": [
       "<Figure size 432x288 with 1 Axes>"
      ]
     },
     "metadata": {
      "needs_background": "light"
     },
     "output_type": "display_data"
    }
   ],
   "source": [
    "# Importar libreria\n",
    "import matplotlib.pyplot as plt\n",
    "\n",
    "# Generar gráfico\n",
    "for i in range(0,3):\n",
    "    plt.plot(comparacion[i][11], comparacion[i][12], label=names[i])\n",
    "\n",
    "plt.title('ROC curve for diabetes classifier') \n",
    "plt.xlabel('False Positive Rate (1 - Specificity)') \n",
    "plt.ylabel('True Positive Rate (Sensitivity)') \n",
    "plt.legend()\n",
    "plt.grid(True)\n",
    "plt.show()"
   ]
  },
  {
   "cell_type": "markdown",
   "id": "9c60f158",
   "metadata": {},
   "source": [
    "### Ajuste de hiperparámetros de modelos <a name='3.3'></a>\n",
    "Se realiza ajuste de hiperparámetros de los modelos y se evaluan de nuevo, probando de nuevo los modelos considerando los ajustes realizados."
   ]
  },
  {
   "cell_type": "markdown",
   "id": "68d0035a",
   "metadata": {},
   "source": [
    "Utilizando ```GridSearchCV()``` para encontrar los mejores parámetros"
   ]
  },
  {
   "cell_type": "code",
   "execution_count": 28,
   "id": "489bcb6e",
   "metadata": {},
   "outputs": [
    {
     "name": "stdout",
     "output_type": "stream",
     "text": [
      "\n",
      "\n",
      "\n",
      "---------------------------- Support Vector Machine ------------------------------\n",
      "\n",
      "Los mejores hiperparámetros ->\n",
      "{'degree': 2, 'kernel': 'poly', 'max_iter': -1}\n",
      "\n",
      "\n",
      "\n",
      "---------------------------- Logistic Regression ------------------------------\n",
      "\n",
      "Los mejores hiperparámetros ->\n",
      "{'C': 2, 'penalty': 'l2'}\n",
      "\n",
      "\n",
      "\n",
      "---------------------------- Random Forest ------------------------------\n",
      "\n",
      "Los mejores hiperparámetros ->\n",
      "{'criterion': 'gini', 'n_estimators': 160}\n"
     ]
    }
   ],
   "source": [
    "# Importar librerias\n",
    "from scipy.stats import uniform\n",
    "from sklearn.model_selection import GridSearchCV\n",
    "import numpy as np\n",
    "\n",
    "# Crear distribución de cada modelo\n",
    "distribucion_SVM = dict(kernel=['linear', 'poly','rbf', 'sigmoid'],degree=[1,2,3,4,5,6],\n",
    "                        max_iter=[-1,1000,2000])\n",
    "\n",
    "distribucion_LR = dict(C=[0,1,2,3,4],penalty=['l2', 'l1', 'elasticnet', 'none'])\n",
    "\n",
    "distribucion_RF = dict(n_estimators=[50,90,120,160],criterion=['gini','entropy'],)\n",
    "\n",
    "# Etiquetas para el for\n",
    "distribuciones = [distribucion_SVM,distribucion_LR,distribucion_RF]\n",
    "M = [SVM,LR,RF] \n",
    "\n",
    "# Contador y variable que almacene los accuracy scores\n",
    "count = 0\n",
    "accu = []\n",
    "\n",
    "# En un bucle ajustar hiperparámetros\n",
    "for distribucion in distribuciones:\n",
    "    print('\\n\\n')\n",
    "    print('----------------------------', names[count], '------------------------------\\n')\n",
    "    M[count] = GridSearchCV(M[count], distribucion)\n",
    "    # Ajustar el modelo otra vez\n",
    "    M[count] = M[count].fit(X_train, y_train)\n",
    "    print('Los mejores hiperparámetros ->')\n",
    "    #modelos[count] = M[count].predict(X_test)\n",
    "    P = M[count].best_params_\n",
    "    accu.append(P)\n",
    "    print(P)\n",
    "    \n",
    "    count = count+1"
   ]
  },
  {
   "cell_type": "markdown",
   "id": "05c961d4",
   "metadata": {},
   "source": [
    "Evaluamos los modelos con los mejores parámetros:"
   ]
  },
  {
   "cell_type": "code",
   "execution_count": 39,
   "id": "fb26f305",
   "metadata": {},
   "outputs": [],
   "source": [
    "# SVM\n",
    "\n",
    "# Crear el modelo\n",
    "SVM = SVC(probability=True,kernel='poly',degree=2,max_iter=-1)\n",
    "\n",
    "# Ajustar modelo\n",
    "SVM.fit(X_train, y_train)\n",
    "\n",
    "# Realizar una predicción\n",
    "y_pred_SVM2 = SVM.predict(X_test) \n",
    "\n",
    "### Guardamos el modelo como objeto pickle\n",
    "import pickle\n",
    "with open('SVM.pkl', 'wb') as file:\n",
    "    pickle.dump(SVM, file)\n",
    "\n",
    "# LR\n",
    "\n",
    "# Crear el modelo\n",
    "LR = LogisticRegression(penalty='l2',C=2)\n",
    "\n",
    "# Ajustar modelo\n",
    "LR.fit(X_train, y_train)\n",
    "\n",
    "# Realizar una predicción\n",
    "y_pred_LR2 = LR.predict(X_test) \n",
    "\n",
    "# RF\n",
    "\n",
    "# Crear el modelo\n",
    "RF = RandomForestClassifier(n_estimators= 90, criterion='gini') \n",
    "\n",
    "# Ajustar modelo\n",
    "RF.fit(X_train, y_train)\n",
    "\n",
    "# Realizar una predicción\n",
    "y_pred_RF2 = RF.predict(X_test) "
   ]
  },
  {
   "cell_type": "markdown",
   "id": "cec0d25e",
   "metadata": {},
   "source": [
    "**Evaluación y comparación** <a name='P1'></a>"
   ]
  },
  {
   "cell_type": "code",
   "execution_count": 30,
   "id": "c6c993f2",
   "metadata": {},
   "outputs": [
    {
     "name": "stdout",
     "output_type": "stream",
     "text": [
      "\n",
      "\n",
      "\n",
      "---------------------------- Support Vector Machine ------------------------------\n",
      "\n",
      "Matriz de confusión ->\n",
      "[[237   5]\n",
      " [  2  19]]\n",
      "\n",
      "\n",
      "Métricas calculadas a partir de una matriz de confusión ->\n",
      "Exactitud:  0.973384030418251\n",
      "Exactitud con metrics:  0.973384030418251\n",
      "Error de clasificación:  0.026615969581749048\n",
      "Error de clasificación con metrics: 0.026615969581749055\n",
      "Sensitividad:  0.9047619047619048\n",
      "Sensitividad con metrics:  0.9047619047619048\n",
      "Especificidad:  0.9793388429752066\n",
      "Tasa de falsos positivos:  0.02066115702479339\n",
      "Precisión:  0.7916666666666666\n",
      "F1-score:  0.8444444444444446\n",
      "\n",
      "\n",
      "\n",
      "---------------------------- Logistic Regression ------------------------------\n",
      "\n",
      "Matriz de confusión ->\n",
      "[[237   5]\n",
      " [  3  18]]\n",
      "\n",
      "\n",
      "Métricas calculadas a partir de una matriz de confusión ->\n",
      "Exactitud:  0.9695817490494296\n",
      "Exactitud con metrics:  0.9695817490494296\n",
      "Error de clasificación:  0.030418250950570342\n",
      "Error de clasificación con metrics: 0.03041825095057038\n",
      "Sensitividad:  0.8571428571428571\n",
      "Sensitividad con metrics:  0.8571428571428571\n",
      "Especificidad:  0.9793388429752066\n",
      "Tasa de falsos positivos:  0.02066115702479339\n",
      "Precisión:  0.782608695652174\n",
      "F1-score:  0.8181818181818181\n",
      "\n",
      "\n",
      "\n",
      "---------------------------- Random Forest ------------------------------\n",
      "\n",
      "Matriz de confusión ->\n",
      "[[237   5]\n",
      " [  2  19]]\n",
      "\n",
      "\n",
      "Métricas calculadas a partir de una matriz de confusión ->\n",
      "Exactitud:  0.973384030418251\n",
      "Exactitud con metrics:  0.973384030418251\n",
      "Error de clasificación:  0.026615969581749048\n",
      "Error de clasificación con metrics: 0.026615969581749055\n",
      "Sensitividad:  0.9047619047619048\n",
      "Sensitividad con metrics:  0.9047619047619048\n",
      "Especificidad:  0.9793388429752066\n",
      "Tasa de falsos positivos:  0.02066115702479339\n",
      "Precisión:  0.7916666666666666\n",
      "F1-score:  0.8444444444444446\n"
     ]
    }
   ],
   "source": [
    "# Evaluación\n",
    "\n",
    "# Creamos una variable que almacene los datos para poder compararlos\n",
    "comparacion2 = [[],[],[]]\n",
    "count = 0 # Contador\n",
    "\n",
    "# Etiquetas de los modelos\n",
    "modelos = [y_pred_SVM2,y_pred_LR2,y_pred_RF2]\n",
    "names = ['Support Vector Machine','Logistic Regression','Random Forest']\n",
    "\n",
    "# En un bucle se calculan las métricas del modelo respectivo.\n",
    "for y_pred in modelos:\n",
    "    print('\\n\\n')\n",
    "    print('----------------------------', names[count], '------------------------------\\n')\n",
    "    print('Matriz de confusión ->')\n",
    "    cf_matrix = metrics.confusion_matrix(y_test, y_pred)\n",
    "    print(cf_matrix)\n",
    "    print('\\n')\n",
    "    \n",
    "    # save confusion matrix and slice into four pieces\n",
    "    conf = metrics.confusion_matrix(y_test, y_pred)\n",
    "    #[row, column]\n",
    "    TP = conf[1, 1]\n",
    "    TN = conf[0, 0]\n",
    "    FP = conf[0, 1]\n",
    "    FN = conf[1, 0]\n",
    "    print('Métricas calculadas a partir de una matriz de confusión ->')\n",
    "    \n",
    "    # Classification Accuracy\n",
    "    print('Exactitud: ', (TP + TN) / float(TP + TN + FP + FN))\n",
    "    print('Exactitud con metrics: ', metrics.accuracy_score(y_test, y_pred))\n",
    "    comparacion2[count].append((TP + TN) / float(TP + TN + FP + FN))\n",
    "    comparacion2[count].append(metrics.accuracy_score(y_test, y_pred))\n",
    "\n",
    "    # Classification Error\n",
    "    print('Error de clasificación: ', (FP + FN) / float(TP + TN + FP + FN))\n",
    "    print('Error de clasificación con metrics:' , 1 - metrics.accuracy_score(y_test, y_pred))\n",
    "    comparacion2[count].append((FP + FN) / float(TP + TN + FP + FN))\n",
    "    comparacion2[count].append(1 - metrics.accuracy_score(y_test, y_pred))\n",
    "    \n",
    "    #Sensitivity\n",
    "    print('Sensitividad: ', TP / float(FN + TP))\n",
    "    print('Sensitividad con metrics: ', metrics.recall_score(y_test, y_pred))\n",
    "    r = metrics.recall_score(y_test, y_pred)\n",
    "    comparacion2[count].append(TP / float(FN + TP))\n",
    "    comparacion2[count].append(metrics.recall_score(y_test, y_pred))\n",
    "    \n",
    "    # Specificity\n",
    "    print('Especificidad: ', TN / (TN + FP))\n",
    "    comparacion2[count].append(TN / (TN + FP))\n",
    "    \n",
    "    # False Positive Rate\n",
    "    print('Tasa de falsos positivos: ', FP / float(TN + FP))\n",
    "    comparacion2[count].append(FP / float(TN + FP))\n",
    "    \n",
    "    # Precision\n",
    "    print('Precisión: ', metrics.precision_score(y_test, y_pred))\n",
    "    p = metrics.precision_score(y_test, y_pred)\n",
    "    comparacion2[count].append(metrics.precision_score(y_test, y_pred))\n",
    "    \n",
    "    # F1-score\n",
    "    print('F1-score: ', 2 / ((1/p) + (1/r)))\n",
    "    comparacion2[count].append(2 / ((1/p) + (1/r)))\n",
    "    \n",
    "    # AUC\n",
    "    AUC = metrics.roc_auc_score(y_test, y_pred)\n",
    "    comparacion2[count].append(AUC)\n",
    "    \n",
    "    # Curva ROC\n",
    "    fpr, tpr, thresholds = metrics.roc_curve(y_test, y_pred)\n",
    "    comparacion2[count].append(fpr)\n",
    "    comparacion2[count].append(tpr)\n",
    "    comparacion2[count].append(thresholds)\n",
    "    \n",
    "    count = count+1"
   ]
  },
  {
   "cell_type": "code",
   "execution_count": 31,
   "id": "092b0230",
   "metadata": {},
   "outputs": [
    {
     "name": "stdout",
     "output_type": "stream",
     "text": [
      "COMPARACIÓN CON HIPERPARÁMETROS\n"
     ]
    },
    {
     "data": {
      "text/html": [
       "<div>\n",
       "<style scoped>\n",
       "    .dataframe tbody tr th:only-of-type {\n",
       "        vertical-align: middle;\n",
       "    }\n",
       "\n",
       "    .dataframe tbody tr th {\n",
       "        vertical-align: top;\n",
       "    }\n",
       "\n",
       "    .dataframe thead th {\n",
       "        text-align: right;\n",
       "    }\n",
       "</style>\n",
       "<table border=\"1\" class=\"dataframe\">\n",
       "  <thead>\n",
       "    <tr style=\"text-align: right;\">\n",
       "      <th></th>\n",
       "      <th>Support Vector Machine</th>\n",
       "      <th>Logistic Regression</th>\n",
       "      <th>Random Forest</th>\n",
       "    </tr>\n",
       "  </thead>\n",
       "  <tbody>\n",
       "    <tr>\n",
       "      <th>Exactitud</th>\n",
       "      <td>0.973384</td>\n",
       "      <td>0.969582</td>\n",
       "      <td>0.973384</td>\n",
       "    </tr>\n",
       "    <tr>\n",
       "      <th>Exactitud con metrics</th>\n",
       "      <td>0.973384</td>\n",
       "      <td>0.969582</td>\n",
       "      <td>0.973384</td>\n",
       "    </tr>\n",
       "    <tr>\n",
       "      <th>Error de clasificación</th>\n",
       "      <td>0.026616</td>\n",
       "      <td>0.030418</td>\n",
       "      <td>0.026616</td>\n",
       "    </tr>\n",
       "    <tr>\n",
       "      <th>Error de clasificación con metrics</th>\n",
       "      <td>0.026616</td>\n",
       "      <td>0.030418</td>\n",
       "      <td>0.026616</td>\n",
       "    </tr>\n",
       "    <tr>\n",
       "      <th>Sensitividad</th>\n",
       "      <td>0.904762</td>\n",
       "      <td>0.857143</td>\n",
       "      <td>0.904762</td>\n",
       "    </tr>\n",
       "    <tr>\n",
       "      <th>Sensitividad con metrics</th>\n",
       "      <td>0.904762</td>\n",
       "      <td>0.857143</td>\n",
       "      <td>0.904762</td>\n",
       "    </tr>\n",
       "    <tr>\n",
       "      <th>Especificidad</th>\n",
       "      <td>0.979339</td>\n",
       "      <td>0.979339</td>\n",
       "      <td>0.979339</td>\n",
       "    </tr>\n",
       "    <tr>\n",
       "      <th>Tasa de falsos positivos</th>\n",
       "      <td>0.020661</td>\n",
       "      <td>0.020661</td>\n",
       "      <td>0.020661</td>\n",
       "    </tr>\n",
       "    <tr>\n",
       "      <th>Precisión2</th>\n",
       "      <td>0.791667</td>\n",
       "      <td>0.782609</td>\n",
       "      <td>0.791667</td>\n",
       "    </tr>\n",
       "    <tr>\n",
       "      <th>F1-score</th>\n",
       "      <td>0.844444</td>\n",
       "      <td>0.818182</td>\n",
       "      <td>0.844444</td>\n",
       "    </tr>\n",
       "    <tr>\n",
       "      <th>AUC</th>\n",
       "      <td>0.94205</td>\n",
       "      <td>0.918241</td>\n",
       "      <td>0.94205</td>\n",
       "    </tr>\n",
       "  </tbody>\n",
       "</table>\n",
       "</div>"
      ],
      "text/plain": [
       "                                   Support Vector Machine Logistic Regression  \\\n",
       "Exactitud                                        0.973384            0.969582   \n",
       "Exactitud con metrics                            0.973384            0.969582   \n",
       "Error de clasificación                           0.026616            0.030418   \n",
       "Error de clasificación con metrics               0.026616            0.030418   \n",
       "Sensitividad                                     0.904762            0.857143   \n",
       "Sensitividad con metrics                         0.904762            0.857143   \n",
       "Especificidad                                    0.979339            0.979339   \n",
       "Tasa de falsos positivos                         0.020661            0.020661   \n",
       "Precisión2                                       0.791667            0.782609   \n",
       "F1-score                                         0.844444            0.818182   \n",
       "AUC                                               0.94205            0.918241   \n",
       "\n",
       "                                   Random Forest  \n",
       "Exactitud                               0.973384  \n",
       "Exactitud con metrics                   0.973384  \n",
       "Error de clasificación                  0.026616  \n",
       "Error de clasificación con metrics      0.026616  \n",
       "Sensitividad                            0.904762  \n",
       "Sensitividad con metrics                0.904762  \n",
       "Especificidad                           0.979339  \n",
       "Tasa de falsos positivos                0.020661  \n",
       "Precisión2                              0.791667  \n",
       "F1-score                                0.844444  \n",
       "AUC                                      0.94205  "
      ]
     },
     "metadata": {},
     "output_type": "display_data"
    },
    {
     "name": "stdout",
     "output_type": "stream",
     "text": [
      "COMPARACIÓN SIN HIPERPARÁMETROS\n"
     ]
    },
    {
     "data": {
      "text/html": [
       "<div>\n",
       "<style scoped>\n",
       "    .dataframe tbody tr th:only-of-type {\n",
       "        vertical-align: middle;\n",
       "    }\n",
       "\n",
       "    .dataframe tbody tr th {\n",
       "        vertical-align: top;\n",
       "    }\n",
       "\n",
       "    .dataframe thead th {\n",
       "        text-align: right;\n",
       "    }\n",
       "</style>\n",
       "<table border=\"1\" class=\"dataframe\">\n",
       "  <thead>\n",
       "    <tr style=\"text-align: right;\">\n",
       "      <th></th>\n",
       "      <th>Support Vector Machine</th>\n",
       "      <th>Logistic Regression</th>\n",
       "      <th>Random Forest</th>\n",
       "    </tr>\n",
       "  </thead>\n",
       "  <tbody>\n",
       "    <tr>\n",
       "      <th>Exactitud</th>\n",
       "      <td>0.973384</td>\n",
       "      <td>0.969582</td>\n",
       "      <td>0.973384</td>\n",
       "    </tr>\n",
       "    <tr>\n",
       "      <th>Exactitud con metrics</th>\n",
       "      <td>0.973384</td>\n",
       "      <td>0.969582</td>\n",
       "      <td>0.973384</td>\n",
       "    </tr>\n",
       "    <tr>\n",
       "      <th>Error de clasificación</th>\n",
       "      <td>0.026616</td>\n",
       "      <td>0.030418</td>\n",
       "      <td>0.026616</td>\n",
       "    </tr>\n",
       "    <tr>\n",
       "      <th>Error de clasificación con metrics</th>\n",
       "      <td>0.026616</td>\n",
       "      <td>0.030418</td>\n",
       "      <td>0.026616</td>\n",
       "    </tr>\n",
       "    <tr>\n",
       "      <th>Sensitividad</th>\n",
       "      <td>0.904762</td>\n",
       "      <td>0.857143</td>\n",
       "      <td>0.904762</td>\n",
       "    </tr>\n",
       "    <tr>\n",
       "      <th>Sensitividad con metrics</th>\n",
       "      <td>0.904762</td>\n",
       "      <td>0.857143</td>\n",
       "      <td>0.904762</td>\n",
       "    </tr>\n",
       "    <tr>\n",
       "      <th>Especificidad</th>\n",
       "      <td>0.979339</td>\n",
       "      <td>0.979339</td>\n",
       "      <td>0.979339</td>\n",
       "    </tr>\n",
       "    <tr>\n",
       "      <th>Tasa de falsos positivos</th>\n",
       "      <td>0.020661</td>\n",
       "      <td>0.020661</td>\n",
       "      <td>0.020661</td>\n",
       "    </tr>\n",
       "    <tr>\n",
       "      <th>Precisión</th>\n",
       "      <td>0.791667</td>\n",
       "      <td>0.782609</td>\n",
       "      <td>0.791667</td>\n",
       "    </tr>\n",
       "    <tr>\n",
       "      <th>F1-score</th>\n",
       "      <td>0.844444</td>\n",
       "      <td>0.818182</td>\n",
       "      <td>0.844444</td>\n",
       "    </tr>\n",
       "    <tr>\n",
       "      <th>AUC</th>\n",
       "      <td>0.94205</td>\n",
       "      <td>0.918241</td>\n",
       "      <td>0.94205</td>\n",
       "    </tr>\n",
       "  </tbody>\n",
       "</table>\n",
       "</div>"
      ],
      "text/plain": [
       "                                   Support Vector Machine Logistic Regression  \\\n",
       "Exactitud                                        0.973384            0.969582   \n",
       "Exactitud con metrics                            0.973384            0.969582   \n",
       "Error de clasificación                           0.026616            0.030418   \n",
       "Error de clasificación con metrics               0.026616            0.030418   \n",
       "Sensitividad                                     0.904762            0.857143   \n",
       "Sensitividad con metrics                         0.904762            0.857143   \n",
       "Especificidad                                    0.979339            0.979339   \n",
       "Tasa de falsos positivos                         0.020661            0.020661   \n",
       "Precisión                                        0.791667            0.782609   \n",
       "F1-score                                         0.844444            0.818182   \n",
       "AUC                                               0.94205            0.918241   \n",
       "\n",
       "                                   Random Forest  \n",
       "Exactitud                               0.973384  \n",
       "Exactitud con metrics                   0.973384  \n",
       "Error de clasificación                  0.026616  \n",
       "Error de clasificación con metrics      0.026616  \n",
       "Sensitividad                            0.904762  \n",
       "Sensitividad con metrics                0.904762  \n",
       "Especificidad                           0.979339  \n",
       "Tasa de falsos positivos                0.020661  \n",
       "Precisión                               0.791667  \n",
       "F1-score                                0.844444  \n",
       "AUC                                      0.94205  "
      ]
     },
     "execution_count": 31,
     "metadata": {},
     "output_type": "execute_result"
    }
   ],
   "source": [
    "# Comparación\n",
    "comp2 = {'Support Vector Machine': comparacion2[0], \n",
    "       'Logistic Regression': comparacion2[1], \n",
    "       'Random Forest': comparacion2[2]}\n",
    "tabla2 = pd.DataFrame(comp2, index=['Exactitud','Exactitud con metrics','Error de clasificación',\n",
    "                                     'Error de clasificación con metrics','Sensitividad',\n",
    "                                     'Sensitividad con metrics','Especificidad','Tasa de falsos positivos',\n",
    "                                     'Precisión2', 'F1-score','AUC','fpr','tpr','thresholds'])\n",
    "compar2 = tabla2\n",
    "compar2 = compar2.drop(['fpr','tpr','thresholds'])\n",
    "print('COMPARACIÓN CON HIPERPARÁMETROS')\n",
    "display(compar2)\n",
    "print('COMPARACIÓN SIN HIPERPARÁMETROS')\n",
    "compar"
   ]
  },
  {
   "cell_type": "code",
   "execution_count": 32,
   "id": "2bd45c39",
   "metadata": {},
   "outputs": [
    {
     "data": {
      "image/png": "[encoded data removed]",
      "text/plain": [
       "<Figure size 432x288 with 1 Axes>"
      ]
     },
     "metadata": {
      "needs_background": "light"
     },
     "output_type": "display_data"
    }
   ],
   "source": [
    "# Importar libreria\n",
    "import matplotlib.pyplot as plt\n",
    "\n",
    "# Generar gráfico\n",
    "for i in range(0,3):\n",
    "    plt.plot(comparacion[i][11], comparacion[i][12], label=names[i])\n",
    "\n",
    "for i in range(0,3):\n",
    "    plt.plot(comparacion2[i][11], comparacion2[i][12], label=(names[i],'con hiperparámetros'))\n",
    "    \n",
    "plt.title('ROC curve for diabetes classifier') \n",
    "plt.xlabel('False Positive Rate (1 - Specificity)') \n",
    "plt.ylabel('True Positive Rate (Sensitivity)') \n",
    "plt.legend()\n",
    "plt.grid(True)\n",
    "plt.show()"
   ]
  },
  {
   "cell_type": "code",
   "execution_count": null,
   "id": "14f2f9fd",
   "metadata": {},
   "outputs": [],
   "source": []
  }
 ],
 "metadata": {
  "kernelspec": {
   "display_name": "Python 3 (ipykernel)",
   "language": "python",
   "name": "python3"
  },
  "language_info": {
   "codemirror_mode": {
    "name": "ipython",
    "version": 3
   },
   "file_extension": ".py",
   "mimetype": "text/x-python",
   "name": "python",
   "nbconvert_exporter": "python",
   "pygments_lexer": "ipython3",
   "version": "3.9.12"
  }
 },
 "nbformat": 4,
 "nbformat_minor": 5
}
