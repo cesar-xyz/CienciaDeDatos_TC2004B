{
 "cells": [
  {
   "cell_type": "markdown",
   "metadata": {
    "id": "6a7kAdMvwagh"
   },
   "source": [
    "# **Python Bootcamp - Day 1**"
   ]
  },
  {
   "cell_type": "markdown",
   "metadata": {
    "id": "_-YmJGlj6IR2"
   },
   "source": [
    "# **Part 0. Jupyter Notebooks introduction**\n",
    "\n",
    "\n",
    "---\n",
    "\n",
    "\n",
    "\n",
    "---\n",
    "The **Jupyter Notebook** is an open-source web application that allows you to create and share documents that contain live code, equations, visualizations and narrative text. \n",
    "\n",
    "### **Text cells**\n",
    "To edit an existing text cell, click on it.\n",
    "\n",
    "\n",
    "### **Code cells**\n",
    "\n",
    "To run the code in a cell, just click the **Play** button. To edit an existing code cell, click on it. \n",
    "Shortcuts, for Mac: COMMAND + ENTER, for Windows: CTRL + ENTER"
   ]
  },
  {
   "cell_type": "markdown",
   "metadata": {
    "id": "_PeUEH8q19Qp"
   },
   "source": [
    "\n",
    "# **Part 1. Introduction to Python**\n",
    "\n",
    "---\n",
    "\n",
    "\n",
    "\n",
    "---"
   ]
  },
  {
   "cell_type": "markdown",
   "metadata": {
    "id": "0na6oM_HRlAB"
   },
   "source": [
    "\n",
    "\n",
    "\n",
    "\n",
    "## **Python Basics**\n",
    "---\n",
    "\n",
    "### **What is a programming language?**\n",
    "\n",
    "A programming language is a vocabulary and set of grammatical rules for instructing a computer or computing device to perform specific tasks.\n",
    "\n",
    "### **What is Python?**\n",
    "So, what is Python? Simply put, Python is a programming language. It was created by Guido van Rossum in the early 90s, and is now one of the most popular languages in existence.\n",
    "\n",
    "Python's design philosophy emphasizes code readability.\n",
    "\n",
    "Python is an interpreted language, so it doesn't need to be compiled."
   ]
  },
  {
   "cell_type": "markdown",
   "metadata": {
    "id": "-br44FcnVfeV"
   },
   "source": [
    "## **Displaying Messages**\n",
    "\n",
    "---\n"
   ]
  },
  {
   "cell_type": "markdown",
   "metadata": {
    "id": "XmCg9BvGnmx1"
   },
   "source": [
    "### **Your First Python Program**\n",
    "Programming tutorials since the beginning of time have started with a little program called \"Hello, World!\" So here it is:"
   ]
  },
  {
   "cell_type": "code",
   "execution_count": 1,
   "metadata": {
    "colab": {
     "base_uri": "https://localhost:8080/"
    },
    "id": "naS5OkhZLWxR",
    "outputId": "0709d404-df6c-46e9-b432-4ad3f8dfa1a8"
   },
   "outputs": [
    {
     "name": "stdout",
     "output_type": "stream",
     "text": [
      "Hello, World!\n"
     ]
    }
   ],
   "source": [
    "print(\"Hello, World!\")\n"
   ]
  },
  {
   "cell_type": "markdown",
   "metadata": {
    "id": "BPJ3tH2VMP7S"
   },
   "source": [
    "What we were doing above is using a function called **print**. The function's name **print** is followed by parentheses containing zero or more arguments. Consider this example: \n",
    "\n",
    "```\n",
    "print(\"Hello, World!\")\n",
    "``` \n",
    "In this example, there is one argument, which is \"Hello, World!\". The combination of a function and parentheses with the arguments is a **function** call. \n",
    "\n",
    "A function and its arguments are one type of statement that Python has that you can think of a statement as a single line in a program. "
   ]
  },
  {
   "cell_type": "markdown",
   "metadata": {
    "id": "K64WKB3VOF_5"
   },
   "source": [
    "Here is another program: "
   ]
  },
  {
   "cell_type": "code",
   "execution_count": 2,
   "metadata": {
    "colab": {
     "base_uri": "https://localhost:8080/"
    },
    "id": "ak58F0SYOGll",
    "outputId": "47ef3283-a282-4799-945f-1b1fa6f49944"
   },
   "outputs": [
    {
     "name": "stdout",
     "output_type": "stream",
     "text": [
      "4\n",
      "12\n"
     ]
    }
   ],
   "source": [
    "print(2 + 2)\n",
    "print(3 * 4)"
   ]
  },
  {
   "cell_type": "markdown",
   "metadata": {
    "id": "DeIymSzcm4V9"
   },
   "source": [
    "### **How Comments Work in Python**\n",
    "\n",
    "Often in programming, you are doing something complicated and might not remember in future what you did! To avoid this, the program must be commented. A **comment** is a note to you and other programmers explaining what is happening. For example: "
   ]
  },
  {
   "cell_type": "code",
   "execution_count": 3,
   "metadata": {
    "colab": {
     "base_uri": "https://localhost:8080/"
    },
    "id": "CzXlhM3dN3lJ",
    "outputId": "03ee2e8b-4209-4957-8e99-4c88da5cc806"
   },
   "outputs": [
    {
     "name": "stdout",
     "output_type": "stream",
     "text": [
      "3.142857142857143\n"
     ]
    }
   ],
   "source": [
    "# Not quite PI, but a credible approximation\n",
    "print(22 / 7)"
   ]
  },
  {
   "cell_type": "markdown",
   "metadata": {
    "id": "nMaLra2xOOJu"
   },
   "source": [
    "### **Arithmetic Expressions**"
   ]
  },
  {
   "cell_type": "markdown",
   "metadata": {
    "id": "5VVGlfypSgid"
   },
   "source": [
    "In this example, the **print** function is followed by two arguments, with each of the arguments separated by a comma. Here's the first line of the program: \n",
    "\n",
    "```print(\"2 + 2 is\", 2 + 2)```\n",
    "\n",
    "The first argument in the preceding line is the string **\"2 + 2 is\"** and the second argument is the arithmetic expression **2 + 2**, which is one kind of expressions.\n",
    "\n",
    "What is important to note is that a string is printed _as is_ (without the enclosing double quotes), but an expression is evaluated, or converted to its actual value.\n",
    "\n",
    "Python has **seven** basic operations for numbers: "
   ]
  },
  {
   "cell_type": "markdown",
   "metadata": {
    "id": "vEG82xauOWTr"
   },
   "source": [
    "<table>\n",
    "    <tr>\n",
    "        <th>Operation</th>\n",
    "        <th>Symbol</th>\n",
    "        <th>Example</th>\n",
    "    </tr>\n",
    "    <tr>\n",
    "        <td>Power (exponentiation)</td>\n",
    "        <td>**</td>\n",
    "        <td>5 ** 2 == 25</td>\n",
    "    </tr>\n",
    "    <tr>\n",
    "        <td>Multiplication</td>\n",
    "        <td>*</td>\n",
    "        <td>2 * 3 == 6</td>\n",
    "    </tr>\n",
    "    <tr>\n",
    "        <td>Division</td>\n",
    "        <td>/</td>\n",
    "        <td>14 / 3 == 4.666666666666667</td>\n",
    "    </tr>\n",
    "    <tr>\n",
    "        <td>Integer Division</td>\n",
    "        <td>//</td>\n",
    "        <td>14 // 3 == 4</td>\n",
    "    </tr>\n",
    "    <tr>\n",
    "        <td>Remainder (modulo)</td>\n",
    "        <td>%</td>\n",
    "        <td>14 % 3 == 2</td>\n",
    "    </tr>\n",
    "    <tr>\n",
    "        <td>Addition</td>\n",
    "        <td>+</td>\n",
    "        <td>1 + 2 == 3</td>\n",
    "    </tr>\n",
    "    <tr>\n",
    "        <td>Subtraction</td>\n",
    "        <td>-</td>\n",
    "        <td>4 - 3 == 1</td>\n",
    "    </tr>\n",
    "</table>\n",
    "\n"
   ]
  },
  {
   "cell_type": "markdown",
   "metadata": {
    "id": "Vm_QheBjnav9"
   },
   "source": [
    "### **Importing Modules**"
   ]
  },
  {
   "cell_type": "markdown",
   "metadata": {
    "id": "Ho32zeNln203"
   },
   "source": [
    "Python's growing popularity has allowed it to enter into some of the most popular and complex processes like Artificial Intelligence (AI), Machine Learning (ML), Natural Language Processing (NLP), Data Science, etc. \n",
    "\n",
    "Visit [pypi.org](https://pypi.org/) to find and install software developed and shared by the Python community."
   ]
  },
  {
   "cell_type": "code",
   "execution_count": 1,
   "metadata": {
    "colab": {
     "base_uri": "https://localhost:8080/"
    },
    "id": "ZXut5mo2u6_A",
    "outputId": "8cf52cd6-08ed-4f4c-ccd2-54c8447a9177"
   },
   "outputs": [
    {
     "name": "stdout",
     "output_type": "stream",
     "text": [
      "Today's date: 2022-04-01\n"
     ]
    }
   ],
   "source": [
    "from datetime import date\n",
    "\n",
    "print(\"Today's date:\", date.today())"
   ]
  },
  {
   "cell_type": "code",
   "execution_count": 13,
   "metadata": {
    "colab": {
     "base_uri": "https://localhost:8080/",
     "height": 35
    },
    "id": "nGDsnEdPkCfQ",
    "outputId": "668abb76-be10-4a8e-85ee-75de8e683e46"
   },
   "outputs": [
    {
     "name": "stdout",
     "output_type": "stream",
     "text": [
      "Give me a number:  38\n"
     ]
    }
   ],
   "source": [
    "import random\n",
    "\n",
    "print(\"Give me a number: \", random.randint(1, 100))"
   ]
  },
  {
   "cell_type": "code",
   "execution_count": 14,
   "metadata": {
    "colab": {
     "base_uri": "https://localhost:8080/",
     "height": 386
    },
    "id": "2g3gWGGGSraB",
    "outputId": "2c1e883e-d92f-487c-c485-3a9d95df847f"
   },
   "outputs": [],
   "source": [
    "import this"
   ]
  },
  {
   "cell_type": "markdown",
   "metadata": {
    "id": "ciBpsGRsS23L"
   },
   "source": [
    "### **Exercises**"
   ]
  },
  {
   "cell_type": "markdown",
   "metadata": {
    "id": "RyI0uzT7Tf-M"
   },
   "source": [
    "1.   Write a program that prints your full name and your birthday as separate strings."
   ]
  },
  {
   "cell_type": "code",
   "execution_count": 23,
   "metadata": {
    "id": "LClA11Z7UXLZ"
   },
   "outputs": [
    {
     "name": "stdout",
     "output_type": "stream",
     "text": [
      "César Guillermo Vázquez Alvarez \t Birthday: 2001-11-12\n"
     ]
    }
   ],
   "source": [
    "from datetime import date\n",
    "full_name = \"César Guillermo Vázquez Alvarez\"\n",
    "birthday = date(2001, 11, 12)\n",
    "print(full_name,\"\\t Birthday:\" ,birthday)"
   ]
  },
  {
   "cell_type": "markdown",
   "metadata": {
    "id": "DL1GAGUuUqvS"
   },
   "source": [
    "2.   Write a program that shows the use of all 7 arithmetic operations."
   ]
  },
  {
   "cell_type": "code",
   "execution_count": 25,
   "metadata": {
    "id": "kPUIJkGqUr6p"
   },
   "outputs": [
    {
     "name": "stdout",
     "output_type": "stream",
     "text": [
      "Example power 16\n",
      "Example multiplication 8\n",
      "Example division 0.5\n",
      "Example integer division 0\n",
      "Example remainder 2\n",
      "Example addition 6\n",
      "Example substraction -2\n"
     ]
    }
   ],
   "source": [
    "a = 2\n",
    "b = 4\n",
    "print(\"Example power\", a**b)\n",
    "print(\"Example multiplication\", a*b)\n",
    "print(\"Example division\", a/b)\n",
    "print(\"Example integer division\", a//b)\n",
    "print(\"Example remainder\", a%b)\n",
    "print(\"Example addition\", a+b)\n",
    "print(\"Example substraction\", a-b)"
   ]
  },
  {
   "cell_type": "markdown",
   "metadata": {
    "id": "fpxkX47qTbRw"
   },
   "source": [
    "\n",
    "# **Part 2. Simple Data Types and Variables**\n",
    "\n",
    "---\n",
    "\n",
    "---\n",
    "\n",
    "\n",
    "\n"
   ]
  },
  {
   "cell_type": "markdown",
   "metadata": {
    "id": "a43PTJsfvS-R"
   },
   "source": [
    "## **Variable Assignment**\n",
    "\n",
    "---\n",
    "###**What is a Programming Variable?**\n",
    "**Variables** are used to store information to be referenced and manipulated in a computer program. They also provide a way of labeling data with a descriptive name, so our programs can be understood more clearly by the reader and ourselves. It is helpful to think of variables as containers that hold information"
   ]
  },
  {
   "cell_type": "code",
   "execution_count": null,
   "metadata": {
    "id": "xML28U-rAY3u"
   },
   "outputs": [],
   "source": [
    "number = 5\n",
    "text = '5'\n",
    "pi = 3.1416"
   ]
  },
  {
   "cell_type": "markdown",
   "metadata": {
    "id": "1PqTJN6utWor"
   },
   "source": [
    "### **Classes in Python**\n",
    "**Classes** help developers to represent real-world entities:\n",
    "\n",
    "* Classes define objects in attributes and behaviors. Attributes are data \n",
    "members and behaviors are manifested by the member functions.\n",
    "* Classes consist of constructors that provide the initial state for these objects.\n",
    "* Classes are like templates and hence can be easily reused. \n",
    "\n",
    "For example, class **Person** will have attributes **name** and **age** and member function **gotoOffice()** that defines his behavior for travelling to office for work.\n"
   ]
  },
  {
   "cell_type": "code",
   "execution_count": null,
   "metadata": {
    "id": "YUGNrtRBtYwg"
   },
   "outputs": [],
   "source": [
    "class Person:\n",
    "  def __init__(self, name, age):\n",
    "    self.name = name\n",
    "    self.age = age\n",
    "\n",
    "  def gotoOffice(self):\n",
    "    print(self.name + ' is walking to the office')\n",
    "\n",
    "p1 = Person(\"John\", 36)\n",
    "p1.gotoOffice()"
   ]
  },
  {
   "cell_type": "markdown",
   "metadata": {
    "id": "p0GHP0Ck2r9q"
   },
   "source": [
    "### **Objects in Python**\n",
    "They represent entities in your application under development.\n",
    "\n",
    "Entities interact among themselves to solve real-world problems.\n",
    "\n",
    "For example, **Person** is an entity and **Car** is an entity. **Person** drives **Car** to move from one location to the other.\n",
    "\n",
    "\n",
    "\n",
    "```\n",
    "john = Person()\n",
    "toyota = Car()\n",
    "\n",
    "john.drives(toyota)\n",
    "```\n",
    "\n",
    "\n",
    "\n"
   ]
  },
  {
   "cell_type": "markdown",
   "metadata": {
    "id": "XHWrXnGztZW1"
   },
   "source": [
    "\n",
    "### **Methods in Python**\n",
    "* They represent the behavior of the object.\n",
    "* Methods work on attributes and also implement the desired functionality.\n",
    "\n",
    "For example, **newYear()** can read the current age of the person and add one year to it.\n",
    "\n"
   ]
  },
  {
   "cell_type": "code",
   "execution_count": 3,
   "metadata": {
    "id": "MAw0YSsMta8B"
   },
   "outputs": [
    {
     "name": "stdout",
     "output_type": "stream",
     "text": [
      "John is 36 years old\n",
      "Now John is 37 years old\n"
     ]
    }
   ],
   "source": [
    "class Person:\n",
    "  def __init__(self, name, age):\n",
    "    self.name = name\n",
    "    self.age = age\n",
    "\n",
    "  def newYear(self):\n",
    "    self.age += 1\n",
    "\n",
    "john = Person(\"John\", 36)\n",
    "print(john.name + ' is ' + str(john.age) + ' years old')\n",
    "john.newYear()\n",
    "print(\"Now \" + john.name + ' is ' + str(john.age) + ' years old')"
   ]
  },
  {
   "cell_type": "markdown",
   "metadata": {
    "id": "WYgdtIA7OLr7"
   },
   "source": [
    "## **Functions**\n",
    "\n",
    "---"
   ]
  },
  {
   "cell_type": "markdown",
   "metadata": {
    "id": "DTNFmHzzca_Q"
   },
   "source": [
    "### **What is a Programing Function?**\n",
    "A **function** is a block of organized, reusable code that is used to perform a single, related action. [8](https://www.tutorialspoint.com/computer_programming/computer_programming_functions.htm)\n",
    "\n",
    "A function is a block of code which only runs when it is called. [9](https://www.w3schools.com/python/python_functions.asp)\n",
    "\n",
    "### **How to Define a Function?**\n",
    "In Python, a function is defined using the `def` keyword:\n",
    "```python\n",
    "def my_function():\n",
    "  print(\"Hello from a function\") \n",
    "```\n",
    "\n",
    "To call a function, use the function name followed by parenthesis:\n",
    "```python\n",
    "my_function()\n",
    "```"
   ]
  },
  {
   "cell_type": "code",
   "execution_count": null,
   "metadata": {
    "id": "8e1yUHsvcfBJ"
   },
   "outputs": [],
   "source": [
    "def my_function():\n",
    "  print(\"Hello from a function\") \n",
    "\n",
    "my_function()"
   ]
  },
  {
   "cell_type": "markdown",
   "metadata": {
    "id": "U2nELiEwcy0M"
   },
   "source": [
    "### **What If We want to Get a Result Back? Store it Back?**\n",
    "To let a function return a value, use the `return` statement:\n",
    "\n",
    "```python\n",
    "def my_function(x):\n",
    "  return 5 * x\n",
    "\n",
    "print(my_function(3))\n",
    "print(my_function(5))\n",
    "print(my_function(9)) \n",
    "```"
   ]
  },
  {
   "cell_type": "code",
   "execution_count": null,
   "metadata": {
    "id": "aI6bnxW9c_Kw"
   },
   "outputs": [],
   "source": [
    "def my_function(x):\n",
    "  return 5 * x\n",
    "\n",
    "a = my_function(2)\n",
    "print(a)"
   ]
  },
  {
   "cell_type": "markdown",
   "metadata": {
    "id": "viBnL2xgdL-x"
   },
   "source": [
    "### **What is a Function Parameter?**\n",
    "Information can be passed to functions as **parameters**.\n",
    "\n",
    "Parameters are specified _after_ the function name, inside  parentheses. You can add as many parameters as you want, just separate them with a comma.\n",
    "\n",
    "The following example has a function with one parameter (**fname**). When the function is called, we pass along a first name, which is used inside the function to print the full name: \n",
    "\n",
    "```python\n",
    "def my_function(fname):\n",
    "  print(fname + \" Refsnes\")\n",
    "\n",
    "my_function(\"Emil\")\n",
    "my_function(\"Tobias\")\n",
    "my_function(\"Linus\") \n",
    "```\n",
    "\n",
    "The following example shows how to use a default parameter value.\n",
    "\n",
    "If we call the function without parameter, it uses the default value:\n",
    "```python\n",
    "def my_function(country = \"Norway\"):\n",
    "  print(\"I am from \" + country)\n",
    "\n",
    "my_function(\"Sweden\")\n",
    "my_function(\"India\")\n",
    "my_function()\n",
    "my_function(\"Brazil\") \n",
    "```\n",
    "\n",
    "\n"
   ]
  },
  {
   "cell_type": "code",
   "execution_count": null,
   "metadata": {
    "colab": {
     "base_uri": "https://localhost:8080/",
     "height": 1000
    },
    "id": "p-Rz4Dc0Dp8M",
    "outputId": "9c723de9-beb9-4b78-e848-b5fabc3b2275"
   },
   "outputs": [
    {
     "name": "stdout",
     "output_type": "stream",
     "text": [
      "['PassengerId', 'Pclass', 'Name', 'Sex', 'Age', 'SibSp', 'Parch', 'Ticket', 'Fare', 'Cabin', 'Embarked']\n",
      "['892', '3', 'Kelly, Mr. James', 'male', '34.5', '0', '0', '330911', '7.8292', '', 'Q']\n",
      "['893', '3', 'Wilkes, Mrs. James (Ellen Needs)', 'female', '47', '1', '0', '363272', '7', '', 'S']\n",
      "['894', '2', 'Myles, Mr. Thomas Francis', 'male', '62', '0', '0', '240276', '9.6875', '', 'Q']\n",
      "['895', '3', 'Wirz, Mr. Albert', 'male', '27', '0', '0', '315154', '8.6625', '', 'S']\n",
      "['896', '3', 'Hirvonen, Mrs. Alexander (Helga E Lindqvist)', 'female', '22', '1', '1', '3101298', '12.2875', '', 'S']\n",
      "['897', '3', 'Svensson, Mr. Johan Cervin', 'male', '14', '0', '0', '7538', '9.225', '', 'S']\n",
      "['898', '3', 'Connolly, Miss. Kate', 'female', '30', '0', '0', '330972', '7.6292', '', 'Q']\n",
      "['899', '2', 'Caldwell, Mr. Albert Francis', 'male', '26', '1', '1', '248738', '29', '', 'S']\n",
      "['900', '3', 'Abrahim, Mrs. Joseph (Sophie Halaut Easu)', 'female', '18', '0', '0', '2657', '7.2292', '', 'C']\n",
      "['901', '3', 'Davies, Mr. John Samuel', 'male', '21', '2', '0', 'A/4 48871', '24.15', '', 'S']\n",
      "['902', '3', 'Ilieff, Mr. Ylio', 'male', '', '0', '0', '349220', '7.8958', '', 'S']\n",
      "['903', '1', 'Jones, Mr. Charles Cresson', 'male', '46', '0', '0', '694', '26', '', 'S']\n",
      "['904', '1', 'Snyder, Mrs. John Pillsbury (Nelle Stevenson)', 'female', '23', '1', '0', '21228', '82.2667', 'B45', 'S']\n",
      "['905', '2', 'Howard, Mr. Benjamin', 'male', '63', '1', '0', '24065', '26', '', 'S']\n",
      "['906', '1', 'Chaffee, Mrs. Herbert Fuller (Carrie Constance Toogood)', 'female', '47', '1', '0', 'W.E.P. 5734', '61.175', 'E31', 'S']\n",
      "['907', '2', 'del Carlo, Mrs. Sebastiano (Argenia Genovesi)', 'female', '24', '1', '0', 'SC/PARIS 2167', '27.7208', '', 'C']\n",
      "['908', '2', 'Keane, Mr. Daniel', 'male', '35', '0', '0', '233734', '12.35', '', 'Q']\n",
      "['909', '3', 'Assaf, Mr. Gerios', 'male', '21', '0', '0', '2692', '7.225', '', 'C']\n",
      "['910', '3', 'Ilmakangas, Miss. Ida Livija', 'female', '27', '1', '0', 'STON/O2. 3101270', '7.925', '', 'S']\n",
      "['911', '3', 'Assaf Khalil, Mrs. Mariana (Miriam\")\"', 'female', '45', '0', '0', '2696', '7.225', '', 'C']\n",
      "['912', '1', 'Rothschild, Mr. Martin', 'male', '55', '1', '0', 'PC 17603', '59.4', '', 'C']\n",
      "['913', '3', 'Olsen, Master. Artur Karl', 'male', '9', '0', '1', 'C 17368', '3.1708', '', 'S']\n",
      "['914', '1', 'Flegenheim, Mrs. Alfred (Antoinette)', 'female', '', '0', '0', 'PC 17598', '31.6833', '', 'S']\n",
      "['915', '1', 'Williams, Mr. Richard Norris II', 'male', '21', '0', '1', 'PC 17597', '61.3792', '', 'C']\n",
      "['916', '1', 'Ryerson, Mrs. Arthur Larned (Emily Maria Borie)', 'female', '48', '1', '3', 'PC 17608', '262.375', 'B57 B59 B63 B66', 'C']\n",
      "['917', '3', 'Robins, Mr. Alexander A', 'male', '50', '1', '0', 'A/5. 3337', '14.5', '', 'S']\n",
      "['918', '1', 'Ostby, Miss. Helene Ragnhild', 'female', '22', '0', '1', '113509', '61.9792', 'B36', 'C']\n",
      "['919', '3', 'Daher, Mr. Shedid', 'male', '22.5', '0', '0', '2698', '7.225', '', 'C']\n",
      "['920', '1', 'Brady, Mr. John Bertram', 'male', '41', '0', '0', '113054', '30.5', 'A21', 'S']\n",
      "['921', '3', 'Samaan, Mr. Elias', 'male', '', '2', '0', '2662', '21.6792', '', 'C']\n",
      "['922', '2', 'Louch, Mr. Charles Alexander', 'male', '50', '1', '0', 'SC/AH 3085', '26', '', 'S']\n",
      "['923', '2', 'Jefferys, Mr. Clifford Thomas', 'male', '24', '2', '0', 'C.A. 31029', '31.5', '', 'S']\n",
      "['924', '3', 'Dean, Mrs. Bertram (Eva Georgetta Light)', 'female', '33', '1', '2', 'C.A. 2315', '20.575', '', 'S']\n",
      "['925', '3', 'Johnston, Mrs. Andrew G (Elizabeth Lily\" Watson)\"', 'female', '', '1', '2', 'W./C. 6607', '23.45', '', 'S']\n",
      "['926', '1', 'Mock, Mr. Philipp Edmund', 'male', '30', '1', '0', '13236', '57.75', 'C78', 'C']\n",
      "['927', '3', 'Katavelas, Mr. Vassilios (Catavelas Vassilios\")\"', 'male', '18.5', '0', '0', '2682', '7.2292', '', 'C']\n",
      "['928', '3', 'Roth, Miss. Sarah A', 'female', '', '0', '0', '342712', '8.05', '', 'S']\n",
      "['929', '3', 'Cacic, Miss. Manda', 'female', '21', '0', '0', '315087', '8.6625', '', 'S']\n",
      "['930', '3', 'Sap, Mr. Julius', 'male', '25', '0', '0', '345768', '9.5', '', 'S']\n",
      "['931', '3', 'Hee, Mr. Ling', 'male', '', '0', '0', '1601', '56.4958', '', 'S']\n",
      "['932', '3', 'Karun, Mr. Franz', 'male', '39', '0', '1', '349256', '13.4167', '', 'C']\n",
      "['933', '1', 'Franklin, Mr. Thomas Parham', 'male', '', '0', '0', '113778', '26.55', 'D34', 'S']\n",
      "['934', '3', 'Goldsmith, Mr. Nathan', 'male', '41', '0', '0', 'SOTON/O.Q. 3101263', '7.85', '', 'S']\n",
      "['935', '2', 'Corbett, Mrs. Walter H (Irene Colvin)', 'female', '30', '0', '0', '237249', '13', '', 'S']\n",
      "['936', '1', 'Kimball, Mrs. Edwin Nelson Jr (Gertrude Parsons)', 'female', '45', '1', '0', '11753', '52.5542', 'D19', 'S']\n",
      "['937', '3', 'Peltomaki, Mr. Nikolai Johannes', 'male', '25', '0', '0', 'STON/O 2. 3101291', '7.925', '', 'S']\n",
      "['938', '1', 'Chevre, Mr. Paul Romaine', 'male', '45', '0', '0', 'PC 17594', '29.7', 'A9', 'C']\n",
      "['939', '3', 'Shaughnessy, Mr. Patrick', 'male', '', '0', '0', '370374', '7.75', '', 'Q']\n",
      "['940', '1', 'Bucknell, Mrs. William Robert (Emma Eliza Ward)', 'female', '60', '0', '0', '11813', '76.2917', 'D15', 'C']\n",
      "['941', '3', 'Coutts, Mrs. William (Winnie Minnie\" Treanor)\"', 'female', '36', '0', '2', 'C.A. 37671', '15.9', '', 'S']\n",
      "['942', '1', 'Smith, Mr. Lucien Philip', 'male', '24', '1', '0', '13695', '60', 'C31', 'S']\n",
      "['943', '2', 'Pulbaum, Mr. Franz', 'male', '27', '0', '0', 'SC/PARIS 2168', '15.0333', '', 'C']\n",
      "['944', '2', 'Hocking, Miss. Ellen Nellie\"\"', 'female', '20', '2', '1', '29105', '23', '', 'S']\n",
      "['945', '1', 'Fortune, Miss. Ethel Flora', 'female', '28', '3', '2', '19950', '263', 'C23 C25 C27', 'S']\n",
      "['946', '2', 'Mangiavacchi, Mr. Serafino Emilio', 'male', '', '0', '0', 'SC/A.3 2861', '15.5792', '', 'C']\n",
      "['947', '3', 'Rice, Master. Albert', 'male', '10', '4', '1', '382652', '29.125', '', 'Q']\n",
      "['948', '3', 'Cor, Mr. Bartol', 'male', '35', '0', '0', '349230', '7.8958', '', 'S']\n",
      "['949', '3', 'Abelseth, Mr. Olaus Jorgensen', 'male', '25', '0', '0', '348122', '7.65', 'F G63', 'S']\n",
      "['950', '3', 'Davison, Mr. Thomas Henry', 'male', '', '1', '0', '386525', '16.1', '', 'S']\n",
      "['951', '1', 'Chaudanson, Miss. Victorine', 'female', '36', '0', '0', 'PC 17608', '262.375', 'B61', 'C']\n",
      "['952', '3', 'Dika, Mr. Mirko', 'male', '17', '0', '0', '349232', '7.8958', '', 'S']\n",
      "['953', '2', 'McCrae, Mr. Arthur Gordon', 'male', '32', '0', '0', '237216', '13.5', '', 'S']\n",
      "['954', '3', 'Bjorklund, Mr. Ernst Herbert', 'male', '18', '0', '0', '347090', '7.75', '', 'S']\n",
      "['955', '3', 'Bradley, Miss. Bridget Delia', 'female', '22', '0', '0', '334914', '7.725', '', 'Q']\n",
      "['956', '1', 'Ryerson, Master. John Borie', 'male', '13', '2', '2', 'PC 17608', '262.375', 'B57 B59 B63 B66', 'C']\n",
      "['957', '2', 'Corey, Mrs. Percy C (Mary Phyllis Elizabeth Miller)', 'female', '', '0', '0', 'F.C.C. 13534', '21', '', 'S']\n",
      "['958', '3', 'Burns, Miss. Mary Delia', 'female', '18', '0', '0', '330963', '7.8792', '', 'Q']\n",
      "['959', '1', 'Moore, Mr. Clarence Bloomfield', 'male', '47', '0', '0', '113796', '42.4', '', 'S']\n",
      "['960', '1', 'Tucker, Mr. Gilbert Milligan Jr', 'male', '31', '0', '0', '2543', '28.5375', 'C53', 'C']\n",
      "['961', '1', 'Fortune, Mrs. Mark (Mary McDougald)', 'female', '60', '1', '4', '19950', '263', 'C23 C25 C27', 'S']\n",
      "['962', '3', 'Mulvihill, Miss. Bertha E', 'female', '24', '0', '0', '382653', '7.75', '', 'Q']\n",
      "['963', '3', 'Minkoff, Mr. Lazar', 'male', '21', '0', '0', '349211', '7.8958', '', 'S']\n",
      "['964', '3', 'Nieminen, Miss. Manta Josefina', 'female', '29', '0', '0', '3101297', '7.925', '', 'S']\n",
      "['965', '1', 'Ovies y Rodriguez, Mr. Servando', 'male', '28.5', '0', '0', 'PC 17562', '27.7208', 'D43', 'C']\n",
      "['966', '1', 'Geiger, Miss. Amalie', 'female', '35', '0', '0', '113503', '211.5', 'C130', 'C']\n",
      "['967', '1', 'Keeping, Mr. Edwin', 'male', '32.5', '0', '0', '113503', '211.5', 'C132', 'C']\n",
      "['968', '3', 'Miles, Mr. Frank', 'male', '', '0', '0', '359306', '8.05', '', 'S']\n",
      "['969', '1', 'Cornell, Mrs. Robert Clifford (Malvina Helen Lamson)', 'female', '55', '2', '0', '11770', '25.7', 'C101', 'S']\n",
      "['970', '2', 'Aldworth, Mr. Charles Augustus', 'male', '30', '0', '0', '248744', '13', '', 'S']\n",
      "['971', '3', 'Doyle, Miss. Elizabeth', 'female', '24', '0', '0', '368702', '7.75', '', 'Q']\n",
      "['972', '3', 'Boulos, Master. Akar', 'male', '6', '1', '1', '2678', '15.2458', '', 'C']\n",
      "['973', '1', 'Straus, Mr. Isidor', 'male', '67', '1', '0', 'PC 17483', '221.7792', 'C55 C57', 'S']\n",
      "['974', '1', 'Case, Mr. Howard Brown', 'male', '49', '0', '0', '19924', '26', '', 'S']\n",
      "['975', '3', 'Demetri, Mr. Marinko', 'male', '', '0', '0', '349238', '7.8958', '', 'S']\n",
      "['976', '2', 'Lamb, Mr. John Joseph', 'male', '', '0', '0', '240261', '10.7083', '', 'Q']\n",
      "['977', '3', 'Khalil, Mr. Betros', 'male', '', '1', '0', '2660', '14.4542', '', 'C']\n",
      "['978', '3', 'Barry, Miss. Julia', 'female', '27', '0', '0', '330844', '7.8792', '', 'Q']\n",
      "['979', '3', 'Badman, Miss. Emily Louisa', 'female', '18', '0', '0', 'A/4 31416', '8.05', '', 'S']\n",
      "['980', '3', \"O'Donoghue, Ms. Bridget\", 'female', '', '0', '0', '364856', '7.75', '', 'Q']\n",
      "['981', '2', 'Wells, Master. Ralph Lester', 'male', '2', '1', '1', '29103', '23', '', 'S']\n",
      "['982', '3', 'Dyker, Mrs. Adolf Fredrik (Anna Elisabeth Judith Andersson)', 'female', '22', '1', '0', '347072', '13.9', '', 'S']\n",
      "['983', '3', 'Pedersen, Mr. Olaf', 'male', '', '0', '0', '345498', '7.775', '', 'S']\n",
      "['984', '1', 'Davidson, Mrs. Thornton (Orian Hays)', 'female', '27', '1', '2', 'F.C. 12750', '52', 'B71', 'S']\n",
      "['985', '3', 'Guest, Mr. Robert', 'male', '', '0', '0', '376563', '8.05', '', 'S']\n",
      "['986', '1', 'Birnbaum, Mr. Jakob', 'male', '25', '0', '0', '13905', '26', '', 'C']\n",
      "['987', '3', 'Tenglin, Mr. Gunnar Isidor', 'male', '25', '0', '0', '350033', '7.7958', '', 'S']\n",
      "['988', '1', 'Cavendish, Mrs. Tyrell William (Julia Florence Siegel)', 'female', '76', '1', '0', '19877', '78.85', 'C46', 'S']\n",
      "['989', '3', 'Makinen, Mr. Kalle Edvard', 'male', '29', '0', '0', 'STON/O 2. 3101268', '7.925', '', 'S']\n",
      "['990', '3', 'Braf, Miss. Elin Ester Maria', 'female', '20', '0', '0', '347471', '7.8542', '', 'S']\n",
      "['991', '3', 'Nancarrow, Mr. William Henry', 'male', '33', '0', '0', 'A./5. 3338', '8.05', '', 'S']\n",
      "['992', '1', 'Stengel, Mrs. Charles Emil Henry (Annie May Morris)', 'female', '43', '1', '0', '11778', '55.4417', 'C116', 'C']\n",
      "['993', '2', 'Weisz, Mr. Leopold', 'male', '27', '1', '0', '228414', '26', '', 'S']\n",
      "['994', '3', 'Foley, Mr. William', 'male', '', '0', '0', '365235', '7.75', '', 'Q']\n",
      "['995', '3', 'Johansson Palmquist, Mr. Oskar Leander', 'male', '26', '0', '0', '347070', '7.775', '', 'S']\n",
      "['996', '3', 'Thomas, Mrs. Alexander (Thamine Thelma\")\"', 'female', '16', '1', '1', '2625', '8.5167', '', 'C']\n",
      "['997', '3', 'Holthen, Mr. Johan Martin', 'male', '28', '0', '0', 'C 4001', '22.525', '', 'S']\n",
      "['998', '3', 'Buckley, Mr. Daniel', 'male', '21', '0', '0', '330920', '7.8208', '', 'Q']\n",
      "['999', '3', 'Ryan, Mr. Edward', 'male', '', '0', '0', '383162', '7.75', '', 'Q']\n",
      "['1000', '3', 'Willer, Mr. Aaron (Abi Weller\")\"', 'male', '', '0', '0', '3410', '8.7125', '', 'S']\n",
      "['1001', '2', 'Swane, Mr. George', 'male', '18.5', '0', '0', '248734', '13', 'F', 'S']\n",
      "['1002', '2', 'Stanton, Mr. Samuel Ward', 'male', '41', '0', '0', '237734', '15.0458', '', 'C']\n",
      "['1003', '3', 'Shine, Miss. Ellen Natalia', 'female', '', '0', '0', '330968', '7.7792', '', 'Q']\n",
      "['1004', '1', 'Evans, Miss. Edith Corse', 'female', '36', '0', '0', 'PC 17531', '31.6792', 'A29', 'C']\n",
      "['1005', '3', 'Buckley, Miss. Katherine', 'female', '18.5', '0', '0', '329944', '7.2833', '', 'Q']\n",
      "['1006', '1', 'Straus, Mrs. Isidor (Rosalie Ida Blun)', 'female', '63', '1', '0', 'PC 17483', '221.7792', 'C55 C57', 'S']\n",
      "['1007', '3', 'Chronopoulos, Mr. Demetrios', 'male', '18', '1', '0', '2680', '14.4542', '', 'C']\n",
      "['1008', '3', 'Thomas, Mr. John', 'male', '', '0', '0', '2681', '6.4375', '', 'C']\n",
      "['1009', '3', 'Sandstrom, Miss. Beatrice Irene', 'female', '1', '1', '1', 'PP 9549', '16.7', 'G6', 'S']\n",
      "['1010', '1', 'Beattie, Mr. Thomson', 'male', '36', '0', '0', '13050', '75.2417', 'C6', 'C']\n",
      "['1011', '2', 'Chapman, Mrs. John Henry (Sara Elizabeth Lawry)', 'female', '29', '1', '0', 'SC/AH 29037', '26', '', 'S']\n",
      "['1012', '2', 'Watt, Miss. Bertha J', 'female', '12', '0', '0', 'C.A. 33595', '15.75', '', 'S']\n",
      "['1013', '3', 'Kiernan, Mr. John', 'male', '', '1', '0', '367227', '7.75', '', 'Q']\n",
      "['1014', '1', 'Schabert, Mrs. Paul (Emma Mock)', 'female', '35', '1', '0', '13236', '57.75', 'C28', 'C']\n",
      "['1015', '3', 'Carver, Mr. Alfred John', 'male', '28', '0', '0', '392095', '7.25', '', 'S']\n",
      "['1016', '3', 'Kennedy, Mr. John', 'male', '', '0', '0', '368783', '7.75', '', 'Q']\n",
      "['1017', '3', 'Cribb, Miss. Laura Alice', 'female', '17', '0', '1', '371362', '16.1', '', 'S']\n",
      "['1018', '3', 'Brobeck, Mr. Karl Rudolf', 'male', '22', '0', '0', '350045', '7.7958', '', 'S']\n",
      "['1019', '3', 'McCoy, Miss. Alicia', 'female', '', '2', '0', '367226', '23.25', '', 'Q']\n",
      "['1020', '2', 'Bowenur, Mr. Solomon', 'male', '42', '0', '0', '211535', '13', '', 'S']\n",
      "['1021', '3', 'Petersen, Mr. Marius', 'male', '24', '0', '0', '342441', '8.05', '', 'S']\n",
      "['1022', '3', 'Spinner, Mr. Henry John', 'male', '32', '0', '0', 'STON/OQ. 369943', '8.05', '', 'S']\n",
      "['1023', '1', 'Gracie, Col. Archibald IV', 'male', '53', '0', '0', '113780', '28.5', 'C51', 'C']\n",
      "['1024', '3', 'Lefebre, Mrs. Frank (Frances)', 'female', '', '0', '4', '4133', '25.4667', '', 'S']\n",
      "['1025', '3', 'Thomas, Mr. Charles P', 'male', '', '1', '0', '2621', '6.4375', '', 'C']\n",
      "['1026', '3', 'Dintcheff, Mr. Valtcho', 'male', '43', '0', '0', '349226', '7.8958', '', 'S']\n",
      "['1027', '3', 'Carlsson, Mr. Carl Robert', 'male', '24', '0', '0', '350409', '7.8542', '', 'S']\n",
      "['1028', '3', 'Zakarian, Mr. Mapriededer', 'male', '26.5', '0', '0', '2656', '7.225', '', 'C']\n",
      "['1029', '2', 'Schmidt, Mr. August', 'male', '26', '0', '0', '248659', '13', '', 'S']\n",
      "['1030', '3', 'Drapkin, Miss. Jennie', 'female', '23', '0', '0', 'SOTON/OQ 392083', '8.05', '', 'S']\n",
      "['1031', '3', 'Goodwin, Mr. Charles Frederick', 'male', '40', '1', '6', 'CA 2144', '46.9', '', 'S']\n",
      "['1032', '3', 'Goodwin, Miss. Jessie Allis', 'female', '10', '5', '2', 'CA 2144', '46.9', '', 'S']\n",
      "['1033', '1', 'Daniels, Miss. Sarah', 'female', '33', '0', '0', '113781', '151.55', '', 'S']\n",
      "['1034', '1', 'Ryerson, Mr. Arthur Larned', 'male', '61', '1', '3', 'PC 17608', '262.375', 'B57 B59 B63 B66', 'C']\n",
      "['1035', '2', 'Beauchamp, Mr. Henry James', 'male', '28', '0', '0', '244358', '26', '', 'S']\n",
      "['1036', '1', 'Lindeberg-Lind, Mr. Erik Gustaf (Mr Edward Lingrey\")\"', 'male', '42', '0', '0', '17475', '26.55', '', 'S']\n",
      "['1037', '3', 'Vander Planke, Mr. Julius', 'male', '31', '3', '0', '345763', '18', '', 'S']\n",
      "['1038', '1', 'Hilliard, Mr. Herbert Henry', 'male', '', '0', '0', '17463', '51.8625', 'E46', 'S']\n",
      "['1039', '3', 'Davies, Mr. Evan', 'male', '22', '0', '0', 'SC/A4 23568', '8.05', '', 'S']\n",
      "['1040', '1', 'Crafton, Mr. John Bertram', 'male', '', '0', '0', '113791', '26.55', '', 'S']\n",
      "['1041', '2', 'Lahtinen, Rev. William', 'male', '30', '1', '1', '250651', '26', '', 'S']\n",
      "['1042', '1', 'Earnshaw, Mrs. Boulton (Olive Potter)', 'female', '23', '0', '1', '11767', '83.1583', 'C54', 'C']\n",
      "['1043', '3', 'Matinoff, Mr. Nicola', 'male', '', '0', '0', '349255', '7.8958', '', 'C']\n",
      "['1044', '3', 'Storey, Mr. Thomas', 'male', '60.5', '0', '0', '3701', '', '', 'S']\n",
      "['1045', '3', 'Klasen, Mrs. (Hulda Kristina Eugenia Lofqvist)', 'female', '36', '0', '2', '350405', '12.1833', '', 'S']\n",
      "['1046', '3', 'Asplund, Master. Filip Oscar', 'male', '13', '4', '2', '347077', '31.3875', '', 'S']\n",
      "['1047', '3', 'Duquemin, Mr. Joseph', 'male', '24', '0', '0', 'S.O./P.P. 752', '7.55', '', 'S']\n",
      "['1048', '1', 'Bird, Miss. Ellen', 'female', '29', '0', '0', 'PC 17483', '221.7792', 'C97', 'S']\n",
      "['1049', '3', 'Lundin, Miss. Olga Elida', 'female', '23', '0', '0', '347469', '7.8542', '', 'S']\n",
      "['1050', '1', 'Borebank, Mr. John James', 'male', '42', '0', '0', '110489', '26.55', 'D22', 'S']\n",
      "['1051', '3', 'Peacock, Mrs. Benjamin (Edith Nile)', 'female', '26', '0', '2', 'SOTON/O.Q. 3101315', '13.775', '', 'S']\n",
      "['1052', '3', 'Smyth, Miss. Julia', 'female', '', '0', '0', '335432', '7.7333', '', 'Q']\n",
      "['1053', '3', 'Touma, Master. Georges Youssef', 'male', '7', '1', '1', '2650', '15.2458', '', 'C']\n",
      "['1054', '2', 'Wright, Miss. Marion', 'female', '26', '0', '0', '220844', '13.5', '', 'S']\n",
      "['1055', '3', 'Pearce, Mr. Ernest', 'male', '', '0', '0', '343271', '7', '', 'S']\n",
      "['1056', '2', 'Peruschitz, Rev. Joseph Maria', 'male', '41', '0', '0', '237393', '13', '', 'S']\n",
      "['1057', '3', 'Kink-Heilmann, Mrs. Anton (Luise Heilmann)', 'female', '26', '1', '1', '315153', '22.025', '', 'S']\n",
      "['1058', '1', 'Brandeis, Mr. Emil', 'male', '48', '0', '0', 'PC 17591', '50.4958', 'B10', 'C']\n",
      "['1059', '3', 'Ford, Mr. Edward Watson', 'male', '18', '2', '2', 'W./C. 6608', '34.375', '', 'S']\n",
      "['1060', '1', 'Cassebeer, Mrs. Henry Arthur Jr (Eleanor Genevieve Fosdick)', 'female', '', '0', '0', '17770', '27.7208', '', 'C']\n",
      "['1061', '3', 'Hellstrom, Miss. Hilda Maria', 'female', '22', '0', '0', '7548', '8.9625', '', 'S']\n",
      "['1062', '3', 'Lithman, Mr. Simon', 'male', '', '0', '0', 'S.O./P.P. 251', '7.55', '', 'S']\n",
      "['1063', '3', 'Zakarian, Mr. Ortin', 'male', '27', '0', '0', '2670', '7.225', '', 'C']\n",
      "['1064', '3', 'Dyker, Mr. Adolf Fredrik', 'male', '23', '1', '0', '347072', '13.9', '', 'S']\n",
      "['1065', '3', 'Torfa, Mr. Assad', 'male', '', '0', '0', '2673', '7.2292', '', 'C']\n",
      "['1066', '3', 'Asplund, Mr. Carl Oscar Vilhelm Gustafsson', 'male', '40', '1', '5', '347077', '31.3875', '', 'S']\n",
      "['1067', '2', 'Brown, Miss. Edith Eileen', 'female', '15', '0', '2', '29750', '39', '', 'S']\n",
      "['1068', '2', 'Sincock, Miss. Maude', 'female', '20', '0', '0', 'C.A. 33112', '36.75', '', 'S']\n",
      "['1069', '1', 'Stengel, Mr. Charles Emil Henry', 'male', '54', '1', '0', '11778', '55.4417', 'C116', 'C']\n",
      "['1070', '2', 'Becker, Mrs. Allen Oliver (Nellie E Baumgardner)', 'female', '36', '0', '3', '230136', '39', 'F4', 'S']\n",
      "['1071', '1', 'Compton, Mrs. Alexander Taylor (Mary Eliza Ingersoll)', 'female', '64', '0', '2', 'PC 17756', '83.1583', 'E45', 'C']\n",
      "['1072', '2', 'McCrie, Mr. James Matthew', 'male', '30', '0', '0', '233478', '13', '', 'S']\n",
      "['1073', '1', 'Compton, Mr. Alexander Taylor Jr', 'male', '37', '1', '1', 'PC 17756', '83.1583', 'E52', 'C']\n",
      "['1074', '1', 'Marvin, Mrs. Daniel Warner (Mary Graham Carmichael Farquarson)', 'female', '18', '1', '0', '113773', '53.1', 'D30', 'S']\n",
      "['1075', '3', 'Lane, Mr. Patrick', 'male', '', '0', '0', '7935', '7.75', '', 'Q']\n",
      "['1076', '1', 'Douglas, Mrs. Frederick Charles (Mary Helene Baxter)', 'female', '27', '1', '1', 'PC 17558', '247.5208', 'B58 B60', 'C']\n",
      "['1077', '2', 'Maybery, Mr. Frank Hubert', 'male', '40', '0', '0', '239059', '16', '', 'S']\n",
      "['1078', '2', 'Phillips, Miss. Alice Frances Louisa', 'female', '21', '0', '1', 'S.O./P.P. 2', '21', '', 'S']\n",
      "['1079', '3', 'Davies, Mr. Joseph', 'male', '17', '2', '0', 'A/4 48873', '8.05', '', 'S']\n",
      "['1080', '3', 'Sage, Miss. Ada', 'female', '', '8', '2', 'CA. 2343', '69.55', '', 'S']\n",
      "['1081', '2', 'Veal, Mr. James', 'male', '40', '0', '0', '28221', '13', '', 'S']\n",
      "['1082', '2', 'Angle, Mr. William A', 'male', '34', '1', '0', '226875', '26', '', 'S']\n",
      "['1083', '1', 'Salomon, Mr. Abraham L', 'male', '', '0', '0', '111163', '26', '', 'S']\n",
      "['1084', '3', 'van Billiard, Master. Walter John', 'male', '11.5', '1', '1', 'A/5. 851', '14.5', '', 'S']\n",
      "['1085', '2', 'Lingane, Mr. John', 'male', '61', '0', '0', '235509', '12.35', '', 'Q']\n",
      "['1086', '2', 'Drew, Master. Marshall Brines', 'male', '8', '0', '2', '28220', '32.5', '', 'S']\n",
      "['1087', '3', 'Karlsson, Mr. Julius Konrad Eugen', 'male', '33', '0', '0', '347465', '7.8542', '', 'S']\n",
      "['1088', '1', 'Spedden, Master. Robert Douglas', 'male', '6', '0', '2', '16966', '134.5', 'E34', 'C']\n",
      "['1089', '3', 'Nilsson, Miss. Berta Olivia', 'female', '18', '0', '0', '347066', '7.775', '', 'S']\n",
      "['1090', '2', 'Baimbrigge, Mr. Charles Robert', 'male', '23', '0', '0', 'C.A. 31030', '10.5', '', 'S']\n",
      "['1091', '3', 'Rasmussen, Mrs. (Lena Jacobsen Solvang)', 'female', '', '0', '0', '65305', '8.1125', '', 'S']\n",
      "['1092', '3', 'Murphy, Miss. Nora', 'female', '', '0', '0', '36568', '15.5', '', 'Q']\n",
      "['1093', '3', 'Danbom, Master. Gilbert Sigvard Emanuel', 'male', '0.33', '0', '2', '347080', '14.4', '', 'S']\n",
      "['1094', '1', 'Astor, Col. John Jacob', 'male', '47', '1', '0', 'PC 17757', '227.525', 'C62 C64', 'C']\n",
      "['1095', '2', 'Quick, Miss. Winifred Vera', 'female', '8', '1', '1', '26360', '26', '', 'S']\n",
      "['1096', '2', 'Andrew, Mr. Frank Thomas', 'male', '25', '0', '0', 'C.A. 34050', '10.5', '', 'S']\n",
      "['1097', '1', 'Omont, Mr. Alfred Fernand', 'male', '', '0', '0', 'F.C. 12998', '25.7417', '', 'C']\n",
      "['1098', '3', 'McGowan, Miss. Katherine', 'female', '35', '0', '0', '9232', '7.75', '', 'Q']\n",
      "['1099', '2', 'Collett, Mr. Sidney C Stuart', 'male', '24', '0', '0', '28034', '10.5', '', 'S']\n",
      "['1100', '1', 'Rosenbaum, Miss. Edith Louise', 'female', '33', '0', '0', 'PC 17613', '27.7208', 'A11', 'C']\n",
      "['1101', '3', 'Delalic, Mr. Redjo', 'male', '25', '0', '0', '349250', '7.8958', '', 'S']\n",
      "['1102', '3', 'Andersen, Mr. Albert Karvin', 'male', '32', '0', '0', 'C 4001', '22.525', '', 'S']\n",
      "['1103', '3', 'Finoli, Mr. Luigi', 'male', '', '0', '0', 'SOTON/O.Q. 3101308', '7.05', '', 'S']\n",
      "['1104', '2', 'Deacon, Mr. Percy William', 'male', '17', '0', '0', 'S.O.C. 14879', '73.5', '', 'S']\n",
      "['1105', '2', 'Howard, Mrs. Benjamin (Ellen Truelove Arman)', 'female', '60', '1', '0', '24065', '26', '', 'S']\n",
      "['1106', '3', 'Andersson, Miss. Ida Augusta Margareta', 'female', '38', '4', '2', '347091', '7.775', '', 'S']\n",
      "['1107', '1', 'Head, Mr. Christopher', 'male', '42', '0', '0', '113038', '42.5', 'B11', 'S']\n",
      "['1108', '3', 'Mahon, Miss. Bridget Delia', 'female', '', '0', '0', '330924', '7.8792', '', 'Q']\n",
      "['1109', '1', 'Wick, Mr. George Dennick', 'male', '57', '1', '1', '36928', '164.8667', '', 'S']\n",
      "['1110', '1', 'Widener, Mrs. George Dunton (Eleanor Elkins)', 'female', '50', '1', '1', '113503', '211.5', 'C80', 'C']\n",
      "['1111', '3', 'Thomson, Mr. Alexander Morrison', 'male', '', '0', '0', '32302', '8.05', '', 'S']\n",
      "['1112', '2', 'Duran y More, Miss. Florentina', 'female', '30', '1', '0', 'SC/PARIS 2148', '13.8583', '', 'C']\n",
      "['1113', '3', 'Reynolds, Mr. Harold J', 'male', '21', '0', '0', '342684', '8.05', '', 'S']\n",
      "['1114', '2', 'Cook, Mrs. (Selena Rogers)', 'female', '22', '0', '0', 'W./C. 14266', '10.5', 'F33', 'S']\n",
      "['1115', '3', 'Karlsson, Mr. Einar Gervasius', 'male', '21', '0', '0', '350053', '7.7958', '', 'S']\n",
      "['1116', '1', 'Candee, Mrs. Edward (Helen Churchill Hungerford)', 'female', '53', '0', '0', 'PC 17606', '27.4458', '', 'C']\n",
      "['1117', '3', 'Moubarek, Mrs. George (Omine Amenia\" Alexander)\"', 'female', '', '0', '2', '2661', '15.2458', '', 'C']\n",
      "['1118', '3', 'Asplund, Mr. Johan Charles', 'male', '23', '0', '0', '350054', '7.7958', '', 'S']\n",
      "['1119', '3', 'McNeill, Miss. Bridget', 'female', '', '0', '0', '370368', '7.75', '', 'Q']\n",
      "['1120', '3', 'Everett, Mr. Thomas James', 'male', '40.5', '0', '0', 'C.A. 6212', '15.1', '', 'S']\n",
      "['1121', '2', 'Hocking, Mr. Samuel James Metcalfe', 'male', '36', '0', '0', '242963', '13', '', 'S']\n",
      "['1122', '2', 'Sweet, Mr. George Frederick', 'male', '14', '0', '0', '220845', '65', '', 'S']\n",
      "['1123', '1', 'Willard, Miss. Constance', 'female', '21', '0', '0', '113795', '26.55', '', 'S']\n",
      "['1124', '3', 'Wiklund, Mr. Karl Johan', 'male', '21', '1', '0', '3101266', '6.4958', '', 'S']\n",
      "['1125', '3', 'Linehan, Mr. Michael', 'male', '', '0', '0', '330971', '7.8792', '', 'Q']\n",
      "['1126', '1', 'Cumings, Mr. John Bradley', 'male', '39', '1', '0', 'PC 17599', '71.2833', 'C85', 'C']\n",
      "['1127', '3', 'Vendel, Mr. Olof Edvin', 'male', '20', '0', '0', '350416', '7.8542', '', 'S']\n",
      "['1128', '1', 'Warren, Mr. Frank Manley', 'male', '64', '1', '0', '110813', '75.25', 'D37', 'C']\n",
      "['1129', '3', 'Baccos, Mr. Raffull', 'male', '20', '0', '0', '2679', '7.225', '', 'C']\n",
      "['1130', '2', 'Hiltunen, Miss. Marta', 'female', '18', '1', '1', '250650', '13', '', 'S']\n",
      "['1131', '1', 'Douglas, Mrs. Walter Donald (Mahala Dutton)', 'female', '48', '1', '0', 'PC 17761', '106.425', 'C86', 'C']\n",
      "['1132', '1', 'Lindstrom, Mrs. Carl Johan (Sigrid Posse)', 'female', '55', '0', '0', '112377', '27.7208', '', 'C']\n",
      "['1133', '2', 'Christy, Mrs. (Alice Frances)', 'female', '45', '0', '2', '237789', '30', '', 'S']\n",
      "['1134', '1', 'Spedden, Mr. Frederic Oakley', 'male', '45', '1', '1', '16966', '134.5', 'E34', 'C']\n",
      "['1135', '3', 'Hyman, Mr. Abraham', 'male', '', '0', '0', '3470', '7.8875', '', 'S']\n",
      "['1136', '3', 'Johnston, Master. William Arthur Willie\"\"', 'male', '', '1', '2', 'W./C. 6607', '23.45', '', 'S']\n",
      "['1137', '1', 'Kenyon, Mr. Frederick R', 'male', '41', '1', '0', '17464', '51.8625', 'D21', 'S']\n",
      "['1138', '2', 'Karnes, Mrs. J Frank (Claire Bennett)', 'female', '22', '0', '0', 'F.C.C. 13534', '21', '', 'S']\n",
      "['1139', '2', 'Drew, Mr. James Vivian', 'male', '42', '1', '1', '28220', '32.5', '', 'S']\n",
      "['1140', '2', 'Hold, Mrs. Stephen (Annie Margaret Hill)', 'female', '29', '1', '0', '26707', '26', '', 'S']\n",
      "['1141', '3', 'Khalil, Mrs. Betros (Zahie Maria\" Elias)\"', 'female', '', '1', '0', '2660', '14.4542', '', 'C']\n",
      "['1142', '2', 'West, Miss. Barbara J', 'female', '0.92', '1', '2', 'C.A. 34651', '27.75', '', 'S']\n",
      "['1143', '3', 'Abrahamsson, Mr. Abraham August Johannes', 'male', '20', '0', '0', 'SOTON/O2 3101284', '7.925', '', 'S']\n",
      "['1144', '1', 'Clark, Mr. Walter Miller', 'male', '27', '1', '0', '13508', '136.7792', 'C89', 'C']\n",
      "['1145', '3', 'Salander, Mr. Karl Johan', 'male', '24', '0', '0', '7266', '9.325', '', 'S']\n",
      "['1146', '3', 'Wenzel, Mr. Linhart', 'male', '32.5', '0', '0', '345775', '9.5', '', 'S']\n",
      "['1147', '3', 'MacKay, Mr. George William', 'male', '', '0', '0', 'C.A. 42795', '7.55', '', 'S']\n",
      "['1148', '3', 'Mahon, Mr. John', 'male', '', '0', '0', 'AQ/4 3130', '7.75', '', 'Q']\n",
      "['1149', '3', 'Niklasson, Mr. Samuel', 'male', '28', '0', '0', '363611', '8.05', '', 'S']\n",
      "['1150', '2', 'Bentham, Miss. Lilian W', 'female', '19', '0', '0', '28404', '13', '', 'S']\n",
      "['1151', '3', 'Midtsjo, Mr. Karl Albert', 'male', '21', '0', '0', '345501', '7.775', '', 'S']\n",
      "['1152', '3', 'de Messemaeker, Mr. Guillaume Joseph', 'male', '36.5', '1', '0', '345572', '17.4', '', 'S']\n",
      "['1153', '3', 'Nilsson, Mr. August Ferdinand', 'male', '21', '0', '0', '350410', '7.8542', '', 'S']\n",
      "['1154', '2', 'Wells, Mrs. Arthur Henry (Addie\" Dart Trevaskis)\"', 'female', '29', '0', '2', '29103', '23', '', 'S']\n",
      "['1155', '3', 'Klasen, Miss. Gertrud Emilia', 'female', '1', '1', '1', '350405', '12.1833', '', 'S']\n",
      "['1156', '2', 'Portaluppi, Mr. Emilio Ilario Giuseppe', 'male', '30', '0', '0', 'C.A. 34644', '12.7375', '', 'C']\n",
      "['1157', '3', 'Lyntakoff, Mr. Stanko', 'male', '', '0', '0', '349235', '7.8958', '', 'S']\n",
      "['1158', '1', 'Chisholm, Mr. Roderick Robert Crispin', 'male', '', '0', '0', '112051', '0', '', 'S']\n",
      "['1159', '3', 'Warren, Mr. Charles William', 'male', '', '0', '0', 'C.A. 49867', '7.55', '', 'S']\n",
      "['1160', '3', 'Howard, Miss. May Elizabeth', 'female', '', '0', '0', 'A. 2. 39186', '8.05', '', 'S']\n",
      "['1161', '3', 'Pokrnic, Mr. Mate', 'male', '17', '0', '0', '315095', '8.6625', '', 'S']\n",
      "['1162', '1', 'McCaffry, Mr. Thomas Francis', 'male', '46', '0', '0', '13050', '75.2417', 'C6', 'C']\n",
      "['1163', '3', 'Fox, Mr. Patrick', 'male', '', '0', '0', '368573', '7.75', '', 'Q']\n",
      "['1164', '1', 'Clark, Mrs. Walter Miller (Virginia McDowell)', 'female', '26', '1', '0', '13508', '136.7792', 'C89', 'C']\n",
      "['1165', '3', 'Lennon, Miss. Mary', 'female', '', '1', '0', '370371', '15.5', '', 'Q']\n",
      "['1166', '3', 'Saade, Mr. Jean Nassr', 'male', '', '0', '0', '2676', '7.225', '', 'C']\n",
      "['1167', '2', 'Bryhl, Miss. Dagmar Jenny Ingeborg ', 'female', '20', '1', '0', '236853', '26', '', 'S']\n",
      "['1168', '2', 'Parker, Mr. Clifford Richard', 'male', '28', '0', '0', 'SC 14888', '10.5', '', 'S']\n",
      "['1169', '2', 'Faunthorpe, Mr. Harry', 'male', '40', '1', '0', '2926', '26', '', 'S']\n",
      "['1170', '2', 'Ware, Mr. John James', 'male', '30', '1', '0', 'CA 31352', '21', '', 'S']\n",
      "['1171', '2', 'Oxenham, Mr. Percy Thomas', 'male', '22', '0', '0', 'W./C. 14260', '10.5', '', 'S']\n",
      "['1172', '3', 'Oreskovic, Miss. Jelka', 'female', '23', '0', '0', '315085', '8.6625', '', 'S']\n",
      "['1173', '3', 'Peacock, Master. Alfred Edward', 'male', '0.75', '1', '1', 'SOTON/O.Q. 3101315', '13.775', '', 'S']\n",
      "['1174', '3', 'Fleming, Miss. Honora', 'female', '', '0', '0', '364859', '7.75', '', 'Q']\n",
      "['1175', '3', 'Touma, Miss. Maria Youssef', 'female', '9', '1', '1', '2650', '15.2458', '', 'C']\n",
      "['1176', '3', 'Rosblom, Miss. Salli Helena', 'female', '2', '1', '1', '370129', '20.2125', '', 'S']\n",
      "['1177', '3', 'Dennis, Mr. William', 'male', '36', '0', '0', 'A/5 21175', '7.25', '', 'S']\n",
      "['1178', '3', 'Franklin, Mr. Charles (Charles Fardon)', 'male', '', '0', '0', 'SOTON/O.Q. 3101314', '7.25', '', 'S']\n",
      "['1179', '1', 'Snyder, Mr. John Pillsbury', 'male', '24', '1', '0', '21228', '82.2667', 'B45', 'S']\n",
      "['1180', '3', 'Mardirosian, Mr. Sarkis', 'male', '', '0', '0', '2655', '7.2292', 'F E46', 'C']\n",
      "['1181', '3', 'Ford, Mr. Arthur', 'male', '', '0', '0', 'A/5 1478', '8.05', '', 'S']\n",
      "['1182', '1', 'Rheims, Mr. George Alexander Lucien', 'male', '', '0', '0', 'PC 17607', '39.6', '', 'S']\n",
      "['1183', '3', 'Daly, Miss. Margaret Marcella Maggie\"\"', 'female', '30', '0', '0', '382650', '6.95', '', 'Q']\n",
      "['1184', '3', 'Nasr, Mr. Mustafa', 'male', '', '0', '0', '2652', '7.2292', '', 'C']\n",
      "['1185', '1', 'Dodge, Dr. Washington', 'male', '53', '1', '1', '33638', '81.8583', 'A34', 'S']\n",
      "['1186', '3', 'Wittevrongel, Mr. Camille', 'male', '36', '0', '0', '345771', '9.5', '', 'S']\n",
      "['1187', '3', 'Angheloff, Mr. Minko', 'male', '26', '0', '0', '349202', '7.8958', '', 'S']\n",
      "['1188', '2', 'Laroche, Miss. Louise', 'female', '1', '1', '2', 'SC/Paris 2123', '41.5792', '', 'C']\n",
      "['1189', '3', 'Samaan, Mr. Hanna', 'male', '', '2', '0', '2662', '21.6792', '', 'C']\n",
      "['1190', '1', 'Loring, Mr. Joseph Holland', 'male', '30', '0', '0', '113801', '45.5', '', 'S']\n",
      "['1191', '3', 'Johansson, Mr. Nils', 'male', '29', '0', '0', '347467', '7.8542', '', 'S']\n",
      "['1192', '3', 'Olsson, Mr. Oscar Wilhelm', 'male', '32', '0', '0', '347079', '7.775', '', 'S']\n",
      "['1193', '2', 'Malachard, Mr. Noel', 'male', '', '0', '0', '237735', '15.0458', 'D', 'C']\n",
      "['1194', '2', 'Phillips, Mr. Escott Robert', 'male', '43', '0', '1', 'S.O./P.P. 2', '21', '', 'S']\n",
      "['1195', '3', 'Pokrnic, Mr. Tome', 'male', '24', '0', '0', '315092', '8.6625', '', 'S']\n",
      "['1196', '3', 'McCarthy, Miss. Catherine Katie\"\"', 'female', '', '0', '0', '383123', '7.75', '', 'Q']\n",
      "['1197', '1', 'Crosby, Mrs. Edward Gifford (Catherine Elizabeth Halstead)', 'female', '64', '1', '1', '112901', '26.55', 'B26', 'S']\n",
      "['1198', '1', 'Allison, Mr. Hudson Joshua Creighton', 'male', '30', '1', '2', '113781', '151.55', 'C22 C26', 'S']\n",
      "['1199', '3', 'Aks, Master. Philip Frank', 'male', '0.83', '0', '1', '392091', '9.35', '', 'S']\n",
      "['1200', '1', 'Hays, Mr. Charles Melville', 'male', '55', '1', '1', '12749', '93.5', 'B69', 'S']\n",
      "['1201', '3', 'Hansen, Mrs. Claus Peter (Jennie L Howard)', 'female', '45', '1', '0', '350026', '14.1083', '', 'S']\n",
      "['1202', '3', 'Cacic, Mr. Jego Grga', 'male', '18', '0', '0', '315091', '8.6625', '', 'S']\n",
      "['1203', '3', 'Vartanian, Mr. David', 'male', '22', '0', '0', '2658', '7.225', '', 'C']\n",
      "['1204', '3', 'Sadowitz, Mr. Harry', 'male', '', '0', '0', 'LP 1588', '7.575', '', 'S']\n",
      "['1205', '3', 'Carr, Miss. Jeannie', 'female', '37', '0', '0', '368364', '7.75', '', 'Q']\n",
      "['1206', '1', 'White, Mrs. John Stuart (Ella Holmes)', 'female', '55', '0', '0', 'PC 17760', '135.6333', 'C32', 'C']\n",
      "['1207', '3', 'Hagardon, Miss. Kate', 'female', '17', '0', '0', 'AQ/3. 30631', '7.7333', '', 'Q']\n",
      "['1208', '1', 'Spencer, Mr. William Augustus', 'male', '57', '1', '0', 'PC 17569', '146.5208', 'B78', 'C']\n",
      "['1209', '2', 'Rogers, Mr. Reginald Harry', 'male', '19', '0', '0', '28004', '10.5', '', 'S']\n",
      "['1210', '3', 'Jonsson, Mr. Nils Hilding', 'male', '27', '0', '0', '350408', '7.8542', '', 'S']\n",
      "['1211', '2', 'Jefferys, Mr. Ernest Wilfred', 'male', '22', '2', '0', 'C.A. 31029', '31.5', '', 'S']\n",
      "['1212', '3', 'Andersson, Mr. Johan Samuel', 'male', '26', '0', '0', '347075', '7.775', '', 'S']\n",
      "['1213', '3', 'Krekorian, Mr. Neshan', 'male', '25', '0', '0', '2654', '7.2292', 'F E57', 'C']\n",
      "['1214', '2', 'Nesson, Mr. Israel', 'male', '26', '0', '0', '244368', '13', 'F2', 'S']\n",
      "['1215', '1', 'Rowe, Mr. Alfred G', 'male', '33', '0', '0', '113790', '26.55', '', 'S']\n",
      "['1216', '1', 'Kreuchen, Miss. Emilie', 'female', '39', '0', '0', '24160', '211.3375', '', 'S']\n",
      "['1217', '3', 'Assam, Mr. Ali', 'male', '23', '0', '0', 'SOTON/O.Q. 3101309', '7.05', '', 'S']\n",
      "['1218', '2', 'Becker, Miss. Ruth Elizabeth', 'female', '12', '2', '1', '230136', '39', 'F4', 'S']\n",
      "['1219', '1', 'Rosenshine, Mr. George (Mr George Thorne\")\"', 'male', '46', '0', '0', 'PC 17585', '79.2', '', 'C']\n",
      "['1220', '2', 'Clarke, Mr. Charles Valentine', 'male', '29', '1', '0', '2003', '26', '', 'S']\n",
      "['1221', '2', 'Enander, Mr. Ingvar', 'male', '21', '0', '0', '236854', '13', '', 'S']\n",
      "['1222', '2', 'Davies, Mrs. John Morgan (Elizabeth Agnes Mary White) ', 'female', '48', '0', '2', 'C.A. 33112', '36.75', '', 'S']\n",
      "['1223', '1', 'Dulles, Mr. William Crothers', 'male', '39', '0', '0', 'PC 17580', '29.7', 'A18', 'C']\n",
      "['1224', '3', 'Thomas, Mr. Tannous', 'male', '', '0', '0', '2684', '7.225', '', 'C']\n",
      "['1225', '3', 'Nakid, Mrs. Said (Waika Mary\" Mowad)\"', 'female', '19', '1', '1', '2653', '15.7417', '', 'C']\n",
      "['1226', '3', 'Cor, Mr. Ivan', 'male', '27', '0', '0', '349229', '7.8958', '', 'S']\n",
      "['1227', '1', 'Maguire, Mr. John Edward', 'male', '30', '0', '0', '110469', '26', 'C106', 'S']\n",
      "['1228', '2', 'de Brito, Mr. Jose Joaquim', 'male', '32', '0', '0', '244360', '13', '', 'S']\n",
      "['1229', '3', 'Elias, Mr. Joseph', 'male', '39', '0', '2', '2675', '7.2292', '', 'C']\n",
      "['1230', '2', 'Denbury, Mr. Herbert', 'male', '25', '0', '0', 'C.A. 31029', '31.5', '', 'S']\n",
      "['1231', '3', 'Betros, Master. Seman', 'male', '', '0', '0', '2622', '7.2292', '', 'C']\n",
      "['1232', '2', 'Fillbrook, Mr. Joseph Charles', 'male', '18', '0', '0', 'C.A. 15185', '10.5', '', 'S']\n",
      "['1233', '3', 'Lundstrom, Mr. Thure Edvin', 'male', '32', '0', '0', '350403', '7.5792', '', 'S']\n",
      "['1234', '3', 'Sage, Mr. John George', 'male', '', '1', '9', 'CA. 2343', '69.55', '', 'S']\n",
      "['1235', '1', 'Cardeza, Mrs. James Warburton Martinez (Charlotte Wardle Drake)', 'female', '58', '0', '1', 'PC 17755', '512.3292', 'B51 B53 B55', 'C']\n",
      "['1236', '3', 'van Billiard, Master. James William', 'male', '', '1', '1', 'A/5. 851', '14.5', '', 'S']\n",
      "['1237', '3', 'Abelseth, Miss. Karen Marie', 'female', '16', '0', '0', '348125', '7.65', '', 'S']\n",
      "['1238', '2', 'Botsford, Mr. William Hull', 'male', '26', '0', '0', '237670', '13', '', 'S']\n",
      "['1239', '3', 'Whabee, Mrs. George Joseph (Shawneene Abi-Saab)', 'female', '38', '0', '0', '2688', '7.2292', '', 'C']\n",
      "['1240', '2', 'Giles, Mr. Ralph', 'male', '24', '0', '0', '248726', '13.5', '', 'S']\n",
      "['1241', '2', 'Walcroft, Miss. Nellie', 'female', '31', '0', '0', 'F.C.C. 13528', '21', '', 'S']\n",
      "['1242', '1', 'Greenfield, Mrs. Leo David (Blanche Strouse)', 'female', '45', '0', '1', 'PC 17759', '63.3583', 'D10 D12', 'C']\n",
      "['1243', '2', 'Stokes, Mr. Philip Joseph', 'male', '25', '0', '0', 'F.C.C. 13540', '10.5', '', 'S']\n",
      "['1244', '2', 'Dibden, Mr. William', 'male', '18', '0', '0', 'S.O.C. 14879', '73.5', '', 'S']\n",
      "['1245', '2', 'Herman, Mr. Samuel', 'male', '49', '1', '2', '220845', '65', '', 'S']\n",
      "['1246', '3', 'Dean, Miss. Elizabeth Gladys Millvina\"\"', 'female', '0.17', '1', '2', 'C.A. 2315', '20.575', '', 'S']\n",
      "['1247', '1', 'Julian, Mr. Henry Forbes', 'male', '50', '0', '0', '113044', '26', 'E60', 'S']\n",
      "['1248', '1', 'Brown, Mrs. John Murray (Caroline Lane Lamson)', 'female', '59', '2', '0', '11769', '51.4792', 'C101', 'S']\n",
      "['1249', '3', 'Lockyer, Mr. Edward', 'male', '', '0', '0', '1222', '7.8792', '', 'S']\n",
      "['1250', '3', \"O'Keefe, Mr. Patrick\", 'male', '', '0', '0', '368402', '7.75', '', 'Q']\n",
      "['1251', '3', 'Lindell, Mrs. Edvard Bengtsson (Elin Gerda Persson)', 'female', '30', '1', '0', '349910', '15.55', '', 'S']\n",
      "['1252', '3', 'Sage, Master. William Henry', 'male', '14.5', '8', '2', 'CA. 2343', '69.55', '', 'S']\n",
      "['1253', '2', 'Mallet, Mrs. Albert (Antoinette Magnin)', 'female', '24', '1', '1', 'S.C./PARIS 2079', '37.0042', '', 'C']\n",
      "['1254', '2', 'Ware, Mrs. John James (Florence Louise Long)', 'female', '31', '0', '0', 'CA 31352', '21', '', 'S']\n",
      "['1255', '3', 'Strilic, Mr. Ivan', 'male', '27', '0', '0', '315083', '8.6625', '', 'S']\n",
      "['1256', '1', 'Harder, Mrs. George Achilles (Dorothy Annan)', 'female', '25', '1', '0', '11765', '55.4417', 'E50', 'C']\n",
      "['1257', '3', 'Sage, Mrs. John (Annie Bullen)', 'female', '', '1', '9', 'CA. 2343', '69.55', '', 'S']\n",
      "['1258', '3', 'Caram, Mr. Joseph', 'male', '', '1', '0', '2689', '14.4583', '', 'C']\n",
      "['1259', '3', 'Riihivouri, Miss. Susanna Juhantytar Sanni\"\"', 'female', '22', '0', '0', '3101295', '39.6875', '', 'S']\n",
      "['1260', '1', 'Gibson, Mrs. Leonard (Pauline C Boeson)', 'female', '45', '0', '1', '112378', '59.4', '', 'C']\n",
      "['1261', '2', 'Pallas y Castello, Mr. Emilio', 'male', '29', '0', '0', 'SC/PARIS 2147', '13.8583', '', 'C']\n",
      "['1262', '2', 'Giles, Mr. Edgar', 'male', '21', '1', '0', '28133', '11.5', '', 'S']\n",
      "['1263', '1', 'Wilson, Miss. Helen Alice', 'female', '31', '0', '0', '16966', '134.5', 'E39 E41', 'C']\n",
      "['1264', '1', 'Ismay, Mr. Joseph Bruce', 'male', '49', '0', '0', '112058', '0', 'B52 B54 B56', 'S']\n",
      "['1265', '2', 'Harbeck, Mr. William H', 'male', '44', '0', '0', '248746', '13', '', 'S']\n",
      "['1266', '1', 'Dodge, Mrs. Washington (Ruth Vidaver)', 'female', '54', '1', '1', '33638', '81.8583', 'A34', 'S']\n",
      "['1267', '1', 'Bowen, Miss. Grace Scott', 'female', '45', '0', '0', 'PC 17608', '262.375', '', 'C']\n",
      "['1268', '3', 'Kink, Miss. Maria', 'female', '22', '2', '0', '315152', '8.6625', '', 'S']\n",
      "['1269', '2', 'Cotterill, Mr. Henry Harry\"\"', 'male', '21', '0', '0', '29107', '11.5', '', 'S']\n",
      "['1270', '1', 'Hipkins, Mr. William Edward', 'male', '55', '0', '0', '680', '50', 'C39', 'S']\n",
      "['1271', '3', 'Asplund, Master. Carl Edgar', 'male', '5', '4', '2', '347077', '31.3875', '', 'S']\n",
      "['1272', '3', \"O'Connor, Mr. Patrick\", 'male', '', '0', '0', '366713', '7.75', '', 'Q']\n",
      "['1273', '3', 'Foley, Mr. Joseph', 'male', '26', '0', '0', '330910', '7.8792', '', 'Q']\n",
      "['1274', '3', 'Risien, Mrs. Samuel (Emma)', 'female', '', '0', '0', '364498', '14.5', '', 'S']\n",
      "['1275', '3', \"McNamee, Mrs. Neal (Eileen O'Leary)\", 'female', '19', '1', '0', '376566', '16.1', '', 'S']\n",
      "['1276', '2', 'Wheeler, Mr. Edwin Frederick\"\"', 'male', '', '0', '0', 'SC/PARIS 2159', '12.875', '', 'S']\n",
      "['1277', '2', 'Herman, Miss. Kate', 'female', '24', '1', '2', '220845', '65', '', 'S']\n",
      "['1278', '3', 'Aronsson, Mr. Ernst Axel Algot', 'male', '24', '0', '0', '349911', '7.775', '', 'S']\n",
      "['1279', '2', 'Ashby, Mr. John', 'male', '57', '0', '0', '244346', '13', '', 'S']\n",
      "['1280', '3', 'Canavan, Mr. Patrick', 'male', '21', '0', '0', '364858', '7.75', '', 'Q']\n",
      "['1281', '3', 'Palsson, Master. Paul Folke', 'male', '6', '3', '1', '349909', '21.075', '', 'S']\n",
      "['1282', '1', 'Payne, Mr. Vivian Ponsonby', 'male', '23', '0', '0', '12749', '93.5', 'B24', 'S']\n",
      "['1283', '1', 'Lines, Mrs. Ernest H (Elizabeth Lindsey James)', 'female', '51', '0', '1', 'PC 17592', '39.4', 'D28', 'S']\n",
      "['1284', '3', 'Abbott, Master. Eugene Joseph', 'male', '13', '0', '2', 'C.A. 2673', '20.25', '', 'S']\n",
      "['1285', '2', 'Gilbert, Mr. William', 'male', '47', '0', '0', 'C.A. 30769', '10.5', '', 'S']\n",
      "['1286', '3', 'Kink-Heilmann, Mr. Anton', 'male', '29', '3', '1', '315153', '22.025', '', 'S']\n",
      "['1287', '1', 'Smith, Mrs. Lucien Philip (Mary Eloise Hughes)', 'female', '18', '1', '0', '13695', '60', 'C31', 'S']\n",
      "['1288', '3', 'Colbert, Mr. Patrick', 'male', '24', '0', '0', '371109', '7.25', '', 'Q']\n",
      "['1289', '1', 'Frolicher-Stehli, Mrs. Maxmillian (Margaretha Emerentia Stehli)', 'female', '48', '1', '1', '13567', '79.2', 'B41', 'C']\n",
      "['1290', '3', 'Larsson-Rondberg, Mr. Edvard A', 'male', '22', '0', '0', '347065', '7.775', '', 'S']\n",
      "['1291', '3', 'Conlon, Mr. Thomas Henry', 'male', '31', '0', '0', '21332', '7.7333', '', 'Q']\n",
      "['1292', '1', 'Bonnell, Miss. Caroline', 'female', '30', '0', '0', '36928', '164.8667', 'C7', 'S']\n",
      "['1293', '2', 'Gale, Mr. Harry', 'male', '38', '1', '0', '28664', '21', '', 'S']\n",
      "['1294', '1', 'Gibson, Miss. Dorothy Winifred', 'female', '22', '0', '1', '112378', '59.4', '', 'C']\n",
      "['1295', '1', 'Carrau, Mr. Jose Pedro', 'male', '17', '0', '0', '113059', '47.1', '', 'S']\n",
      "['1296', '1', 'Frauenthal, Mr. Isaac Gerald', 'male', '43', '1', '0', '17765', '27.7208', 'D40', 'C']\n",
      "['1297', '2', 'Nourney, Mr. Alfred (Baron von Drachstedt\")\"', 'male', '20', '0', '0', 'SC/PARIS 2166', '13.8625', 'D38', 'C']\n",
      "['1298', '2', 'Ware, Mr. William Jeffery', 'male', '23', '1', '0', '28666', '10.5', '', 'S']\n",
      "['1299', '1', 'Widener, Mr. George Dunton', 'male', '50', '1', '1', '113503', '211.5', 'C80', 'C']\n",
      "['1300', '3', 'Riordan, Miss. Johanna Hannah\"\"', 'female', '', '0', '0', '334915', '7.7208', '', 'Q']\n",
      "['1301', '3', 'Peacock, Miss. Treasteall', 'female', '3', '1', '1', 'SOTON/O.Q. 3101315', '13.775', '', 'S']\n",
      "['1302', '3', 'Naughton, Miss. Hannah', 'female', '', '0', '0', '365237', '7.75', '', 'Q']\n",
      "['1303', '1', 'Minahan, Mrs. William Edward (Lillian E Thorpe)', 'female', '37', '1', '0', '19928', '90', 'C78', 'Q']\n",
      "['1304', '3', 'Henriksson, Miss. Jenny Lovisa', 'female', '28', '0', '0', '347086', '7.775', '', 'S']\n",
      "['1305', '3', 'Spector, Mr. Woolf', 'male', '', '0', '0', 'A.5. 3236', '8.05', '', 'S']\n",
      "['1306', '1', 'Oliva y Ocana, Dona. Fermina', 'female', '39', '0', '0', 'PC 17758', '108.9', 'C105', 'C']\n",
      "['1307', '3', 'Saether, Mr. Simon Sivertsen', 'male', '38.5', '0', '0', 'SOTON/O.Q. 3101262', '7.25', '', 'S']\n",
      "['1308', '3', 'Ware, Mr. Frederick', 'male', '', '0', '0', '359309', '8.05', '', 'S']\n",
      "['1309', '3', 'Peter, Master. Michael J', 'male', '', '1', '1', '2668', '22.3583', '', 'C']\n"
     ]
    }
   ],
   "source": [
    "# how to read a csv file with Python\n",
    "import codecs\n",
    "from contextlib import closing\n",
    "import csv\n",
    "import requests\n",
    "\n",
    "url = 'https://titanic-data-set.s3.amazonaws.com/test.csv'\n",
    "\n",
    "stream = requests.get(url, stream=True)\n",
    "with closing(stream) as r:\n",
    "    lines = r.iter_lines()\n",
    "    decoded = codecs.iterdecode(lines, 'utf-8')\n",
    "    reader = csv.reader(decoded)\n",
    "    for row in reader:\n",
    "        print(row)\n"
   ]
  },
  {
   "cell_type": "markdown",
   "metadata": {
    "id": "FmWD1hL2Dom2"
   },
   "source": [
    "### **Exercises**\n",
    "\n",
    "* Create a function `greeting` with name as a parameter. Should say “Hello” + name."
   ]
  },
  {
   "cell_type": "code",
   "execution_count": 16,
   "metadata": {
    "id": "k5rSeGK7f6UN"
   },
   "outputs": [
    {
     "name": "stdout",
     "output_type": "stream",
     "text": [
      "Hello César\n"
     ]
    }
   ],
   "source": [
    "def greeting(name):\n",
    "    print(\"Hello\",name)\n",
    "\n",
    "greeting(\"César\")"
   ]
  },
  {
   "cell_type": "markdown",
   "metadata": {
    "id": "cUalh7k9gK8e"
   },
   "source": [
    "* Create a function to sum two numeric parameters."
   ]
  },
  {
   "cell_type": "code",
   "execution_count": 18,
   "metadata": {
    "id": "8R8ZQjhYgEe4"
   },
   "outputs": [
    {
     "name": "stdout",
     "output_type": "stream",
     "text": [
      "12\n"
     ]
    }
   ],
   "source": [
    "def suma(a,b):\n",
    "    print(a+b)\n",
    "suma(5,7)"
   ]
  },
  {
   "cell_type": "markdown",
   "metadata": {
    "id": "QSz04j5VgHlo"
   },
   "source": [
    "* **BONUS:** Create a calculator function that receives two numeric parameters and an operator selection."
   ]
  },
  {
   "cell_type": "code",
   "execution_count": 74,
   "metadata": {
    "id": "uhrRPkMtgF7J"
   },
   "outputs": [
    {
     "data": {
      "text/plain": [
       "9"
      ]
     },
     "execution_count": 74,
     "metadata": {},
     "output_type": "execute_result"
    }
   ],
   "source": [
    "def calculator(a, b, operator = 0):\n",
    "    if operator == 'sum':\n",
    "        return a+b\n",
    "    elif operator == 'power':\n",
    "        return a**b\n",
    "    elif operator == 'mult':\n",
    "        return a*b\n",
    "    elif operator == 'div':\n",
    "        return a/b\n",
    "    elif operator == 'intd':\n",
    "        return a//b\n",
    "    elif operator == 'rem':\n",
    "        return a%b\n",
    "    elif operator == 'subs':\n",
    "        return a-b\n",
    "    else:\n",
    "        return 0\n",
    "a = 5\n",
    "b = 4\n",
    "calculator(a,b,'sum')"
   ]
  },
  {
   "cell_type": "markdown",
   "metadata": {
    "id": "aPaZtpwPtbZ8"
   },
   "source": [
    "### **= vs == in Python**\n",
    "The **=** operator is used for variable assignments."
   ]
  },
  {
   "cell_type": "code",
   "execution_count": null,
   "metadata": {
    "id": "xG6vE4Ep8VNt"
   },
   "outputs": [],
   "source": [
    "x = 5\n",
    "X = 'this is a string'\n",
    "\n",
    "print('x value is :', x )\n",
    "print('X value is :', X )"
   ]
  },
  {
   "cell_type": "markdown",
   "metadata": {
    "id": "PogkSX028uD1"
   },
   "source": [
    "The **==** operator is used operator compares the values of both the operands _and_ checks for value equality.\n"
   ]
  },
  {
   "cell_type": "code",
   "execution_count": null,
   "metadata": {
    "id": "YFC6-19L8z7f"
   },
   "outputs": [],
   "source": [
    "print(5 == 5)\n",
    "print(4 == '4')"
   ]
  },
  {
   "cell_type": "markdown",
   "metadata": {
    "id": "9mLEGja-4-6F"
   },
   "source": [
    "## **Variable Types** \n",
    "\n",
    "---\n",
    "\n"
   ]
  },
  {
   "cell_type": "markdown",
   "metadata": {
    "id": "yQYdV6CQU6xm"
   },
   "source": [
    "### **Strings**\n",
    "\n",
    "A **string** is a sequence of characters.\n",
    "\n",
    "A **character** is simply a symbol. For example, the English language has 26 characters.\n",
    "\n"
   ]
  },
  {
   "cell_type": "code",
   "execution_count": null,
   "metadata": {
    "id": "ATrp-WO59qCH"
   },
   "outputs": [],
   "source": [
    "# all of the following are equivalent\n",
    "my_string = 'Hello'\n",
    "print(my_string)\n",
    "\n",
    "my_string = \"Hello\"\n",
    "print(my_string)\n",
    "\n",
    "my_string = '''Hello'''\n",
    "print(my_string)\n",
    "\n",
    "my_string = \"\"\"Hello, welcome to \\n the world of Python\"\"\"\n",
    "\n",
    "# triple quotes string can extend multiple lines\n",
    "my_string = \"\"\"Hello, welcome to \n",
    "           the world of Python\"\"\"\n",
    "print(my_string)\n",
    "\n",
    "# strings are case sensitive\n",
    "print('Python' == 'python')"
   ]
  },
  {
   "cell_type": "markdown",
   "metadata": {
    "id": "tRcPa8DcVKly"
   },
   "source": [
    "### **Numbers**\n",
    "\n",
    "Python supports **integers**, **floating point numbers**, and **complex numbers**. They are defined as `int`, `float`, and `complex` class in Python.\n",
    "\n",
    "**Integers** and **floating points** are separated by the presence or absence of a decimal point. 5 is integer whereas 5.0 is a floating point number.\n",
    "\n",
    "We can use the **type()** function to know which class a variable or a value belongs to and **isinstance()** function to check if it belongs to a particular class.\n"
   ]
  },
  {
   "cell_type": "code",
   "execution_count": null,
   "metadata": {
    "id": "TY4q0YE3Axbp"
   },
   "outputs": [],
   "source": [
    "a = 5\n",
    "print(type(a))\n",
    "\n",
    "print(type(5.0))\n"
   ]
  },
  {
   "cell_type": "markdown",
   "metadata": {
    "id": "J8DLbLAqVWHw"
   },
   "source": [
    "### **Booleans**\n",
    "\n",
    "A boolean literal can have any of the two values: `True` or `False`.\n",
    "\n"
   ]
  },
  {
   "cell_type": "code",
   "execution_count": null,
   "metadata": {
    "id": "TwQCPQTTBxoG"
   },
   "outputs": [],
   "source": [
    "x = True\n",
    "y = False\n",
    "\n",
    "print(True != x)\n",
    "print(False == y)\n",
    "print(x == y)"
   ]
  },
  {
   "cell_type": "markdown",
   "metadata": {
    "id": "w0ejuDp5QsyO"
   },
   "source": [
    "### **Exercises**\n",
    "\n",
    "1. Add two string variables and print the result, describe the behavior."
   ]
  },
  {
   "cell_type": "code",
   "execution_count": 38,
   "metadata": {
    "id": "Ldhok85FRSC7"
   },
   "outputs": [
    {
     "name": "stdout",
     "output_type": "stream",
     "text": [
      "12\n"
     ]
    }
   ],
   "source": [
    "a = '1'\n",
    "b = '2'\n",
    "print(a+b)\n",
    "# describe the behavior: It is performing a concatenation of two strings"
   ]
  },
  {
   "cell_type": "markdown",
   "metadata": {
    "id": "_9eRocthRUgH"
   },
   "source": [
    "2. Create a program using sum of strings for your name and birthday, use variables too. For example, \"My name is Mary, my birthday is on September.\"\n"
   ]
  },
  {
   "cell_type": "code",
   "execution_count": 36,
   "metadata": {
    "id": "PIO_rFOySG9y"
   },
   "outputs": [
    {
     "name": "stdout",
     "output_type": "stream",
     "text": [
      "My name is César Guillermo Vázquez Alvarez, my birthday is on November\n"
     ]
    }
   ],
   "source": [
    "full_name = \"César Guillermo Vázquez Alvarez,\"\n",
    "birthday = \"November\"\n",
    "print('My name is', full_name, \"my birthday is on\", birthday)"
   ]
  },
  {
   "cell_type": "markdown",
   "metadata": {
    "id": "_ZXDrSSuSRC2"
   },
   "source": [
    "3. Repeat operations exercise, with variable assignment (example x = 5, y = 2)."
   ]
  },
  {
   "cell_type": "code",
   "execution_count": 37,
   "metadata": {
    "id": "jmHXOTQBSeGD"
   },
   "outputs": [
    {
     "name": "stdout",
     "output_type": "stream",
     "text": [
      "25\n",
      "10\n",
      "2.5\n",
      "2\n",
      "1\n",
      "7\n",
      "3\n"
     ]
    }
   ],
   "source": [
    "# Create two numeric vars\n",
    "x = 5\n",
    "y = 2\n",
    "\n",
    "# Power (exponentiation)\n",
    "print(x**y)\n",
    "\n",
    "# Multiplication\n",
    "print(x*y)\n",
    "\n",
    "# Division\n",
    "print(x/y)\n",
    "\n",
    "# Integer Division\n",
    "print(x//y)\n",
    "\n",
    "# Remainder (modulo)\n",
    "print(x%y)\n",
    "\n",
    "# Addition\n",
    "print(x+y)\n",
    "\n",
    "# Subtraction\n",
    "print(x-y)"
   ]
  },
  {
   "cell_type": "markdown",
   "metadata": {
    "id": "i21Pitz4TSPP"
   },
   "source": [
    "\n",
    "# **Part 3. Python Structures**\n",
    "\n",
    "---\n",
    "\n",
    "---\n",
    "\n"
   ]
  },
  {
   "cell_type": "markdown",
   "metadata": {
    "id": "mXc8WiUHVl3C"
   },
   "source": [
    "## **Basic Objects**\n",
    "\n",
    "---\n",
    "\n"
   ]
  },
  {
   "cell_type": "markdown",
   "metadata": {
    "id": "mUwr1wH1pcCQ"
   },
   "source": [
    "### **Lists**\n",
    "Python **lists** are sequences of objects. The elements within them can be replaced or removed, and new elements can be inserted or appended.\n",
    "\n",
    "Literal lists are delimited by square brackets, and the items within the list are separated by commas. "
   ]
  },
  {
   "cell_type": "code",
   "execution_count": 51,
   "metadata": {
    "id": "GDfdC-z6YBnH"
   },
   "outputs": [],
   "source": [
    "# Here is a list of three numbers\n",
    "numbers = [4, -1, 900.4]\n",
    "\n",
    "# This is a list of three strings\n",
    "fruits = [\"apple\", \"orange\", \"pear\"]\n",
    "\n",
    "# And this is an empty string\n",
    "empty = []"
   ]
  },
  {
   "cell_type": "markdown",
   "metadata": {
    "id": "zb6ms9f-anJ5"
   },
   "source": [
    "We can retrieve elements by using square brackets ([]) with a zero-based index:"
   ]
  },
  {
   "cell_type": "code",
   "execution_count": 52,
   "metadata": {
    "colab": {
     "base_uri": "https://localhost:8080/",
     "height": 34
    },
    "id": "9v2sFBnGaoPq",
    "outputId": "9d66c7b3-1efa-4984-cdf7-838372295cd3"
   },
   "outputs": [
    {
     "name": "stdout",
     "output_type": "stream",
     "text": [
      "apple\n"
     ]
    }
   ],
   "source": [
    "print(fruits[0])"
   ]
  },
  {
   "cell_type": "markdown",
   "metadata": {
    "id": "nNF6j3hEa81l"
   },
   "source": [
    "We can replace elements by assigning to a specific element:"
   ]
  },
  {
   "cell_type": "code",
   "execution_count": 53,
   "metadata": {
    "colab": {
     "base_uri": "https://localhost:8080/",
     "height": 34
    },
    "id": "y7pk87eUa9dB",
    "outputId": "5185e916-5b8b-4797-bb40-5c1dd3d8a2b2"
   },
   "outputs": [
    {
     "name": "stdout",
     "output_type": "stream",
     "text": [
      "[9, 'orange', 'pear']\n"
     ]
    }
   ],
   "source": [
    "fruits[0] = 9\n",
    "\n",
    "print(fruits)"
   ]
  },
  {
   "cell_type": "markdown",
   "metadata": {
    "id": "4F7aSsy-bKNr"
   },
   "source": [
    "And we can add elements to the list using the **append()** method:"
   ]
  },
  {
   "cell_type": "code",
   "execution_count": 54,
   "metadata": {
    "id": "TrkkQqxqbSkl"
   },
   "outputs": [
    {
     "name": "stdout",
     "output_type": "stream",
     "text": [
      "[9, 'orange', 'pear', 'grapes']\n"
     ]
    }
   ],
   "source": [
    "fruits.append('grapes')\n",
    "\n",
    "print(fruits)"
   ]
  },
  {
   "cell_type": "markdown",
   "metadata": {
    "id": "xU7uSABgqOlS"
   },
   "source": [
    "### **Tuples**\n",
    "\n",
    "**Tuples** in Python are immutable sequences of arbitrary objects. Once created, the objects within them cannot be replaced or removed, and new elements cannot be added.\n",
    "\n",
    "Tuples have a similar literal syntax to lists, except that they are delimited by parentheses rather than square brackets. \n",
    "\n",
    "Here is a literal tuple containing a string, a float, and an integer:\n"
   ]
  },
  {
   "cell_type": "code",
   "execution_count": 55,
   "metadata": {
    "id": "K-NaBShGcWxQ"
   },
   "outputs": [],
   "source": [
    "t = (\"Norway\", 4.953, 3)"
   ]
  },
  {
   "cell_type": "markdown",
   "metadata": {
    "id": "sHCISmsUchyc"
   },
   "source": [
    "We can access the elements of a tuple by zero-based index using square brackets:"
   ]
  },
  {
   "cell_type": "code",
   "execution_count": 56,
   "metadata": {
    "colab": {
     "base_uri": "https://localhost:8080/",
     "height": 34
    },
    "id": "zR9UqG7ucihD",
    "outputId": "9881e596-a5aa-4ec0-f6fe-09f40226273d"
   },
   "outputs": [
    {
     "name": "stdout",
     "output_type": "stream",
     "text": [
      "Norway\n"
     ]
    }
   ],
   "source": [
    "print(t[0])"
   ]
  },
  {
   "cell_type": "markdown",
   "metadata": {
    "id": "I1KWtzlgcs5N"
   },
   "source": [
    "We can't modify any element in the tuple:"
   ]
  },
  {
   "cell_type": "code",
   "execution_count": 57,
   "metadata": {
    "id": "qTiGUq-dczL8"
   },
   "outputs": [
    {
     "ename": "TypeError",
     "evalue": "'tuple' object does not support item assignment",
     "output_type": "error",
     "traceback": [
      "\u001b[0;31m---------------------------------------------------------------------------\u001b[0m",
      "\u001b[0;31mTypeError\u001b[0m                                 Traceback (most recent call last)",
      "\u001b[0;32m<ipython-input-57-e74598aec1b7>\u001b[0m in \u001b[0;36m<module>\u001b[0;34m\u001b[0m\n\u001b[0;32m----> 1\u001b[0;31m \u001b[0mt\u001b[0m\u001b[0;34m[\u001b[0m\u001b[0;36m0\u001b[0m\u001b[0;34m]\u001b[0m \u001b[0;34m=\u001b[0m \u001b[0;34m'test'\u001b[0m\u001b[0;34m\u001b[0m\u001b[0;34m\u001b[0m\u001b[0m\n\u001b[0m",
      "\u001b[0;31mTypeError\u001b[0m: 'tuple' object does not support item assignment"
     ]
    }
   ],
   "source": [
    "t[0] = 'test'"
   ]
  },
  {
   "cell_type": "markdown",
   "metadata": {
    "id": "n0jPwrZQqTqy"
   },
   "source": [
    "### **Dictionaries**\n",
    "\n",
    "**Dictionaries** are very widely used. A dictionary maps keys\n",
    "to values.\n",
    "\n",
    "Dictionaries are created using curly braces ({}) containing key-value pairs. Each pair is separated by a comma, and each key is separated from its corresponding value by a colon(:). Here we use a dictionary to create a simple telephone directory:"
   ]
  },
  {
   "cell_type": "code",
   "execution_count": 46,
   "metadata": {
    "id": "NSpf_Lu_Zh5o"
   },
   "outputs": [],
   "source": [
    "directory = {'alice': '878-8728-922', 'bob': '256-5262-124', \n",
    "         'eve': '198-2321-787'}"
   ]
  },
  {
   "cell_type": "markdown",
   "metadata": {
    "id": "4iwGwik-ZoK6"
   },
   "source": [
    "We can retrieve items by key using the square brackets operator:"
   ]
  },
  {
   "cell_type": "code",
   "execution_count": 47,
   "metadata": {
    "id": "AH6GrgMQZshy"
   },
   "outputs": [
    {
     "name": "stdout",
     "output_type": "stream",
     "text": [
      "198-2321-787\n"
     ]
    }
   ],
   "source": [
    "print(directory['eve'])"
   ]
  },
  {
   "cell_type": "markdown",
   "metadata": {
    "id": "lOqnHBvgt1pw"
   },
   "source": [
    "And we can replace the value of a key using square brackets:"
   ]
  },
  {
   "cell_type": "code",
   "execution_count": 48,
   "metadata": {
    "id": "4jTJvTtaZ-7I"
   },
   "outputs": [
    {
     "name": "stdout",
     "output_type": "stream",
     "text": [
      "333-1234-987\n"
     ]
    }
   ],
   "source": [
    "directory['eve'] = '333-1234-987'\n",
    "print(directory['eve'])"
   ]
  },
  {
   "cell_type": "markdown",
   "metadata": {
    "id": "BP6qaYP4aYYA"
   },
   "source": [
    "If we assign to a key that has not yet been added, a new entry is created:"
   ]
  },
  {
   "cell_type": "code",
   "execution_count": 49,
   "metadata": {
    "id": "ebsPn5SdaZEJ"
   },
   "outputs": [
    {
     "name": "stdout",
     "output_type": "stream",
     "text": [
      "{'alice': '878-8728-922', 'bob': '256-5262-124', 'eve': '333-1234-987', 'charles': '334-5551-913'}\n"
     ]
    }
   ],
   "source": [
    "directory['charles'] = '334-5551-913'\n",
    "print(directory)"
   ]
  },
  {
   "cell_type": "markdown",
   "metadata": {
    "id": "m3Hy26YDTmI6"
   },
   "source": [
    "## **Object Manipulation**\n",
    "\n",
    "\n",
    "---\n",
    "\n"
   ]
  },
  {
   "cell_type": "markdown",
   "metadata": {
    "id": "o-arJb30TmGC"
   },
   "source": [
    "### **List/Tuple Slicing**\n",
    "**Slicing** is a form of extended indexing, which allows us to refer to portions of a list. To use it we pass the start and stop indices of a half-open range, separated by a colon, as the square-brackets index argument. \n",
    "\n",
    "Here's how:\n",
    "\n"
   ]
  },
  {
   "cell_type": "code",
   "execution_count": 42,
   "metadata": {
    "id": "DOi2iw1jlUxJ"
   },
   "outputs": [
    {
     "name": "stdout",
     "output_type": "stream",
     "text": [
      "['b', 'c', 'd']\n"
     ]
    }
   ],
   "source": [
    "s = ['a', 'b', 'c', 'd', 'e', 'f']\n",
    "\n",
    "print(s[1:4])"
   ]
  },
  {
   "cell_type": "markdown",
   "metadata": {
    "id": "PdzFmQPiofcQ"
   },
   "source": [
    "Both the start and stop indices are optional. To slice all elements from the third to the end of the list:"
   ]
  },
  {
   "cell_type": "code",
   "execution_count": 43,
   "metadata": {
    "id": "VaVJPhSdpJs7"
   },
   "outputs": [
    {
     "name": "stdout",
     "output_type": "stream",
     "text": [
      "['d', 'e', 'f']\n"
     ]
    }
   ],
   "source": [
    "print(s[3:])"
   ]
  },
  {
   "cell_type": "markdown",
   "metadata": {
    "id": "0D67-sAbpVR_"
   },
   "source": [
    "To slice all elements from the beginning up to, but not including, the third:"
   ]
  },
  {
   "cell_type": "code",
   "execution_count": 44,
   "metadata": {
    "id": "mFNuMyyZpWyp"
   },
   "outputs": [
    {
     "name": "stdout",
     "output_type": "stream",
     "text": [
      "['a', 'b', 'c']\n"
     ]
    }
   ],
   "source": [
    "print(s[:3])"
   ]
  },
  {
   "cell_type": "markdown",
   "metadata": {
    "id": "7TuvEn-fue_u"
   },
   "source": [
    "### **List and Dictionary Modifications**\n",
    "\n",
    "Some useful methods for lists:\n",
    "\n",
    "* **append( )** -\tAdds an element at the end of the list.\n",
    "\n",
    "* **count( )** -\tReturns the number of elements with the specified value.\n",
    "\n",
    "* **index( )**\t- Returns the index of the first element with the specified value.\n",
    "\n",
    "* **sort( )** -\tSorts the list.\n"
   ]
  },
  {
   "cell_type": "code",
   "execution_count": 41,
   "metadata": {
    "colab": {
     "base_uri": "https://localhost:8080/",
     "height": 86
    },
    "id": "sVD47CxUhyzV",
    "outputId": "6f38bf74-8894-48af-e6bd-44b2b17e0348"
   },
   "outputs": [
    {
     "name": "stdout",
     "output_type": "stream",
     "text": [
      "List with new element:  [2, 1, 2, 3, 7, 1, 1, 4]\n",
      "The number 1 appears : 3  times in the list\n",
      "The number 7 seven_index\n",
      "[1, 1, 1, 2, 2, 3, 4, 7]\n"
     ]
    }
   ],
   "source": [
    "a =[2, 1, 2, 3, 7, 1, 1]\n",
    "\n",
    "a.append(4)\n",
    "print(\"List with new element: \", a)\n",
    "\n",
    "one_qty = a.count(1)\n",
    "print(\"The number 1 appears :\", one_qty, \" times in the list\")\n",
    "\n",
    "seven_index = a.index(7)\n",
    "print(\"The number 7 seven_index\")\n",
    "\n",
    "a.sort()\n",
    "print(a)"
   ]
  },
  {
   "cell_type": "markdown",
   "metadata": {
    "id": "xwUFA-E0h2iT"
   },
   "source": [
    "\n",
    "Some useful methods for dictionaries:\n",
    "\n",
    "* **get( )** -\tReturns the value of the specified key.\n",
    "\n",
    "* **values( )** -\tReturns a list containing the dictionary's values.\n",
    "\n",
    "* **keys( )** -\tReturns a list containing the dictionary's keys.\n",
    "\n",
    "* **update( )** - Updates the dictionary with the specified key-value pairs."
   ]
  },
  {
   "cell_type": "code",
   "execution_count": 39,
   "metadata": {
    "id": "UkuDrKOgh2Dq"
   },
   "outputs": [
    {
     "name": "stdout",
     "output_type": "stream",
     "text": [
      "Arya belongs to the  Stark  house\n",
      "dict_values(['Stark', 'Lannister', 'Lannister', 'Baratheon', 'Stark'])\n",
      "dict_keys(['Ned', 'Cersei', 'Tyrion', 'Stannis', 'Arya'])\n",
      "{'Ned': 'Stark', 'Cersei': 'Lannister', 'Tyrion': 'Lannister', 'Stannis': 'Baratheon', 'Arya': 'Stark', 'Bran': 'Stark', 'Daenerys': 'Targaryen'}\n"
     ]
    }
   ],
   "source": [
    "characters = {'Ned': 'Stark', 'Cersei': 'Lannister', 'Tyrion': 'Lannister', 'Stannis': 'Baratheon', 'Arya': 'Stark'}\n",
    "\n",
    "print('Arya belongs to the ', characters.get('Arya'), ' house')\n",
    "\n",
    "print(characters.values())\n",
    "print(characters.keys())\n",
    "\n",
    "characters.update({'Bran': 'Stark', 'Daenerys': 'Targaryen' })\n",
    "print(characters)"
   ]
  },
  {
   "cell_type": "markdown",
   "metadata": {
    "id": "61ahSFg1T_RE"
   },
   "source": [
    "## **Exercises**\n",
    "\n",
    "\n",
    "---"
   ]
  },
  {
   "cell_type": "markdown",
   "metadata": {
    "id": "GqmXsGXUdAIY"
   },
   "source": [
    "1. Create a list with the 12 months of the year in order. Store it in `months`.\n",
    "\n"
   ]
  },
  {
   "cell_type": "code",
   "execution_count": 60,
   "metadata": {
    "id": "NPt0TXYKdjaf"
   },
   "outputs": [],
   "source": [
    "months = ['Jan','Feb','Mar','Abr','May','Jun','Jul','Agu','Sep','Oct','Nov','Dec']"
   ]
  },
  {
   "cell_type": "markdown",
   "metadata": {
    "id": "s5OTXrRndmLC"
   },
   "source": [
    "2. Print a slice of the list with the months from June to November.\n"
   ]
  },
  {
   "cell_type": "code",
   "execution_count": 63,
   "metadata": {
    "id": "u_p222T5dnkz"
   },
   "outputs": [
    {
     "name": "stdout",
     "output_type": "stream",
     "text": [
      "['Jun', 'Jul', 'Agu', 'Sep', 'Oct', 'Nov']\n"
     ]
    }
   ],
   "source": [
    "print(months[5:11])"
   ]
  },
  {
   "cell_type": "markdown",
   "metadata": {
    "id": "tt1ajpxKdof5"
   },
   "source": [
    "3. Using Slicing, print only your birth month, assign it to `birth_month`.\n"
   ]
  },
  {
   "cell_type": "code",
   "execution_count": 65,
   "metadata": {
    "id": "y0HhqtOldqIo"
   },
   "outputs": [
    {
     "name": "stdout",
     "output_type": "stream",
     "text": [
      "Nov\n"
     ]
    }
   ],
   "source": [
    "birth_month = months[10]\n",
    "print(birth_month)"
   ]
  },
  {
   "cell_type": "markdown",
   "metadata": {
    "id": "ZHhAZJdDdq3r"
   },
   "source": [
    "4. Create a dictionary using months of the year as keys, and days in each month as values. Make sure to use the same names as in the list. Assign it to `days_per_month`.\n"
   ]
  },
  {
   "cell_type": "code",
   "execution_count": 79,
   "metadata": {
    "id": "L_YTzyaPdstN"
   },
   "outputs": [
    {
     "name": "stdout",
     "output_type": "stream",
     "text": [
      "{'Jan': 31, 'Feb': 29, 'Mar': 31, 'Abr': 30, 'May': 31, 'Jun': 30, 'Jul': 31, 'Agu': 31, 'Sep': 30, 'Oct': 31, 'Nov': 30, 'Dec': 31}\n"
     ]
    }
   ],
   "source": [
    "days = [31,29,31,30,31,30,31,31,30,31,30,31]\n",
    "\n",
    "days_per_month =  dict(zip(months, days))\n",
    "\n",
    "print(days_per_month)"
   ]
  },
  {
   "cell_type": "markdown",
   "metadata": {
    "id": "mfwrMAaSdtpm"
   },
   "source": [
    "5. Using the dictionary and the list in a single instruction, print out the number of days in your birth month."
   ]
  },
  {
   "cell_type": "code",
   "execution_count": 84,
   "metadata": {
    "id": "BjMC1aY7duQk"
   },
   "outputs": [
    {
     "name": "stdout",
     "output_type": "stream",
     "text": [
      "My birth month has 30 days\n"
     ]
    }
   ],
   "source": [
    "print('My birth month has', days_per_month['Nov'],'days')"
   ]
  }
 ],
 "metadata": {
  "colab": {
   "collapsed_sections": [],
   "name": "Day 1-Python bootcamp.ipynb",
   "provenance": []
  },
  "kernelspec": {
   "display_name": "Python 3",
   "language": "python",
   "name": "python3"
  },
  "language_info": {
   "codemirror_mode": {
    "name": "ipython",
    "version": 3
   },
   "file_extension": ".py",
   "mimetype": "text/x-python",
   "name": "python",
   "nbconvert_exporter": "python",
   "pygments_lexer": "ipython3",
   "version": "3.8.5"
  }
 },
 "nbformat": 4,
 "nbformat_minor": 1
}
