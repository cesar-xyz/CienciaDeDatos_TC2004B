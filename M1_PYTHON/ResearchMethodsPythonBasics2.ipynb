{
 "cells": [
  {
   "cell_type": "markdown",
   "metadata": {},
   "source": [
    "# Introduction to Python3 Programming Language"
   ]
  },
  {
   "cell_type": "markdown",
   "metadata": {},
   "source": [
    "## Built-in functions"
   ]
  },
  {
   "cell_type": "code",
   "execution_count": null,
   "metadata": {
    "collapsed": true
   },
   "outputs": [],
   "source": [
    "max(36.7, 23.4)"
   ]
  },
  {
   "cell_type": "code",
   "execution_count": null,
   "metadata": {
    "collapsed": true
   },
   "outputs": [],
   "source": [
    "max(8.34, 8.25, 8.35, 8.42)"
   ]
  },
  {
   "cell_type": "code",
   "execution_count": null,
   "metadata": {
    "collapsed": true,
    "scrolled": false
   },
   "outputs": [],
   "source": [
    "# List built-in functions\n",
    "dir(__builtins__)"
   ]
  },
  {
   "cell_type": "code",
   "execution_count": null,
   "metadata": {
    "collapsed": true
   },
   "outputs": [],
   "source": [
    "# built-in fuctions help\n",
    "help(abs)"
   ]
  },
  {
   "cell_type": "code",
   "execution_count": null,
   "metadata": {
    "collapsed": true
   },
   "outputs": [],
   "source": [
    "abs(-5)"
   ]
  },
  {
   "cell_type": "code",
   "execution_count": null,
   "metadata": {
    "collapsed": true
   },
   "outputs": [],
   "source": [
    "help(pow)\n",
    "pow(3,2)"
   ]
  },
  {
   "cell_type": "markdown",
   "metadata": {},
   "source": [
    "## Function definition"
   ]
  },
  {
   "cell_type": "code",
   "execution_count": null,
   "metadata": {
    "collapsed": true
   },
   "outputs": [],
   "source": [
    "def f(x):\n",
    "    return x ** 2"
   ]
  },
  {
   "cell_type": "code",
   "execution_count": null,
   "metadata": {
    "collapsed": true
   },
   "outputs": [],
   "source": [
    "f(5)"
   ]
  },
  {
   "cell_type": "code",
   "execution_count": null,
   "metadata": {
    "collapsed": true
   },
   "outputs": [],
   "source": [
    "result = f(5)\n",
    "result"
   ]
  },
  {
   "cell_type": "code",
   "execution_count": 1,
   "metadata": {},
   "outputs": [
    {
     "data": {
      "text/plain": [
       "6.0"
      ]
     },
     "execution_count": 1,
     "metadata": {},
     "output_type": "execute_result"
    }
   ],
   "source": [
    "def area(base, height):\n",
    "    return base * height / 2\n",
    "area(3, 4)"
   ]
  },
  {
   "cell_type": "code",
   "execution_count": 2,
   "metadata": {},
   "outputs": [
    {
     "data": {
      "text/plain": [
       "37.25"
      ]
     },
     "execution_count": 2,
     "metadata": {},
     "output_type": "execute_result"
    }
   ],
   "source": [
    "area(10, 7.45)"
   ]
  },
  {
   "cell_type": "code",
   "execution_count": 3,
   "metadata": {},
   "outputs": [
    {
     "data": {
      "text/plain": [
       "12"
      ]
     },
     "execution_count": 3,
     "metadata": {},
     "output_type": "execute_result"
    }
   ],
   "source": [
    "def perimeter(side1, side2, side3):\n",
    "    return side1 + side2 + side3\n",
    "perimeter(3, 4, 5)"
   ]
  },
  {
   "cell_type": "markdown",
   "metadata": {},
   "source": [
    "**NOTE:** Have a look at [python tutor](http://pythontutor.com/) to visualize the management of memory"
   ]
  },
  {
   "cell_type": "markdown",
   "metadata": {},
   "source": [
    "## Design of a function"
   ]
  },
  {
   "cell_type": "code",
   "execution_count": 4,
   "metadata": {},
   "outputs": [
    {
     "name": "stdout",
     "output_type": "stream",
     "text": [
      "Help on built-in function abs in module builtins:\n",
      "\n",
      "abs(x, /)\n",
      "    Return the absolute value of the argument.\n",
      "\n"
     ]
    }
   ],
   "source": [
    "help(abs)"
   ]
  },
  {
   "cell_type": "code",
   "execution_count": 5,
   "metadata": {},
   "outputs": [],
   "source": [
    "def area(base, height):             # Header\n",
    "    '''(number, number) -> number   # Type contract\n",
    "    \n",
    "    Return the area of a triangle\n",
    "    using base and height.          # Description \n",
    "    \n",
    "    >>> area(10,5)                  # Examples \n",
    "    25.0\n",
    "    >>> area(2.5, 3)\n",
    "    3.75\n",
    "    '''\n",
    "    return base * height / 2        # Body"
   ]
  },
  {
   "cell_type": "code",
   "execution_count": 6,
   "metadata": {},
   "outputs": [
    {
     "name": "stdout",
     "output_type": "stream",
     "text": [
      "Help on function area in module __main__:\n",
      "\n",
      "area(base, height)\n",
      "    (number, number) -> number   # Type contract\n",
      "    \n",
      "    Return the area of a triangle\n",
      "    using base and height.          # Description \n",
      "    \n",
      "    >>> area(10,5)                  # Examples \n",
      "    25.0\n",
      "    >>> area(2.5, 3)\n",
      "    3.75\n",
      "\n"
     ]
    }
   ],
   "source": [
    "help(area)"
   ]
  },
  {
   "cell_type": "code",
   "execution_count": 7,
   "metadata": {},
   "outputs": [],
   "source": [
    "def convert_to_celsius(fahrenheit):\n",
    "    '''(number)-> float\n",
    "    \n",
    "    Return the number of Celsius degrees equivalente to \n",
    "    fahrenheit\n",
    "    \n",
    "    >>> convert_to_celsius(32)\n",
    "    0.0\n",
    "    >>> convert_to_celsius(212)\n",
    "    100.0\n",
    "    '''\n",
    "    return (fahrenheit - 32) * 5 / 9"
   ]
  },
  {
   "cell_type": "code",
   "execution_count": null,
   "metadata": {
    "collapsed": true
   },
   "outputs": [],
   "source": [
    "convert_to_celsius(32)"
   ]
  },
  {
   "cell_type": "code",
   "execution_count": null,
   "metadata": {
    "collapsed": true
   },
   "outputs": [],
   "source": [
    "convert_to_celsius(212)"
   ]
  },
  {
   "cell_type": "code",
   "execution_count": null,
   "metadata": {
    "collapsed": true
   },
   "outputs": [],
   "source": [
    "help(convert_to_celsius)"
   ]
  },
  {
   "cell_type": "code",
   "execution_count": null,
   "metadata": {
    "collapsed": true
   },
   "outputs": [],
   "source": [
    "def perimeter(side1, side2, side3):\n",
    "    '''(number, number, number) -> number\n",
    "    \n",
    "    Return the perimeter of the triangle with sides of\n",
    "    length side1, side2 and side3.\n",
    "    \n",
    "    >>> perimeter(3, 4, 5)\n",
    "    12\n",
    "    >>> perimeter(10.5, 6, 9.3)\n",
    "    25.8\n",
    "    '''\n",
    "    return side1 + side2 + side3"
   ]
  },
  {
   "cell_type": "code",
   "execution_count": null,
   "metadata": {
    "collapsed": true
   },
   "outputs": [],
   "source": [
    "perimeter(3, 4, 5)"
   ]
  },
  {
   "cell_type": "code",
   "execution_count": null,
   "metadata": {
    "collapsed": true
   },
   "outputs": [],
   "source": [
    "perimeter (10.5, 6, 9.3)"
   ]
  },
  {
   "cell_type": "code",
   "execution_count": null,
   "metadata": {
    "collapsed": true
   },
   "outputs": [],
   "source": [
    "def semiperimeter(side1, side2, side3):\n",
    "    ''' (number, number, number) -> float\n",
    "    \n",
    "    Return the semiperimeter of a triangle with sides of\n",
    "    length side1, side2, side3.\n",
    "    \n",
    "    >>> semiperimeter(3, 4, 5)\n",
    "    6.0\n",
    "    >>> semiperimeter(10.5, 6, 9.3)\n",
    "    12.9\n",
    "    '''\n",
    "    \n",
    "    return perimeter(side1, side2, side3)/2"
   ]
  },
  {
   "cell_type": "code",
   "execution_count": null,
   "metadata": {
    "collapsed": true
   },
   "outputs": [],
   "source": [
    "semiperimeter(3,4,5)"
   ]
  },
  {
   "cell_type": "code",
   "execution_count": null,
   "metadata": {
    "collapsed": true
   },
   "outputs": [],
   "source": [
    "semiperimeter(10.5, 6, 9.5)"
   ]
  },
  {
   "cell_type": "code",
   "execution_count": null,
   "metadata": {
    "collapsed": true
   },
   "outputs": [],
   "source": [
    "max(area(3.8, 7.0), area(3.5, 6.8))"
   ]
  },
  {
   "cell_type": "markdown",
   "metadata": {},
   "source": [
    "## Funciones no predefinidas (non-built-in functions)"
   ]
  },
  {
   "cell_type": "code",
   "execution_count": null,
   "metadata": {
    "collapsed": true
   },
   "outputs": [],
   "source": [
    "import math\n",
    "dir(math)"
   ]
  },
  {
   "cell_type": "code",
   "execution_count": null,
   "metadata": {
    "collapsed": true
   },
   "outputs": [],
   "source": [
    "help(math.sqrt)"
   ]
  },
  {
   "cell_type": "markdown",
   "metadata": {},
   "source": [
    "**Example:** The perimeter of a triangle can be computed using the Heron method: $\\sqrt{s(s-s_1)(s-s_2)(s-s_3)}$ where $s$ is the semiperimeter and $s_1,s_2,s_3$ are the sides. "
   ]
  },
  {
   "cell_type": "code",
   "execution_count": null,
   "metadata": {
    "collapsed": true
   },
   "outputs": [],
   "source": [
    "def perimeter(side1, side2, side3):\n",
    "    '''(number, number, number) -> number\n",
    "    \n",
    "    Return the perimeter of the triangle with sides of\n",
    "    length side1, side2 and side3.\n",
    "    \n",
    "    >>> perimeter(3, 4, 5)\n",
    "    12\n",
    "    >>> perimeter(10.5, 6, 9.3)\n",
    "    25.8\n",
    "    '''\n",
    "    return side1 + side2 + side3 "
   ]
  },
  {
   "cell_type": "code",
   "execution_count": null,
   "metadata": {
    "collapsed": true
   },
   "outputs": [],
   "source": [
    "def semiperimeter(side1, side2, side3):\n",
    "    ''' (number, number, number) -> float\n",
    "    \n",
    "    Return the semiperimeter of a triangle with sides of\n",
    "    length side1, side2, side3.\n",
    "    \n",
    "    >>> semiperimeter(3, 4, 5)\n",
    "    6.0\n",
    "    >>> semiperimeter(10.5, 6, 9.3)\n",
    "    12.9\n",
    "    '''\n",
    "    \n",
    "    return perimeter(side1, side2, side3)/2"
   ]
  },
  {
   "cell_type": "code",
   "execution_count": null,
   "metadata": {
    "collapsed": true
   },
   "outputs": [],
   "source": [
    "def area_heron(side1, side2, side3):\n",
    "    '''(number, number, number) -> float\n",
    "    \n",
    "    Return the area of a trinagle with sides of length\n",
    "    side1, side2, side3.\n",
    "    \n",
    "    >>> area_heron(3, 4, 5)\n",
    "    6.0\n",
    "    >>> area_heron(10.5, 6, 9.3)\n",
    "    27.73168584850189\n",
    "    '''\n",
    "    \n",
    "    semi = semiperimeter(side1, side2, side3)\n",
    "    area = math.sqrt(semi * (semi - side1) * (semi - side2) * (semi - side3))\n",
    "    return area"
   ]
  },
  {
   "cell_type": "code",
   "execution_count": null,
   "metadata": {
    "collapsed": true
   },
   "outputs": [],
   "source": [
    "area_heron(3, 4, 5)"
   ]
  },
  {
   "cell_type": "code",
   "execution_count": null,
   "metadata": {
    "collapsed": true
   },
   "outputs": [],
   "source": [
    "area_heron(10.5, 6, 9.3)"
   ]
  },
  {
   "cell_type": "markdown",
   "metadata": {},
   "source": [
    "## Control Structures"
   ]
  },
  {
   "cell_type": "markdown",
   "metadata": {},
   "source": [
    "### Selection"
   ]
  },
  {
   "cell_type": "code",
   "execution_count": null,
   "metadata": {
    "collapsed": true
   },
   "outputs": [],
   "source": [
    "def report_status(scheduled_time, estimated_time):\n",
    "    '''(number, number) -> str\n",
    "    \n",
    "    Return the flight status(on time, early, delayed)\n",
    "    for a flight that was scheduled to arrive at\n",
    "    scheduled-time, but is now estimated to arrive at estimated_time.\n",
    "    \n",
    "    Pre-condition: 0.0 <= scheduled_time < 24 and \n",
    "    0.0 <= estimated_time < 24\n",
    "    \n",
    "    >>> report_status(14.3, 14.3)\n",
    "    'on time'\n",
    "    >>> report_status(12.5, 11.5)\n",
    "    'on time'\n",
    "    >>> report_status(9.0, 9.5)\n",
    "    'on time'\n",
    "    '''\n",
    "    if scheduled_time == estimated_time:\n",
    "        return 'on time'\n",
    "    elif scheduled_time > estimated_time:\n",
    "        return 'early'\n",
    "    else:\n",
    "        return 'delayed'"
   ]
  },
  {
   "cell_type": "code",
   "execution_count": null,
   "metadata": {
    "collapsed": true
   },
   "outputs": [],
   "source": [
    "help(report_status)"
   ]
  },
  {
   "cell_type": "code",
   "execution_count": null,
   "metadata": {},
   "outputs": [],
   "source": [
    "report_status(14.3, 14.3)"
   ]
  },
  {
   "cell_type": "code",
   "execution_count": null,
   "metadata": {},
   "outputs": [],
   "source": [
    "report_status(12.5, 11.5)"
   ]
  },
  {
   "cell_type": "code",
   "execution_count": null,
   "metadata": {
    "collapsed": true
   },
   "outputs": [],
   "source": [
    "report_status(9.0, 9.5)"
   ]
  },
  {
   "cell_type": "code",
   "execution_count": null,
   "metadata": {
    "collapsed": true
   },
   "outputs": [],
   "source": [
    "def is_even(num):\n",
    "    '''(int) -> bool\n",
    "    \n",
    "    Return whether num is even.\n",
    "    \n",
    "    >>> is_even(4)\n",
    "    True\n",
    "    >>> is_even(77)\n",
    "    False\n",
    "    '''\n",
    "    \n",
    "    return num % 2 == 0\n",
    "    \n",
    "    # if num % 2 == 0:\n",
    "    #    return True\n",
    "    # else:\n",
    "    #    return False"
   ]
  },
  {
   "cell_type": "code",
   "execution_count": null,
   "metadata": {},
   "outputs": [],
   "source": [
    "is_even(4)"
   ]
  },
  {
   "cell_type": "code",
   "execution_count": null,
   "metadata": {},
   "outputs": [],
   "source": [
    "is_even(77)"
   ]
  },
  {
   "cell_type": "markdown",
   "metadata": {},
   "source": [
    "### Iteration"
   ]
  },
  {
   "cell_type": "code",
   "execution_count": null,
   "metadata": {
    "collapsed": true
   },
   "outputs": [],
   "source": [
    "s = \"Hi my friend!\""
   ]
  },
  {
   "cell_type": "code",
   "execution_count": null,
   "metadata": {},
   "outputs": [],
   "source": [
    "for char in s:\n",
    "    print(char)"
   ]
  },
  {
   "cell_type": "code",
   "execution_count": null,
   "metadata": {
    "collapsed": true
   },
   "outputs": [],
   "source": [
    "def count_vowels(s):\n",
    "    ''' (str) -> int\n",
    "    \n",
    "    Return the number of vowels in s. Do not treat\n",
    "    the letter y as a vowel\n",
    "    \n",
    "    >>> count_vowels('Happy Anniversary!')\n",
    "    5\n",
    "    >>> count_vowels('xyz')\n",
    "    0\n",
    "    '''\n",
    "    num_vowels = 0\n",
    "    for char in s:\n",
    "        if char in 'aeiouAEIOU':\n",
    "            num_vowels = num_vowels + 1\n",
    "    \n",
    "    return num_vowels"
   ]
  },
  {
   "cell_type": "code",
   "execution_count": null,
   "metadata": {},
   "outputs": [],
   "source": [
    "count_vowels('Happy Anniversary!')"
   ]
  },
  {
   "cell_type": "code",
   "execution_count": null,
   "metadata": {},
   "outputs": [],
   "source": [
    "count_vowels('xyz')"
   ]
  },
  {
   "cell_type": "code",
   "execution_count": null,
   "metadata": {
    "collapsed": true
   },
   "outputs": [],
   "source": [
    "def colect_vowels(s):\n",
    "    ''' (str) -> str\n",
    "    \n",
    "    Return the vowels from s. Do not treat\n",
    "    the letter y as a vowel\n",
    "    \n",
    "    >>> count_vowels('Happy Anniversary!')\n",
    "    aAiea\n",
    "    >>> count_vowels('xyz')\n",
    "    0\n",
    "    '''\n",
    "    vowels = ''\n",
    "    for char in s:\n",
    "        if char in 'aeiouAEIOU':\n",
    "            vowels = vowels + char\n",
    "    \n",
    "    return vowels"
   ]
  },
  {
   "cell_type": "code",
   "execution_count": null,
   "metadata": {},
   "outputs": [],
   "source": [
    "colect_vowels('Happy Anniversary!')"
   ]
  },
  {
   "cell_type": "code",
   "execution_count": null,
   "metadata": {},
   "outputs": [],
   "source": [
    "colect_vowels('xyz')"
   ]
  },
  {
   "cell_type": "code",
   "execution_count": null,
   "metadata": {},
   "outputs": [],
   "source": [
    "num = 2\n",
    "while num < 100:\n",
    "    num = num * 2\n",
    "    print(num)"
   ]
  },
  {
   "cell_type": "code",
   "execution_count": null,
   "metadata": {},
   "outputs": [],
   "source": [
    "num = 10\n",
    "while num < 100:\n",
    "    num = num * 2\n",
    "    print(num)"
   ]
  },
  {
   "cell_type": "code",
   "execution_count": null,
   "metadata": {},
   "outputs": [],
   "source": [
    "s = 'Hello'\n",
    "for char in s:\n",
    "    print(char)"
   ]
  },
  {
   "cell_type": "code",
   "execution_count": null,
   "metadata": {},
   "outputs": [],
   "source": [
    "i = 0\n",
    "while not(s[i] in 'aeiouAEIOU'):\n",
    "    print(s[i])\n",
    "    i = i + 1 "
   ]
  },
  {
   "cell_type": "code",
   "execution_count": null,
   "metadata": {},
   "outputs": [],
   "source": [
    "s = 'there'\n",
    "i = 0\n",
    "while not(s[i] in 'aeiouAEIOU'):\n",
    "    print(s[i])\n",
    "    i = i + 1"
   ]
  },
  {
   "cell_type": "code",
   "execution_count": null,
   "metadata": {},
   "outputs": [],
   "source": [
    "s = 'xyz'\n",
    "i = 0\n",
    "while not(s[i] in 'aeiouAEIOU'):\n",
    "    print(s[i])   # error: index out of rage\n",
    "    i = i + 1\n"
   ]
  },
  {
   "cell_type": "code",
   "execution_count": null,
   "metadata": {},
   "outputs": [],
   "source": [
    "i = 0\n",
    "s = 'xyz'\n",
    "while i < len(s) and not (s[i] in 'aeiouAEIOU'):\n",
    "    print (s[i])\n",
    "    i = i+1"
   ]
  },
  {
   "cell_type": "code",
   "execution_count": null,
   "metadata": {
    "collapsed": true
   },
   "outputs": [],
   "source": [
    "def up_to_vowel(s):\n",
    "    ''' (str) -> str\n",
    "    \n",
    "    Return a substring of s from index 0 up to but\n",
    "    not including the first vowel in s.\n",
    "    \n",
    "    >>> up_to_vowel('hello')\n",
    "    'h'\n",
    "    >>> up_to_vowel('there')\n",
    "    'th'\n",
    "    >>> up_to_vowel('cs')\n",
    "    'cs'\n",
    "    '''\n",
    "    \n",
    "    # before_vowel contains all the characters found in s[0:1].\n",
    "    before_vowel = ''\n",
    "    i = 0\n",
    "    \n",
    "    # Accumulate the non-vowels at the beginning of the string.\n",
    "    while i < len(s) and not(s[i] in 'aeiouAEIOU'):\n",
    "        before_vowel = before_vowel + s[i]\n",
    "        i = i + 1\n",
    "    \n",
    "    return before_vowel"
   ]
  },
  {
   "cell_type": "code",
   "execution_count": null,
   "metadata": {},
   "outputs": [],
   "source": [
    "up_to_vowel('Hello')"
   ]
  },
  {
   "cell_type": "code",
   "execution_count": null,
   "metadata": {},
   "outputs": [],
   "source": [
    "up_to_vowel('there')"
   ]
  },
  {
   "cell_type": "code",
   "execution_count": null,
   "metadata": {},
   "outputs": [],
   "source": [
    "up_to_vowel('cs')"
   ]
  },
  {
   "cell_type": "code",
   "execution_count": null,
   "metadata": {
    "collapsed": true
   },
   "outputs": [],
   "source": [
    "def get_answer(prompt):\n",
    "    ''' (str) -> str\n",
    "    \n",
    "    Use prompt to ask the user for a \"yes\" or \"no\"\n",
    "    answer and continue asking until the user gives\n",
    "    a valid response. Return the answer.\n",
    "    '''\n",
    "    answer = input (prompt)\n",
    "    while not (answer == 'yes' or answer == 'no'):\n",
    "        answer = input(prompt)\n",
    "        \n",
    "    return answer"
   ]
  },
  {
   "cell_type": "code",
   "execution_count": null,
   "metadata": {},
   "outputs": [],
   "source": [
    "get_answer(\"Are you tired? Answer yes or no. \")"
   ]
  }
 ],
 "metadata": {
  "kernelspec": {
   "display_name": "Python 3",
   "language": "python",
   "name": "python3"
  },
  "language_info": {
   "codemirror_mode": {
    "name": "ipython",
    "version": 3
   },
   "file_extension": ".py",
   "mimetype": "text/x-python",
   "name": "python",
   "nbconvert_exporter": "python",
   "pygments_lexer": "ipython3",
   "version": "3.8.5"
  },
  "widgets": {
   "state": {},
   "version": "1.1.2"
  }
 },
 "nbformat": 4,
 "nbformat_minor": 1
}
